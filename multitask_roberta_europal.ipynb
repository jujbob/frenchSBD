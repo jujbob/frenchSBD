{
 "cells": [
  {
   "cell_type": "markdown",
   "metadata": {},
   "source": [
    "# Sentence Boundary detection with NER features"
   ]
  },
  {
   "cell_type": "code",
   "execution_count": 1,
   "metadata": {},
   "outputs": [],
   "source": [
    "import os\n",
    "os.environ[\"CUDA_DEVICE_ORDER\"]=\"PCI_BUS_ID\"   # see issue #152\n",
    "os.environ[\"CUDA_VISIBLE_DEVICES\"]=\"0\""
   ]
  },
  {
   "cell_type": "code",
   "execution_count": 2,
   "metadata": {},
   "outputs": [
    {
     "name": "stderr",
     "output_type": "stream",
     "text": [
      "2022-01-07 07:48:21.799144: I tensorflow/stream_executor/platform/default/dso_loader.cc:53] Successfully opened dynamic library libcudart.so.11.0\n"
     ]
    }
   ],
   "source": [
    "import torch\n",
    "import pandas as pd\n",
    "import numpy as np\n",
    "import transformers\n",
    "from tqdm import tqdm\n",
    "import csv"
   ]
  },
  {
   "cell_type": "code",
   "execution_count": 3,
   "metadata": {},
   "outputs": [],
   "source": [
    "def set_newline_to_EOS(file_r, file_w, eos=\"\\n\"):\n",
    "    with open(file_w, 'w', encoding=\"UTF-8\") as fw:\n",
    "        with open(file_r, 'r', encoding=\"UTF-8\") as fr:\n",
    "            while True:\n",
    "                line = fr.readline()\n",
    "                if not line: break\n",
    "                if line == eos:\n",
    "                    fw.write(\"<EOS>\\t<EOS>\\t<EOS>\\t<EOS>\\n\")\n",
    "                else:\n",
    "                    fw.write(line)\n",
    "                    \n",
    "def set_sentence_num(df): \n",
    "\n",
    "    sent_num = 0\n",
    "    df['sent_num'] = sent_num\n",
    "    for idx in range(len(df)):\n",
    "        df['sent_num'][idx] = sent_num\n",
    "        #if df[0][idx]=='.' and df[1][idx]==\"SENT\":\n",
    "        if df[0][idx]=='<EOS>' and df[1][idx]==\"<EOS>\":\n",
    "            sent_num +=1\n",
    "    df.head()\n",
    "    df = df[df[0] != \"<EOS>\"] #get rid of the \"<EOS>\" toekns\n",
    "    print(sent_num)\n",
    "    \n",
    "    return df\n",
    "\n",
    "\n",
    "train_file = './data/train.tsv'\n",
    "test_file = './data/test.tsv'\n",
    "#test_file = './data_v1/europarl-sbd-eval.tsv'\n",
    "train_EOS_file = './data/train_EOS.tsv'\n",
    "test_EOS_file = './data/test_EOS.tsv'\n",
    "#test_EOS_file = './data_v1/europarl-sbd-eval_EOS.tsv'\n",
    "\n",
    "set_newline_to_EOS(train_file, train_EOS_file, eos=\"\\n\")\n",
    "set_newline_to_EOS(test_file, test_EOS_file, eos=\"\\n\")\n",
    "#set_newline_to_EOS(test_file, test_EOS_file, eos=\"\\t\\n\")\n",
    "train_file = train_EOS_file\n",
    "test_file = test_EOS_file"
   ]
  },
  {
   "cell_type": "code",
   "execution_count": 4,
   "metadata": {},
   "outputs": [
    {
     "data": {
      "text/html": [
       "<div>\n",
       "<style scoped>\n",
       "    .dataframe tbody tr th:only-of-type {\n",
       "        vertical-align: middle;\n",
       "    }\n",
       "\n",
       "    .dataframe tbody tr th {\n",
       "        vertical-align: top;\n",
       "    }\n",
       "\n",
       "    .dataframe thead th {\n",
       "        text-align: right;\n",
       "    }\n",
       "</style>\n",
       "<table border=\"1\" class=\"dataframe\">\n",
       "  <thead>\n",
       "    <tr style=\"text-align: right;\">\n",
       "      <th></th>\n",
       "      <th>0</th>\n",
       "      <th>1</th>\n",
       "      <th>2</th>\n",
       "      <th>3</th>\n",
       "    </tr>\n",
       "  </thead>\n",
       "  <tbody>\n",
       "    <tr>\n",
       "      <th>0</th>\n",
       "      <td>La</td>\n",
       "      <td>DET:ART</td>\n",
       "      <td>O</td>\n",
       "      <td>B-SENT</td>\n",
       "    </tr>\n",
       "    <tr>\n",
       "      <th>1</th>\n",
       "      <td>cérémonie</td>\n",
       "      <td>NOM</td>\n",
       "      <td>O</td>\n",
       "      <td>O</td>\n",
       "    </tr>\n",
       "    <tr>\n",
       "      <th>2</th>\n",
       "      <td>aura</td>\n",
       "      <td>VER:futu</td>\n",
       "      <td>O</td>\n",
       "      <td>O</td>\n",
       "    </tr>\n",
       "    <tr>\n",
       "      <th>3</th>\n",
       "      <td>lieu</td>\n",
       "      <td>NOM</td>\n",
       "      <td>O</td>\n",
       "      <td>O</td>\n",
       "    </tr>\n",
       "    <tr>\n",
       "      <th>4</th>\n",
       "      <td>le</td>\n",
       "      <td>DET:ART</td>\n",
       "      <td>O</td>\n",
       "      <td>O</td>\n",
       "    </tr>\n",
       "  </tbody>\n",
       "</table>\n",
       "</div>"
      ],
      "text/plain": [
       "           0         1  2       3\n",
       "0         La   DET:ART  O  B-SENT\n",
       "1  cérémonie       NOM  O       O\n",
       "2       aura  VER:futu  O       O\n",
       "3       lieu       NOM  O       O\n",
       "4         le   DET:ART  O       O"
      ]
     },
     "execution_count": 4,
     "metadata": {},
     "output_type": "execute_result"
    }
   ],
   "source": [
    "train_df = pd.read_csv(train_file, delimiter='\\t', engine='python', encoding='UTF-8', error_bad_lines=False, header=None, quoting=csv.QUOTE_NONE)\n",
    "train_df.head()\n",
    "test_df = pd.read_csv(test_file, delimiter='\\t', engine='python', encoding='UTF-8', error_bad_lines=False, header=None, quoting=csv.QUOTE_NONE)\n",
    "test_df.head()"
   ]
  },
  {
   "cell_type": "code",
   "execution_count": 5,
   "metadata": {
    "scrolled": false
   },
   "outputs": [
    {
     "name": "stderr",
     "output_type": "stream",
     "text": [
      "/opt/anaconda3/lib/python3.7/site-packages/ipykernel_launcher.py:17: SettingWithCopyWarning: \n",
      "A value is trying to be set on a copy of a slice from a DataFrame\n",
      "\n",
      "See the caveats in the documentation: https://pandas.pydata.org/pandas-docs/stable/user_guide/indexing.html#returning-a-view-versus-a-copy\n"
     ]
    },
    {
     "name": "stdout",
     "output_type": "stream",
     "text": [
      "29100\n",
      "2593\n"
     ]
    }
   ],
   "source": [
    "train_df = set_sentence_num(train_df)\n",
    "test_df = set_sentence_num(test_df)"
   ]
  },
  {
   "cell_type": "code",
   "execution_count": 6,
   "metadata": {},
   "outputs": [],
   "source": [
    "train_df = train_df[train_df['sent_num'] < 1000000]\n",
    "test_df = test_df[test_df['sent_num'] < 10000]"
   ]
  },
  {
   "cell_type": "code",
   "execution_count": 7,
   "metadata": {},
   "outputs": [
    {
     "name": "stdout",
     "output_type": "stream",
     "text": [
      "Les Sables-d'Olonne La Chaume Philippe et Véronique Taillier , son neveu et sa nièce ; Anne Nguyen , Albert et Chantal Merlin , son beau-frère et sa belle-soeur , ont la tristesse de vous faire part du décès de Monsieur Serge SALIS survenu le 26 novembre 2014 , à l' âge de 82 ans .\n"
     ]
    }
   ],
   "source": [
    "sentence = train_df[train_df['sent_num']==0]\n",
    "token_list =  ' '.join([token for token in sentence[0]])\n",
    "print(token_list)"
   ]
  },
  {
   "cell_type": "code",
   "execution_count": 8,
   "metadata": {},
   "outputs": [],
   "source": [
    "class FSBDataset():\n",
    "    def __init__(self, data, tokenizer, max_length):\n",
    "        self.data = data\n",
    "        self.tokenizer = tokenizer\n",
    "        self.max_length = max_length\n",
    "        self.idxtob = {'B-SENT': 1}\n",
    "        self.idxtoPOS = {'DET:ART': 0,'NAM': 1,'KON': 2,'PUN': 3,'DET:POS': 4,'NOM': 5,'VER:pres': 6,'PRP': 7,'PRO:PER': 8,'VER:infi': 9,'PRP:det': 10,'VER:simp': 11,'VER:pper': 12,'NUM': 13,'SENT': 14,'ABR': 15,'VER:futu': 16,'PRO:DEM': 17,'ADJ': 18,\n",
    " 'PRO:REL': 19,'PRO:IND': 20,'ADV': 21,'SYM': 22,'PUN:cit': 23,'VER:impf': 24,'VER:subp': 25,'VER:subi': 26,'VER:ppre': 27,'VER:cond': 28,'PRO:POS': 29,'VER:impe': 30}\n",
    "        self.idxtoNER = {'I-LOC': 0, 'I-PER': 1, 'O': 2, 'I-ORG': 3}\n",
    "        \n",
    "    def __len__(self):\n",
    "        return self.data['sent_num'].max()\n",
    "    \n",
    "    def __getitem__(self, item):\n",
    "        \n",
    "        sentence = self.data[self.data['sent_num']==item]\n",
    "        token_list =  [token for token in sentence[0]]\n",
    "        sbd_list =  [target for target in sentence[3]]\n",
    "        pos_list =  [target for target in sentence[1]]\n",
    "        ner_list =  [target for target in sentence[2]]\n",
    "        \n",
    "        #target_ids_list =  [1 if token==\"B-SENT\" else 0 for token in sentence[3]]\n",
    "        #pos_ids = [self.idxtoPOS.get(pos) for pos in sentence[1]]\n",
    "        #ner_ids = [self.idxtoNER.get(ner) for ner in sentence[2]]\n",
    "        \n",
    "        encoded = self.tokenizer.encode_plus(' '.join(token_list),\n",
    "                                            None,\n",
    "                                            add_special_tokens=True,\n",
    "                                            max_length=self.max_length,\n",
    "                                            truncation=True,\n",
    "                                            padding='max_length')\n",
    "        \n",
    "        ids = encoded['input_ids']\n",
    "        mask = encoded['attention_mask']\n",
    "        \n",
    "        bpe_head_mask = [0]; sbd_ids = [-1]; pos_ids = [-1]; ner_ids = [-1] # --> CLS token\n",
    "        \n",
    "        for word, sbd, pos, ner in zip(token_list, sbd_list, pos_list, ner_list):\n",
    "            bpe_len = len(self.tokenizer.tokenize(word))\n",
    "            head_mask = [1] + [0]*(bpe_len-1)\n",
    "            bpe_head_mask.extend(head_mask)\n",
    "            \n",
    "            sbd_mask = [self.idxtob.get(sbd,0)] + [-1]*(bpe_len-1)\n",
    "            sbd_ids.extend(sbd_mask)\n",
    "            pos_mask = [self.idxtoPOS.get(pos,0)] + [-1]*(bpe_len-1)\n",
    "            pos_ids.extend(pos_mask)\n",
    "            ner_mask = [self.idxtoNER.get(ner,0)] + [-1]*(bpe_len-1)\n",
    "            ner_ids.extend(ner_mask)\n",
    "            #print(\"head_mask\", head_mask)\n",
    "        \n",
    "        bpe_head_mask.append(0)\n",
    "        bpe_head_mask.extend([0] * (self.max_length - len(bpe_head_mask)))\n",
    "        \n",
    "        sbd_ids.append(-1) # --> END token\n",
    "        sbd_ids.extend([-1] * (self.max_length - len(sbd_ids))) ## --> padding by max_len\n",
    "        pos_ids.append(-1) # --> END token\n",
    "        pos_ids.extend([-1] * (self.max_length - len(pos_ids))) ## --> padding by max_len\n",
    "        ner_ids.append(-1) # --> END token\n",
    "        ner_ids.extend([-1] * (self.max_length - len(ner_ids))) ## --> padding by max_len\n",
    "\n",
    "\n",
    "        return {\n",
    "            'ids': torch.tensor(ids, dtype=torch.long),\n",
    "            'mask': torch.tensor(mask, dtype=torch.long),\n",
    "            'bpe_head_mask': torch.tensor(bpe_head_mask, dtype=torch.long),\n",
    "            'sbd_ids': torch.tensor(sbd_ids, dtype=torch.long),\n",
    "            'pos_ids': torch.tensor(pos_ids, dtype=torch.long),\n",
    "            'ner_ids': torch.tensor(ner_ids, dtype=torch.long)\n",
    "        }\n",
    "        \n",
    "        \n",
    "        \n",
    "        "
   ]
  },
  {
   "cell_type": "code",
   "execution_count": 9,
   "metadata": {},
   "outputs": [],
   "source": [
    "class XLMRobertaBaseline(torch.nn.Module):\n",
    "    def __init__(self):\n",
    "        super(XLMRobertaBaseline, self).__init__()\n",
    "        \n",
    "        self.bert = transformers.XLMRobertaModel.from_pretrained('xlm-roberta-base')\n",
    "        self.dropout = torch.nn.Dropout(0.33)\n",
    "        self.classfier = torch.nn.Linear(768, 2)\n",
    "        \n",
    "        \n",
    "    def forward(self, ids, mask):\n",
    "        \n",
    "        o1, o2 = self.bert(ids, mask)\n",
    "        out = self.dropout(o1)\n",
    "        logits = self.classfier(out)\n",
    "        \n",
    "        return logits\n",
    "        \n",
    "        \n",
    "    \n",
    "class POS(torch.nn.Module):\n",
    "    def __init__(self, num_pos=31):\n",
    "        super(POS, self).__init__()\n",
    "        \n",
    "        self.dropout = torch.nn.Dropout(0.33)\n",
    "        self.classfier = torch.nn.Linear(768, num_pos)\n",
    "        \n",
    "    def forward(self, bert_out):\n",
    "        \n",
    "        o1 = bert_out\n",
    "        out = self.dropout(o1)\n",
    "        logits = self.classfier(out)\n",
    "        \n",
    "        return logits\n",
    "    \n",
    "    \n",
    "class NER(torch.nn.Module):\n",
    "    def __init__(self, num_ner=4):\n",
    "        super(NER, self).__init__()\n",
    "        \n",
    "        self.dropout = torch.nn.Dropout(0.33)\n",
    "        self.classfier = torch.nn.Linear(768, num_ner)\n",
    "        \n",
    "    def forward(self, bert_out):\n",
    "        \n",
    "        o1 = bert_out\n",
    "        out = self.dropout(o1)\n",
    "        logits = self.classfier(out)\n",
    "        \n",
    "        return logits\n",
    "    \n",
    "    \n",
    "class SBD(torch.nn.Module):\n",
    "    def __init__(self, input_dim=768, num_sbd=2):\n",
    "        super(SBD, self).__init__()\n",
    "        \n",
    "        self.dropout = torch.nn.Dropout(0.33)\n",
    "        self.classfier = torch.nn.Linear(input_dim, num_sbd)\n",
    "        \n",
    "    def forward(self, bert_out):\n",
    "        \n",
    "        o1 = bert_out\n",
    "        out = self.dropout(o1)\n",
    "        logits = self.classfier(out)\n",
    "        \n",
    "        return logits\n",
    "    \n",
    "    \n",
    "class XLMRobertaMultiTask(torch.nn.Module):\n",
    "    def __init__(self):\n",
    "        super(XLMRobertaMultiTask, self).__init__()\n",
    "        \n",
    "        num_pos = 31\n",
    "        num_ner = 4\n",
    "        num_sbd = 2\n",
    "        pos_dim = 50\n",
    "        ner_dim = 25\n",
    "        \n",
    "        self.bert = transformers.XLMRobertaModel.from_pretrained('xlm-roberta-base')\n",
    "        \n",
    "        self.pos = POS(num_pos)\n",
    "        self.ner = NER(num_ner)\n",
    "        self.sbd = SBD(num_sbd)\n",
    "        \n",
    "        self.pos_emb = torch.nn.Embedding(num_pos, pos_dim)\n",
    "        self.ner_emb = torch.nn.Embedding(num_ner, ner_dim)\n",
    "        \n",
    "        \n",
    "    def forward(self, ids, mask):\n",
    "        \n",
    "        o1, o2 = self.bert(ids, mask)\n",
    "        out = o1 \n",
    "        \n",
    "        pos_logits = self.pos(out)\n",
    "        ner_logits = self.ner(out)\n",
    "        sbd_logits = self.sbd(out)\n",
    "\n",
    "        \n",
    "        return sbd_logits, pos_logits, ner_logits\n",
    "    \n",
    "    \n",
    "    \n",
    "class XLMRobertaMultiTaskPred(torch.nn.Module):\n",
    "    def __init__(self):\n",
    "        super(XLMRobertaMultiTaskPred, self).__init__()\n",
    "        \n",
    "        num_pos = 31\n",
    "        num_ner = 4\n",
    "        num_sbd = 2\n",
    "        pos_dim = 50\n",
    "        ner_dim = 25\n",
    "        \n",
    "        self.bert = transformers.XLMRobertaModel.from_pretrained('xlm-roberta-base')\n",
    "        \n",
    "        self.pos = POS(num_pos)\n",
    "        self.ner = NER(num_ner)\n",
    "        self.sbd = SBD(768+pos_dim+ner_dim, num_sbd)\n",
    "        \n",
    "        self.pos_emb = torch.nn.Embedding(num_pos, pos_dim)\n",
    "        self.ner_emb = torch.nn.Embedding(num_ner, ner_dim)\n",
    "        \n",
    "        \n",
    "    def forward(self, ids, mask):\n",
    "        \n",
    "        o1, o2 = self.bert(ids, mask)\n",
    "        out = o1 #self.dropout(o1)\n",
    "        \n",
    "        #Step1: predict POS tags for the entire toekns\n",
    "        pos_logits = self.pos(out)\n",
    "        ner_logits = self.ner(out)\n",
    "        \n",
    "        pos_idx = torch.argmax(pos_logits, dim=2)\n",
    "        ner_idx = torch.argmax(ner_logits, dim=2)\n",
    "        \n",
    "        pos_emb = self.pos_emb(pos_idx)\n",
    "        ner_emb = self.ner_emb(ner_idx)\n",
    "\n",
    "        concatenated = torch.cat([out, pos_emb, ner_emb], dim=2)\n",
    "        sbd_logits = self.sbd(concatenated)\n",
    "        \n",
    "        return sbd_logits, pos_logits, ner_logits"
   ]
  },
  {
   "cell_type": "code",
   "execution_count": 10,
   "metadata": {},
   "outputs": [
    {
     "data": {
      "application/vnd.jupyter.widget-view+json": {
       "model_id": "ab7a4bce3ebe4904b4b4a844a195e7d6",
       "version_major": 2,
       "version_minor": 0
      },
      "text/plain": [
       "Downloading:   0%|          | 0.00/5.07M [00:00<?, ?B/s]"
      ]
     },
     "metadata": {},
     "output_type": "display_data"
    }
   ],
   "source": [
    "MAX_LEN = 510\n",
    "tokenizer = transformers.XLMRobertaTokenizer.from_pretrained('xlm-roberta-base')\n",
    "train_dataset = FSBDataset(train_df, tokenizer, MAX_LEN)\n",
    "train_loader = torch.utils.data.DataLoader(train_dataset, shuffle=True, num_workers=4, batch_size=8)\n",
    "test_dataset = FSBDataset(test_df, tokenizer, MAX_LEN)\n",
    "test_loader = torch.utils.data.DataLoader(test_dataset, shuffle=False, num_workers=4, batch_size=6)"
   ]
  },
  {
   "cell_type": "code",
   "execution_count": 11,
   "metadata": {},
   "outputs": [
    {
     "data": {
      "application/vnd.jupyter.widget-view+json": {
       "model_id": "cdc6247a6af84c91810953a39555393f",
       "version_major": 2,
       "version_minor": 0
      },
      "text/plain": [
       "Downloading:   0%|          | 0.00/512 [00:00<?, ?B/s]"
      ]
     },
     "metadata": {},
     "output_type": "display_data"
    },
    {
     "data": {
      "application/vnd.jupyter.widget-view+json": {
       "model_id": "3cde44153a6d43a49b33456a3a7a7396",
       "version_major": 2,
       "version_minor": 0
      },
      "text/plain": [
       "Downloading:   0%|          | 0.00/1.12G [00:00<?, ?B/s]"
      ]
     },
     "metadata": {},
     "output_type": "display_data"
    }
   ],
   "source": [
    "#model = XLMRobertaBaseline()\n",
    "#model = XLMRobertaMultiTask()\n",
    "model = XLMRobertaMultiTaskPred()\n",
    "model = torch.nn.DataParallel(model)\n",
    "model = model.cuda()\n",
    "optimizer = transformers.AdamW(params=model.parameters(), lr=0.000005)\n",
    "loss_fn = torch.nn.CrossEntropyLoss(ignore_index=-1)"
   ]
  },
  {
   "cell_type": "code",
   "execution_count": 12,
   "metadata": {},
   "outputs": [],
   "source": [
    "def f1_score(total_pred, total_targ):\n",
    "    \n",
    "    p = 0 # (retrived SB and real SB) / retrived SB  # The percentage of (the number of correct predictions) / (the number of predction that system predicts as B-SENT)\n",
    "    r = 0\n",
    "    f1= 0\n",
    "\n",
    "    np_total_pred = np.array(total_pred)\n",
    "    np_total_tag = np.array(total_targ)\n",
    "    \n",
    "    #precision\n",
    "    incidence_nopad = np.where(np_total_tag != -1) ## eliminate paddings\n",
    "    #print(\"incidence_nopad\", incidence_nopad)\n",
    "    \n",
    "    np_total_pred_nopad = np_total_pred[incidence_nopad]\n",
    "    np_total_tag_nopad = np_total_tag[incidence_nopad]\n",
    "    \n",
    "    incidence_nopad_sb = np.where(np_total_pred_nopad == 1)\n",
    "    np_total_pred_nopad_sb = np_total_pred_nopad[incidence_nopad_sb]\n",
    "    np_total_tag_nopad_sb = np_total_tag_nopad[incidence_nopad_sb]\n",
    "    \n",
    "    count_active_tokens_p = len(np_total_pred_nopad_sb)\n",
    "    count_correct_p = np.count_nonzero((np_total_pred_nopad_sb==np_total_tag_nopad_sb) == True)\n",
    "    \n",
    "    print(\"count_correct_p\", count_correct_p)\n",
    "    print(\"count_active_tokens_p\", count_active_tokens_p)\n",
    "    \n",
    "    \n",
    "    try:\n",
    "        p = count_correct_p/count_active_tokens_p\n",
    "    except ZeroDivisionError:\n",
    "        p = 0\n",
    "    \n",
    "\n",
    "    print(\"precision:\", p)\n",
    "\n",
    "    \n",
    "    #recall\n",
    "    ids_sb_pred_r = np.where(np_total_tag==1)\n",
    "    np_total_pred_r = np_total_pred[ids_sb_pred_r]\n",
    "    np_total_tag_r = np_total_tag[ids_sb_pred_r]\n",
    "    \n",
    "    count_active_tokens_r = len(np_total_pred_r)\n",
    "    count_correct_r = np.count_nonzero((np_total_pred_r==np_total_tag_r) == True)\n",
    "    \n",
    "    print(\"count_active_tokens_r\", count_active_tokens_r)\n",
    "    print(\"count_correct_r\", count_correct_r)\n",
    "    \n",
    "    \n",
    "    \n",
    "    try:\n",
    "        r = count_correct_r/count_active_tokens_r\n",
    "    except ZeroDivisionError:\n",
    "        r = 0\n",
    "    \n",
    "    print(\"recall:\", r)\n",
    "    \n",
    "    \n",
    "    try:\n",
    "        f1 = 2*(p*r) / (p+r)\n",
    "    except ZeroDivisionError:\n",
    "        f1 = 0\n",
    "    \n",
    "\n",
    "    print(\"F1:\", f1)\n",
    "    \n",
    "    \n",
    "    \n",
    "def ner_f1_score(total_pred, total_targ):\n",
    "    \n",
    "    p = 0 # (retrived SB and real SB) / retrived SB  # The percentage of (the number of correct predictions) / (the number of predction that system predicts as B-SENT)\n",
    "    r = 0\n",
    "    f1= 0\n",
    "\n",
    "    np_total_pred = np.array(total_pred)\n",
    "    np_total_tag = np.array(total_targ)\n",
    "    \n",
    "    #precision\n",
    "    incidence_nopad = np.where(np_total_tag != -1) ## eliminate paddings\n",
    "    #print(\"incidence_nopad\", incidence_nopad)\n",
    "    \n",
    "    np_total_pred_nopad = np_total_pred[incidence_nopad]\n",
    "    np_total_tag_nopad = np_total_tag[incidence_nopad]\n",
    "    \n",
    "    incidence_nopad_sb = np.where((np_total_pred_nopad != -1) & (np_total_pred_nopad != 2)) #np.where(np_total_pred_nopad == 1) \n",
    "    np_total_pred_nopad_sb = np_total_pred_nopad[incidence_nopad_sb]\n",
    "    np_total_tag_nopad_sb = np_total_tag_nopad[incidence_nopad_sb]\n",
    "    \n",
    "    count_active_tokens_p = len(np_total_pred_nopad_sb)\n",
    "    count_correct_p = np.count_nonzero((np_total_pred_nopad_sb==np_total_tag_nopad_sb) == True)\n",
    "    \n",
    "    print(\"count_correct_p\", count_correct_p)\n",
    "    print(\"count_active_tokens_p\", count_active_tokens_p)\n",
    "    \n",
    "    \n",
    "    try:\n",
    "        p = count_correct_p/count_active_tokens_p\n",
    "    except ZeroDivisionError:\n",
    "        p = 0\n",
    "    \n",
    "\n",
    "    print(\"precision:\", p)\n",
    "\n",
    "    \n",
    "    #recall\n",
    "    ids_sb_pred_r = np.where((np_total_tag != -1) & (np_total_tag != 2)) #np.where(np_total_tag==1)\n",
    "    np_total_pred_r = np_total_pred[ids_sb_pred_r]\n",
    "    np_total_tag_r = np_total_tag[ids_sb_pred_r]\n",
    "    \n",
    "    count_active_tokens_r = len(np_total_pred_r)\n",
    "    count_correct_r = np.count_nonzero((np_total_pred_r==np_total_tag_r) == True)\n",
    "    \n",
    "    print(\"count_active_tokens_r\", count_active_tokens_r)\n",
    "    print(\"count_correct_r\", count_correct_r)\n",
    "    \n",
    "    \n",
    "    \n",
    "    try:\n",
    "        r = count_correct_r/count_active_tokens_r\n",
    "    except ZeroDivisionError:\n",
    "        r = 0\n",
    "    \n",
    "    print(\"recall:\", r)\n",
    "    \n",
    "    \n",
    "    try:\n",
    "        f1 = 2*(p*r) / (p+r)\n",
    "    except ZeroDivisionError:\n",
    "        f1 = 0\n",
    "    \n",
    "\n",
    "    print(\"F1:\", f1)\n",
    "    "
   ]
  },
  {
   "cell_type": "code",
   "execution_count": 13,
   "metadata": {},
   "outputs": [],
   "source": [
    "def train_loop_fn(train_loader, model, optimizer, DEVICE=None, scheduler=None, mode=\"all\", s_r=1, p_r=1, n_r=1):\n",
    "    model.train()\n",
    "    \n",
    "    sbd_pred = []\n",
    "    sbd_targ = []\n",
    "    sbd_loss = []\n",
    "    \n",
    "    pos_pred = []\n",
    "    pos_targ = []\n",
    "    pos_loss = []\n",
    "    \n",
    "    ner_pred = []\n",
    "    ner_targ = []\n",
    "    ner_loss = []\n",
    "    \n",
    "    for idx, batch in tqdm(enumerate(train_loader), total=len(train_loader)):\n",
    "        optimizer.zero_grad()\n",
    "\n",
    "        sbd_logits, pos_logits, ner_logits = model(batch['ids'].cuda(), batch['mask'].cuda())\n",
    "        \n",
    "        #if mode = \"all\" or \"sbd\":\n",
    "        b,s,l = sbd_logits.size()\n",
    "        s_loss = loss_fn(sbd_logits.view(b*s,l), batch['sbd_ids'].cuda().view(b*s))\n",
    "        sbd_loss.append(s_loss.item())\n",
    "        sbd_pred.extend(torch.argmax(sbd_logits.view(b*s,l), 1).cpu().tolist())\n",
    "        sbd_targ.extend(batch['sbd_ids'].cuda().view(b*s).cpu().tolist())\n",
    "\n",
    "        b,s,l = pos_logits.size()\n",
    "        p_loss = loss_fn(pos_logits.view(b*s,l), batch['pos_ids'].cuda().view(b*s))\n",
    "        pos_loss.append(p_loss.item())\n",
    "        pos_pred.extend(torch.argmax(pos_logits.view(b*s,l), 1).cpu().tolist())\n",
    "        pos_targ.extend(batch['pos_ids'].cuda().view(b*s).cpu().tolist())\n",
    "        \n",
    "        b,s,l = ner_logits.size()\n",
    "        n_loss = loss_fn(ner_logits.view(b*s,l), batch['ner_ids'].cuda().view(b*s))\n",
    "        ner_loss.append(n_loss.item())\n",
    "        ner_pred.extend(torch.argmax(ner_logits.view(b*s,l), 1).cpu().tolist())\n",
    "        ner_targ.extend(batch['ner_ids'].cuda().view(b*s).cpu().tolist())\n",
    "        \n",
    "        loss = s_r*s_loss + n_r*n_loss + p_r*p_loss\n",
    "        loss.backward()\n",
    "        optimizer.step()\n",
    "        if scheduler is not None:\n",
    "            scheduler.step()\n",
    "            \n",
    "    sbd_count_active_tokens = np.count_nonzero(np.array(sbd_targ) > -1)\n",
    "    sbd_count_correct = np.count_nonzero((np.array(sbd_pred)==np.array(sbd_targ)) == True)\n",
    "    pos_count_active_tokens = np.count_nonzero(np.array(pos_targ) > -1)\n",
    "    pos_count_correct = np.count_nonzero((np.array(pos_pred)==np.array(pos_targ)) == True)\n",
    "    ner_count_active_tokens = np.count_nonzero(np.array(ner_targ) > -1)\n",
    "    ner_count_correct = np.count_nonzero((np.array(ner_pred)==np.array(ner_targ)) == True)\n",
    "    \n",
    "    f1_score(sbd_pred, sbd_targ)\n",
    "    print(\"POS Accuracy:\"+ str(pos_count_correct/pos_count_active_tokens))\n",
    "    print(\"NER Accuracy:\"+ str(ner_count_correct/ner_count_active_tokens))\n",
    "    ner_f1_score(ner_pred, ner_targ)\n",
    "    \n",
    "    #f1_score(total_pred[2:], total_targ[2:])\n",
    "\n",
    "    \n",
    "def dev_loop_fn(dev_loader, model, optimizer, DEVICE=None, scheduler=None):\n",
    "    model.eval()\n",
    "    \n",
    "    sbd_pred = []\n",
    "    sbd_targ = []\n",
    "    sbd_loss = []\n",
    "    sbd_middle_pred = []\n",
    "    sbd_middle_targ = []\n",
    "    \n",
    "    pos_pred = []\n",
    "    pos_targ = []\n",
    "    pos_loss = []\n",
    "    \n",
    "    ner_pred = []\n",
    "    ner_targ = []\n",
    "    ner_loss = []\n",
    "\n",
    "\n",
    "    with torch.no_grad():\n",
    "        for idx, batch in tqdm(enumerate(dev_loader), total=len(dev_loader)):\n",
    "\n",
    "            sbd_logits, pos_logits, ner_logits = model(batch['ids'].cuda(), batch['mask'].cuda())\n",
    "\n",
    "            #if mode = \"all\" or \"sbd\":\n",
    "            b,s,l = sbd_logits.size()\n",
    "            s_loss = loss_fn(sbd_logits.view(b*s,l), batch['sbd_ids'].cuda().view(b*s))\n",
    "            sbd_loss.append(s_loss.item())\n",
    "            sbd_pred.extend(torch.argmax(sbd_logits.view(b*s,l), 1).cpu().tolist())\n",
    "            sbd_targ.extend(batch['sbd_ids'].cuda().view(b*s).cpu().tolist())\n",
    "\n",
    "            b,s,l = pos_logits.size()\n",
    "            p_loss = loss_fn(pos_logits.view(b*s,l), batch['pos_ids'].cuda().view(b*s))\n",
    "            pos_loss.append(p_loss.item())\n",
    "            pos_pred.extend(torch.argmax(pos_logits.view(b*s,l), 1).cpu().tolist())\n",
    "            pos_targ.extend(batch['pos_ids'].cuda().view(b*s).cpu().tolist())\n",
    "\n",
    "            b,s,l = ner_logits.size()\n",
    "            n_loss = loss_fn(ner_logits.view(b*s,l), batch['ner_ids'].cuda().view(b*s))\n",
    "            ner_loss.append(n_loss.item())\n",
    "            ner_pred.extend(torch.argmax(ner_logits.view(b*s,l), 1).cpu().tolist())\n",
    "            ner_targ.extend(batch['ner_ids'].cuda().view(b*s).cpu().tolist())\n",
    "            \n",
    "\n",
    "            sbd_logits_middle = sbd_logits[:,2:,]\n",
    "            b,s,l = sbd_logits_middle.size()\n",
    "            #print(b,s,l)\n",
    "            sbd_middle_pred.extend(torch.argmax(sbd_logits_middle.contiguous().view(b*s,l), 1).cpu().tolist())\n",
    "            sbd_middle_targ.extend(batch['sbd_ids'][:,2:].cuda().contiguous().view(b*s).cpu().tolist())\n",
    "            \n",
    "\n",
    "    sbd_count_active_tokens = np.count_nonzero(np.array(sbd_targ) > -1)\n",
    "    sbd_count_correct = np.count_nonzero((np.array(sbd_pred)==np.array(sbd_targ)) == True)\n",
    "    pos_count_active_tokens = np.count_nonzero(np.array(pos_targ) > -1)\n",
    "    pos_count_correct = np.count_nonzero((np.array(pos_pred)==np.array(pos_targ)) == True)\n",
    "    ner_count_active_tokens = np.count_nonzero(np.array(ner_targ) > -1)\n",
    "    ner_count_correct = np.count_nonzero((np.array(ner_pred)==np.array(ner_targ)) == True)\n",
    "\n",
    "    f1_score(sbd_pred, sbd_targ)\n",
    "    f1_score(sbd_middle_pred, sbd_middle_targ)\n",
    "    print(\"POS Accuracy:\"+ str(pos_count_correct/pos_count_active_tokens))\n",
    "    print(\"NER Accuracy:\"+ str(ner_count_correct/ner_count_active_tokens))\n",
    "\n",
    "    '''\n",
    "    print(\"sbd_targ: \",sbd_targ)\n",
    "    print(\"sbd_pred: \",sbd_pred)\n",
    "\n",
    "    print(\"pos_targ: \",pos_targ)\n",
    "    print(\"pos_pred: \",pos_pred)\n",
    "\n",
    "    print(\"ner_targ: \",ner_targ)\n",
    "    print(\"ner_pred: \",ner_pred)\n",
    "    '''\n",
    "    ner_f1_score(ner_pred, ner_targ)\n",
    "\n",
    "\n",
    "    \n",
    "    \n",
    "    #count_active_tokens = np.count_nonzero(np.array(total_targ) > -1)\n",
    "    #count_correct = np.count_nonzero((np.array(total_pred)==np.array(total_targ)) == True)\n",
    "    #print(\"TESTING ACC:\", count_correct/count_active_tokens)\n",
    "    "
   ]
  },
  {
   "cell_type": "code",
   "execution_count": 14,
   "metadata": {
    "scrolled": true
   },
   "outputs": [
    {
     "name": "stderr",
     "output_type": "stream",
     "text": [
      "100%|██████████████████████████████████████████████████████████████████████████████████████████████████████████████████████████████████████████████| 3638/3638 [11:04<00:00,  5.48it/s]\n"
     ]
    },
    {
     "name": "stdout",
     "output_type": "stream",
     "text": [
      "count_correct_p 29110\n",
      "count_active_tokens_p 30839\n",
      "precision: 0.9439346282304873\n",
      "count_active_tokens_r 33627\n",
      "count_correct_r 29110\n",
      "recall: 0.8656734171945163\n",
      "F1: 0.9031117178047343\n",
      "POS Accuracy:0.9409833444300566\n",
      "NER Accuracy:0.9671751062926285\n",
      "count_correct_p 109764\n",
      "count_active_tokens_p 122709\n",
      "precision: 0.8945065154145173\n",
      "count_active_tokens_r 128847\n",
      "count_correct_r 109764\n",
      "recall: 0.8518941069640736\n",
      "F1: 0.8726804369603588\n"
     ]
    },
    {
     "name": "stderr",
     "output_type": "stream",
     "text": [
      "100%|████████████████████████████████████████████████████████████████████████████████████████████████████████████████████████████████████████████████| 432/432 [00:18<00:00, 23.11it/s]\n"
     ]
    },
    {
     "name": "stdout",
     "output_type": "stream",
     "text": [
      "count_correct_p 3100\n",
      "count_active_tokens_p 3257\n",
      "precision: 0.9517961314092723\n",
      "count_active_tokens_r 3146\n",
      "count_correct_r 3100\n",
      "recall: 0.9853782581055308\n",
      "F1: 0.968296111197876\n",
      "count_correct_p 508\n",
      "count_active_tokens_p 665\n",
      "precision: 0.7639097744360902\n",
      "count_active_tokens_r 554\n",
      "count_correct_r 508\n",
      "recall: 0.9169675090252708\n",
      "F1: 0.8334700574241182\n",
      "POS Accuracy:0.98529204122935\n",
      "NER Accuracy:0.9797971478326352\n",
      "count_correct_p 14028\n",
      "count_active_tokens_p 15358\n",
      "precision: 0.9134001823154057\n",
      "count_active_tokens_r 15103\n",
      "count_correct_r 14028\n",
      "recall: 0.9288220883268224\n",
      "F1: 0.9210465841567905\n"
     ]
    },
    {
     "name": "stderr",
     "output_type": "stream",
     "text": [
      "100%|██████████████████████████████████████████████████████████████████████████████████████████████████████████████████████████████████████████████| 3638/3638 [11:10<00:00,  5.43it/s]\n"
     ]
    },
    {
     "name": "stdout",
     "output_type": "stream",
     "text": [
      "count_correct_p 32717\n",
      "count_active_tokens_p 33632\n",
      "precision: 0.9727937678401523\n",
      "count_active_tokens_r 33627\n",
      "count_correct_r 32717\n",
      "recall: 0.972938412585125\n",
      "F1: 0.97286608483623\n",
      "POS Accuracy:0.987079744373437\n",
      "NER Accuracy:0.9812539646757223\n",
      "count_correct_p 118985\n",
      "count_active_tokens_p 128929\n",
      "precision: 0.9228722785409024\n",
      "count_active_tokens_r 128847\n",
      "count_correct_r 118985\n",
      "recall: 0.9234596071309382\n",
      "F1: 0.9231658494196513\n"
     ]
    },
    {
     "name": "stderr",
     "output_type": "stream",
     "text": [
      "100%|████████████████████████████████████████████████████████████████████████████████████████████████████████████████████████████████████████████████| 432/432 [00:18<00:00, 23.13it/s]\n"
     ]
    },
    {
     "name": "stdout",
     "output_type": "stream",
     "text": [
      "count_correct_p 3066\n",
      "count_active_tokens_p 3152\n",
      "precision: 0.9727157360406091\n",
      "count_active_tokens_r 3146\n",
      "count_correct_r 3066\n",
      "recall: 0.9745708836617928\n",
      "F1: 0.9736424261670371\n",
      "count_correct_p 474\n",
      "count_active_tokens_p 560\n",
      "precision: 0.8464285714285714\n",
      "count_active_tokens_r 554\n",
      "count_correct_r 474\n",
      "recall: 0.855595667870036\n",
      "F1: 0.850987432675045\n",
      "POS Accuracy:0.9877629783028192\n",
      "NER Accuracy:0.9830681978632277\n",
      "count_correct_p 14143\n",
      "count_active_tokens_p 15233\n",
      "precision: 0.9284448237379374\n",
      "count_active_tokens_r 15103\n",
      "count_correct_r 14143\n",
      "recall: 0.936436469575581\n",
      "F1: 0.932423523206751\n"
     ]
    },
    {
     "name": "stderr",
     "output_type": "stream",
     "text": [
      "100%|██████████████████████████████████████████████████████████████████████████████████████████████████████████████████████████████████████████████| 3638/3638 [11:10<00:00,  5.42it/s]\n"
     ]
    },
    {
     "name": "stdout",
     "output_type": "stream",
     "text": [
      "count_correct_p 32916\n",
      "count_active_tokens_p 33748\n",
      "precision: 0.975346687211094\n",
      "count_active_tokens_r 33627\n",
      "count_correct_r 32916\n",
      "recall: 0.9788562762066196\n",
      "F1: 0.9770983302411874\n",
      "POS Accuracy:0.9892095288523541\n",
      "NER Accuracy:0.984091492919941\n",
      "count_correct_p 120478\n",
      "count_active_tokens_p 129077\n",
      "precision: 0.9333808501901966\n",
      "count_active_tokens_r 128847\n",
      "count_correct_r 120478\n",
      "recall: 0.9350469937212352\n",
      "F1: 0.9342131790760069\n"
     ]
    },
    {
     "name": "stderr",
     "output_type": "stream",
     "text": [
      "100%|████████████████████████████████████████████████████████████████████████████████████████████████████████████████████████████████████████████████| 432/432 [00:18<00:00, 22.95it/s]\n"
     ]
    },
    {
     "name": "stdout",
     "output_type": "stream",
     "text": [
      "count_correct_p 3103\n",
      "count_active_tokens_p 3219\n",
      "precision: 0.963963963963964\n",
      "count_active_tokens_r 3146\n",
      "count_correct_r 3103\n",
      "recall: 0.9863318499682137\n",
      "F1: 0.9750196386488609\n",
      "count_correct_p 511\n",
      "count_active_tokens_p 627\n",
      "precision: 0.8149920255183413\n",
      "count_active_tokens_r 554\n",
      "count_correct_r 511\n",
      "recall: 0.9223826714801444\n",
      "F1: 0.8653683319220999\n",
      "POS Accuracy:0.98877488586624\n",
      "NER Accuracy:0.9836447498470372\n",
      "count_correct_p 14274\n",
      "count_active_tokens_p 15422\n",
      "precision: 0.9255608870444819\n",
      "count_active_tokens_r 15103\n",
      "count_correct_r 14274\n",
      "recall: 0.9451102429980799\n",
      "F1: 0.9352334152334153\n"
     ]
    },
    {
     "name": "stderr",
     "output_type": "stream",
     "text": [
      "100%|██████████████████████████████████████████████████████████████████████████████████████████████████████████████████████████████████████████████| 3638/3638 [11:38<00:00,  5.21it/s]\n"
     ]
    },
    {
     "name": "stdout",
     "output_type": "stream",
     "text": [
      "count_correct_p 33003\n",
      "count_active_tokens_p 33762\n",
      "precision: 0.9775191043184646\n",
      "count_active_tokens_r 33627\n",
      "count_correct_r 33003\n",
      "recall: 0.9814434829155143\n",
      "F1: 0.9794773627743399\n",
      "POS Accuracy:0.9906918588496805\n",
      "NER Accuracy:0.9857009546677012\n",
      "count_correct_p 121386\n",
      "count_active_tokens_p 129191\n",
      "precision: 0.939585574846545\n",
      "count_active_tokens_r 128847\n",
      "count_correct_r 121386\n",
      "recall: 0.9420941116207595\n",
      "F1: 0.9408381711220829\n"
     ]
    },
    {
     "name": "stderr",
     "output_type": "stream",
     "text": [
      "100%|████████████████████████████████████████████████████████████████████████████████████████████████████████████████████████████████████████████████| 432/432 [00:22<00:00, 19.18it/s]\n"
     ]
    },
    {
     "name": "stdout",
     "output_type": "stream",
     "text": [
      "count_correct_p 3091\n",
      "count_active_tokens_p 3198\n",
      "precision: 0.966541588492808\n",
      "count_active_tokens_r 3146\n",
      "count_correct_r 3091\n",
      "recall: 0.9825174825174825\n",
      "F1: 0.9744640605296343\n",
      "count_correct_p 499\n",
      "count_active_tokens_p 606\n",
      "precision: 0.8234323432343235\n",
      "count_active_tokens_r 554\n",
      "count_correct_r 499\n",
      "recall: 0.9007220216606499\n",
      "F1: 0.8603448275862069\n",
      "POS Accuracy:0.9895749988233633\n",
      "NER Accuracy:0.9838800771873676\n",
      "count_correct_p 14244\n",
      "count_active_tokens_p 15358\n",
      "precision: 0.9274645136085428\n",
      "count_active_tokens_r 15103\n",
      "count_correct_r 14244\n",
      "recall: 0.9431238826723167\n",
      "F1: 0.9352286530317455\n"
     ]
    },
    {
     "name": "stderr",
     "output_type": "stream",
     "text": [
      "100%|██████████████████████████████████████████████████████████████████████████████████████████████████████████████████████████████████████████████| 3638/3638 [17:33<00:00,  3.45it/s]\n"
     ]
    },
    {
     "name": "stdout",
     "output_type": "stream",
     "text": [
      "count_correct_p 33071\n",
      "count_active_tokens_p 33764\n",
      "precision: 0.9794751806657979\n",
      "count_active_tokens_r 33627\n",
      "count_correct_r 33071\n",
      "recall: 0.9834656674695929\n",
      "F1: 0.9814663679126292\n",
      "POS Accuracy:0.9917338149485968\n",
      "NER Accuracy:0.9871898378480396\n",
      "count_correct_p 122157\n",
      "count_active_tokens_p 129228\n",
      "precision: 0.9452827560590584\n",
      "count_active_tokens_r 128847\n",
      "count_correct_r 122157\n",
      "recall: 0.9480779529209062\n",
      "F1: 0.9466782911944203\n"
     ]
    },
    {
     "name": "stderr",
     "output_type": "stream",
     "text": [
      "100%|████████████████████████████████████████████████████████████████████████████████████████████████████████████████████████████████████████████████| 432/432 [00:31<00:00, 13.63it/s]\n"
     ]
    },
    {
     "name": "stdout",
     "output_type": "stream",
     "text": [
      "count_correct_p 3094\n",
      "count_active_tokens_p 3193\n",
      "precision: 0.9689946758534294\n",
      "count_active_tokens_r 3146\n",
      "count_correct_r 3094\n",
      "recall: 0.9834710743801653\n",
      "F1: 0.9761792080769838\n",
      "count_correct_p 502\n",
      "count_active_tokens_p 601\n",
      "precision: 0.8352745424292846\n",
      "count_active_tokens_r 554\n",
      "count_correct_r 502\n",
      "recall: 0.9061371841155235\n",
      "F1: 0.8692640692640692\n",
      "POS Accuracy:0.9904221772485527\n",
      "NER Accuracy:0.984727255612557\n",
      "count_correct_p 14288\n",
      "count_active_tokens_p 15323\n",
      "precision: 0.9324544801931737\n",
      "count_active_tokens_r 15103\n",
      "count_correct_r 14288\n",
      "recall: 0.9460372111501026\n",
      "F1: 0.939196739630579\n"
     ]
    },
    {
     "name": "stderr",
     "output_type": "stream",
     "text": [
      "100%|██████████████████████████████████████████████████████████████████████████████████████████████████████████████████████████████████████████████| 3638/3638 [21:44<00:00,  2.79it/s]\n"
     ]
    },
    {
     "name": "stdout",
     "output_type": "stream",
     "text": [
      "count_correct_p 33135\n",
      "count_active_tokens_p 33727\n",
      "precision: 0.9824472974174994\n",
      "count_active_tokens_r 33627\n",
      "count_correct_r 33135\n",
      "recall: 0.9853688999910786\n",
      "F1: 0.9839059298631113\n",
      "POS Accuracy:0.9927613540448866\n",
      "NER Accuracy:0.9885751807367875\n",
      "count_correct_p 122901\n",
      "count_active_tokens_p 129233\n",
      "precision: 0.9510032267300148\n",
      "count_active_tokens_r 128847\n",
      "count_correct_r 122901\n",
      "recall: 0.9538522433584018\n",
      "F1: 0.9524256044637321\n"
     ]
    },
    {
     "name": "stderr",
     "output_type": "stream",
     "text": [
      "100%|████████████████████████████████████████████████████████████████████████████████████████████████████████████████████████████████████████████████| 432/432 [00:30<00:00, 14.30it/s]\n"
     ]
    },
    {
     "name": "stdout",
     "output_type": "stream",
     "text": [
      "count_correct_p 3109\n",
      "count_active_tokens_p 3216\n",
      "precision: 0.966728855721393\n",
      "count_active_tokens_r 3146\n",
      "count_correct_r 3109\n",
      "recall: 0.9882390336935791\n",
      "F1: 0.9773656082992769\n",
      "count_correct_p 517\n",
      "count_active_tokens_p 624\n",
      "precision: 0.8285256410256411\n",
      "count_active_tokens_r 554\n",
      "count_correct_r 517\n",
      "recall: 0.9332129963898917\n",
      "F1: 0.8777589134125637\n",
      "POS Accuracy:0.9904339436155692\n",
      "NER Accuracy:0.9850331811549866\n",
      "count_correct_p 14282\n",
      "count_active_tokens_p 15261\n",
      "precision: 0.9358495511434375\n",
      "count_active_tokens_r 15103\n",
      "count_correct_r 14282\n",
      "recall: 0.94563993908495\n",
      "F1: 0.94071927282308\n"
     ]
    },
    {
     "name": "stderr",
     "output_type": "stream",
     "text": [
      "100%|██████████████████████████████████████████████████████████████████████████████████████████████████████████████████████████████████████████████| 3638/3638 [21:22<00:00,  2.84it/s]\n"
     ]
    },
    {
     "name": "stdout",
     "output_type": "stream",
     "text": [
      "count_correct_p 33202\n",
      "count_active_tokens_p 33721\n",
      "precision: 0.9846089973606951\n",
      "count_active_tokens_r 33627\n",
      "count_correct_r 33202\n",
      "recall: 0.9873613465370089\n",
      "F1: 0.9859832511730119\n",
      "POS Accuracy:0.993687974122791\n",
      "NER Accuracy:0.989847808877728\n",
      "count_correct_p 123472\n",
      "count_active_tokens_p 129115\n",
      "precision: 0.9562947759749061\n",
      "count_active_tokens_r 128847\n",
      "count_correct_r 123472\n",
      "recall: 0.9582838560463185\n",
      "F1: 0.9572882827703305\n"
     ]
    },
    {
     "name": "stderr",
     "output_type": "stream",
     "text": [
      "100%|████████████████████████████████████████████████████████████████████████████████████████████████████████████████████████████████████████████████| 432/432 [00:33<00:00, 13.07it/s]\n"
     ]
    },
    {
     "name": "stdout",
     "output_type": "stream",
     "text": [
      "count_correct_p 3102\n",
      "count_active_tokens_p 3206\n",
      "precision: 0.96756082345602\n",
      "count_active_tokens_r 3146\n",
      "count_correct_r 3102\n",
      "recall: 0.986013986013986\n",
      "F1: 0.9767002518891688\n",
      "count_correct_p 510\n",
      "count_active_tokens_p 614\n",
      "precision: 0.8306188925081434\n",
      "count_active_tokens_r 554\n",
      "count_correct_r 510\n",
      "recall: 0.9205776173285198\n",
      "F1: 0.8732876712328766\n",
      "POS Accuracy:0.9907869346260648\n",
      "NER Accuracy:0.9835506189109051\n",
      "count_correct_p 14169\n",
      "count_active_tokens_p 15252\n",
      "precision: 0.9289929189614476\n",
      "count_active_tokens_r 15103\n",
      "count_correct_r 14169\n",
      "recall: 0.938157981857909\n",
      "F1: 0.933552956679295\n"
     ]
    },
    {
     "name": "stderr",
     "output_type": "stream",
     "text": [
      "100%|██████████████████████████████████████████████████████████████████████████████████████████████████████████████████████████████████████████████| 3638/3638 [21:04<00:00,  2.88it/s]\n"
     ]
    },
    {
     "name": "stdout",
     "output_type": "stream",
     "text": [
      "count_correct_p 33244\n",
      "count_active_tokens_p 33695\n",
      "precision: 0.9866152248108028\n",
      "count_active_tokens_r 33627\n",
      "count_correct_r 33244\n",
      "recall: 0.988610342879234\n",
      "F1: 0.9876117762395651\n",
      "POS Accuracy:0.9943668838828396\n",
      "NER Accuracy:0.9909225308917047\n",
      "count_correct_p 124044\n",
      "count_active_tokens_p 129092\n",
      "precision: 0.9608961051033371\n",
      "count_active_tokens_r 128847\n",
      "count_correct_r 124044\n",
      "recall: 0.9627232298772963\n",
      "F1: 0.9618087997549808\n"
     ]
    },
    {
     "name": "stderr",
     "output_type": "stream",
     "text": [
      "100%|████████████████████████████████████████████████████████████████████████████████████████████████████████████████████████████████████████████████| 432/432 [00:33<00:00, 12.81it/s]\n"
     ]
    },
    {
     "name": "stdout",
     "output_type": "stream",
     "text": [
      "count_correct_p 3101\n",
      "count_active_tokens_p 3194\n",
      "precision: 0.9708829054477145\n",
      "count_active_tokens_r 3146\n",
      "count_correct_r 3101\n",
      "recall: 0.9856961220597584\n",
      "F1: 0.9782334384858045\n",
      "count_correct_p 509\n",
      "count_active_tokens_p 602\n",
      "precision: 0.845514950166113\n",
      "count_active_tokens_r 554\n",
      "count_correct_r 509\n",
      "recall: 0.9187725631768953\n",
      "F1: 0.8806228373702422\n",
      "POS Accuracy:0.9910104955993787\n",
      "NER Accuracy:0.9851273120911187\n",
      "count_correct_p 14309\n",
      "count_active_tokens_p 15312\n",
      "precision: 0.9344958202716823\n",
      "count_active_tokens_r 15103\n",
      "count_correct_r 14309\n",
      "recall: 0.9474276633781368\n",
      "F1: 0.9409173105375637\n"
     ]
    },
    {
     "name": "stderr",
     "output_type": "stream",
     "text": [
      "100%|██████████████████████████████████████████████████████████████████████████████████████████████████████████████████████████████████████████████| 3638/3638 [21:37<00:00,  2.80it/s]\n"
     ]
    },
    {
     "name": "stdout",
     "output_type": "stream",
     "text": [
      "count_correct_p 33319\n",
      "count_active_tokens_p 33697\n",
      "precision: 0.9887823841885034\n",
      "count_active_tokens_r 33627\n",
      "count_correct_r 33319\n",
      "recall: 0.99084069349035\n",
      "F1: 0.9898104687778504\n",
      "POS Accuracy:0.9950038532716111\n",
      "NER Accuracy:0.9916787682112956\n",
      "count_correct_p 124427\n",
      "count_active_tokens_p 129074\n",
      "precision: 0.9639973968421216\n",
      "count_active_tokens_r 128847\n",
      "count_correct_r 124427\n",
      "recall: 0.9656957476697168\n",
      "F1: 0.9648458248843638\n"
     ]
    },
    {
     "name": "stderr",
     "output_type": "stream",
     "text": [
      "100%|████████████████████████████████████████████████████████████████████████████████████████████████████████████████████████████████████████████████| 432/432 [00:30<00:00, 13.95it/s]\n"
     ]
    },
    {
     "name": "stdout",
     "output_type": "stream",
     "text": [
      "count_correct_p 3116\n",
      "count_active_tokens_p 3235\n",
      "precision: 0.9632148377125194\n",
      "count_active_tokens_r 3146\n",
      "count_correct_r 3116\n",
      "recall: 0.9904640813731723\n",
      "F1: 0.9766494279893435\n",
      "count_correct_p 524\n",
      "count_active_tokens_p 643\n",
      "precision: 0.8149300155520995\n",
      "count_active_tokens_r 554\n",
      "count_correct_r 524\n",
      "recall: 0.9458483754512635\n",
      "F1: 0.8755221386800334\n",
      "POS Accuracy:0.9911046265355109\n",
      "NER Accuracy:0.9851390784581353\n",
      "count_correct_p 14288\n",
      "count_active_tokens_p 15281\n",
      "precision: 0.9350173417970028\n",
      "count_active_tokens_r 15103\n",
      "count_correct_r 14288\n",
      "recall: 0.9460372111501026\n",
      "F1: 0.9404949973670353\n"
     ]
    },
    {
     "name": "stderr",
     "output_type": "stream",
     "text": [
      "100%|██████████████████████████████████████████████████████████████████████████████████████████████████████████████████████████████████████████████| 3638/3638 [21:05<00:00,  2.88it/s]\n"
     ]
    },
    {
     "name": "stdout",
     "output_type": "stream",
     "text": [
      "count_correct_p 33342\n",
      "count_active_tokens_p 33694\n",
      "precision: 0.9895530361488692\n",
      "count_active_tokens_r 33627\n",
      "count_correct_r 33342\n",
      "recall: 0.9915246676777589\n",
      "F1: 0.9905378707981165\n",
      "POS Accuracy:0.9956355801139729\n",
      "NER Accuracy:0.9925293713662601\n",
      "count_correct_p 124891\n",
      "count_active_tokens_p 129076\n",
      "precision: 0.9675772413151942\n",
      "count_active_tokens_r 128847\n",
      "count_correct_r 124891\n",
      "recall: 0.9692969180500904\n",
      "F1: 0.9684363162649319\n"
     ]
    },
    {
     "name": "stderr",
     "output_type": "stream",
     "text": [
      "100%|████████████████████████████████████████████████████████████████████████████████████████████████████████████████████████████████████████████████| 432/432 [00:31<00:00, 13.54it/s]\n"
     ]
    },
    {
     "name": "stdout",
     "output_type": "stream",
     "text": [
      "count_correct_p 3103\n",
      "count_active_tokens_p 3200\n",
      "precision: 0.9696875\n",
      "count_active_tokens_r 3146\n",
      "count_correct_r 3103\n",
      "recall: 0.9863318499682137\n",
      "F1: 0.9779388591238577\n",
      "count_correct_p 511\n",
      "count_active_tokens_p 608\n",
      "precision: 0.8404605263157895\n",
      "count_active_tokens_r 554\n",
      "count_correct_r 511\n",
      "recall: 0.9223826714801444\n",
      "F1: 0.8795180722891566\n",
      "POS Accuracy:0.9912222902056761\n",
      "NER Accuracy:0.98529204122935\n",
      "count_correct_p 14258\n",
      "count_active_tokens_p 15195\n",
      "precision: 0.9383349786113854\n",
      "count_active_tokens_r 15103\n",
      "count_correct_r 14258\n",
      "recall: 0.9440508508243395\n",
      "F1: 0.9411842365832729\n"
     ]
    },
    {
     "name": "stderr",
     "output_type": "stream",
     "text": [
      "100%|██████████████████████████████████████████████████████████████████████████████████████████████████████████████████████████████████████████████| 3638/3638 [20:45<00:00,  2.92it/s]\n"
     ]
    },
    {
     "name": "stdout",
     "output_type": "stream",
     "text": [
      "count_correct_p 33369\n",
      "count_active_tokens_p 33685\n",
      "precision: 0.9906189698678938\n",
      "count_active_tokens_r 33627\n",
      "count_correct_r 33369\n",
      "recall: 0.9923275938977607\n",
      "F1: 0.9914725457570716\n",
      "POS Accuracy:0.9961663879379492\n",
      "NER Accuracy:0.9933970127970558\n",
      "count_correct_p 125357\n",
      "count_active_tokens_p 129075\n",
      "precision: 0.971195041642456\n",
      "count_active_tokens_r 128847\n",
      "count_correct_r 125357\n",
      "recall: 0.9729136107165863\n",
      "F1: 0.972053566582145\n"
     ]
    },
    {
     "name": "stderr",
     "output_type": "stream",
     "text": [
      "100%|████████████████████████████████████████████████████████████████████████████████████████████████████████████████████████████████████████████████| 432/432 [00:28<00:00, 15.40it/s]\n"
     ]
    },
    {
     "name": "stdout",
     "output_type": "stream",
     "text": [
      "count_correct_p 3085\n",
      "count_active_tokens_p 3169\n",
      "precision: 0.9734932155254024\n",
      "count_active_tokens_r 3146\n",
      "count_correct_r 3085\n",
      "recall: 0.9806102987921169\n",
      "F1: 0.9770387965162312\n",
      "count_correct_p 493\n",
      "count_active_tokens_p 577\n",
      "precision: 0.854419410745234\n",
      "count_active_tokens_r 554\n",
      "count_correct_r 493\n",
      "recall: 0.8898916967509025\n",
      "F1: 0.8717948717948717\n",
      "POS Accuracy:0.9915517484821387\n",
      "NER Accuracy:0.9857626959100109\n",
      "count_correct_p 14282\n",
      "count_active_tokens_p 15183\n",
      "precision: 0.9406573141012975\n",
      "count_active_tokens_r 15103\n",
      "count_correct_r 14282\n",
      "recall: 0.94563993908495\n",
      "F1: 0.9431420458297564\n"
     ]
    },
    {
     "name": "stderr",
     "output_type": "stream",
     "text": [
      "100%|██████████████████████████████████████████████████████████████████████████████████████████████████████████████████████████████████████████████| 3638/3638 [20:45<00:00,  2.92it/s]\n"
     ]
    },
    {
     "name": "stdout",
     "output_type": "stream",
     "text": [
      "count_correct_p 33374\n",
      "count_active_tokens_p 33650\n",
      "precision: 0.9917979197622585\n",
      "count_active_tokens_r 33627\n",
      "count_correct_r 33374\n",
      "recall: 0.9924762839385018\n",
      "F1: 0.9921369858941392\n",
      "POS Accuracy:0.9964101663459975\n",
      "NER Accuracy:0.9938635994275139\n",
      "count_correct_p 125544\n",
      "count_active_tokens_p 128977\n",
      "precision: 0.973382851206029\n",
      "count_active_tokens_r 128847\n",
      "count_correct_r 125544\n",
      "recall: 0.9743649444690214\n",
      "F1: 0.9738736502420255\n"
     ]
    },
    {
     "name": "stderr",
     "output_type": "stream",
     "text": [
      "100%|████████████████████████████████████████████████████████████████████████████████████████████████████████████████████████████████████████████████| 432/432 [00:27<00:00, 15.58it/s]\n"
     ]
    },
    {
     "name": "stdout",
     "output_type": "stream",
     "text": [
      "count_correct_p 3071\n",
      "count_active_tokens_p 3151\n",
      "precision: 0.974611234528721\n",
      "count_active_tokens_r 3146\n",
      "count_correct_r 3071\n",
      "recall: 0.9761602034329308\n",
      "F1: 0.9753851040177861\n",
      "count_correct_p 479\n",
      "count_active_tokens_p 559\n",
      "precision: 0.8568872987477638\n",
      "count_active_tokens_r 554\n",
      "count_correct_r 479\n",
      "recall: 0.8646209386281588\n",
      "F1: 0.8607367475292005\n",
      "POS Accuracy:0.9916223466842378\n",
      "NER Accuracy:0.9856803313408952\n",
      "count_correct_p 14282\n",
      "count_active_tokens_p 15197\n",
      "precision: 0.9397907481739817\n",
      "count_active_tokens_r 15103\n",
      "count_correct_r 14282\n",
      "recall: 0.94563993908495\n",
      "F1: 0.9427062706270627\n"
     ]
    },
    {
     "name": "stderr",
     "output_type": "stream",
     "text": [
      "100%|██████████████████████████████████████████████████████████████████████████████████████████████████████████████████████████████████████████████| 3638/3638 [20:28<00:00,  2.96it/s]\n"
     ]
    },
    {
     "name": "stdout",
     "output_type": "stream",
     "text": [
      "count_correct_p 33429\n",
      "count_active_tokens_p 33675\n",
      "precision: 0.992694877505568\n",
      "count_active_tokens_r 33627\n",
      "count_correct_r 33429\n",
      "recall: 0.9941118743866536\n",
      "F1: 0.9934028706427744\n",
      "POS Accuracy:0.9969291784405522\n",
      "NER Accuracy:0.9946368750229362\n",
      "count_correct_p 125969\n",
      "count_active_tokens_p 128984\n",
      "precision: 0.9766250077528996\n",
      "count_active_tokens_r 128847\n",
      "count_correct_r 125969\n",
      "recall: 0.9776634302700101\n",
      "F1: 0.9771439431255357\n"
     ]
    },
    {
     "name": "stderr",
     "output_type": "stream",
     "text": [
      "100%|████████████████████████████████████████████████████████████████████████████████████████████████████████████████████████████████████████████████| 432/432 [00:28<00:00, 15.27it/s]\n"
     ]
    },
    {
     "name": "stdout",
     "output_type": "stream",
     "text": [
      "count_correct_p 3097\n",
      "count_active_tokens_p 3179\n",
      "precision: 0.974205725070777\n",
      "count_active_tokens_r 3146\n",
      "count_correct_r 3097\n",
      "recall: 0.9844246662428481\n",
      "F1: 0.9792885375494071\n",
      "count_correct_p 505\n",
      "count_active_tokens_p 587\n",
      "precision: 0.8603066439522998\n",
      "count_active_tokens_r 554\n",
      "count_correct_r 505\n",
      "recall: 0.9115523465703971\n",
      "F1: 0.8851884312007011\n",
      "POS Accuracy:0.9919518049607003\n",
      "NER Accuracy:0.9857038640749283\n",
      "count_correct_p 14283\n",
      "count_active_tokens_p 15207\n",
      "precision: 0.9392385085815743\n",
      "count_active_tokens_r 15103\n",
      "count_correct_r 14283\n",
      "recall: 0.9457061510958088\n",
      "F1: 0.9424612339161994\n"
     ]
    },
    {
     "name": "stderr",
     "output_type": "stream",
     "text": [
      "100%|██████████████████████████████████████████████████████████████████████████████████████████████████████████████████████████████████████████████| 3638/3638 [20:52<00:00,  2.91it/s]\n"
     ]
    },
    {
     "name": "stdout",
     "output_type": "stream",
     "text": [
      "count_correct_p 33458\n",
      "count_active_tokens_p 33643\n",
      "precision: 0.9945010849210831\n",
      "count_active_tokens_r 33627\n",
      "count_correct_r 33458\n",
      "recall: 0.9949742766229518\n",
      "F1: 0.9947376244982905\n",
      "POS Accuracy:0.9971454334799499\n",
      "NER Accuracy:0.9951139467462136\n",
      "count_correct_p 126245\n",
      "count_active_tokens_p 128977\n",
      "precision: 0.9788179287779992\n",
      "count_active_tokens_r 128847\n",
      "count_correct_r 126245\n",
      "recall: 0.9798055057548876\n",
      "F1: 0.9793114682884448\n"
     ]
    },
    {
     "name": "stderr",
     "output_type": "stream",
     "text": [
      "100%|████████████████████████████████████████████████████████████████████████████████████████████████████████████████████████████████████████████████| 432/432 [00:29<00:00, 14.76it/s]\n"
     ]
    },
    {
     "name": "stdout",
     "output_type": "stream",
     "text": [
      "count_correct_p 3098\n",
      "count_active_tokens_p 3194\n",
      "precision: 0.9699436443331246\n",
      "count_active_tokens_r 3146\n",
      "count_correct_r 3098\n",
      "recall: 0.9847425301970757\n",
      "F1: 0.9772870662460569\n",
      "count_correct_p 506\n",
      "count_active_tokens_p 602\n",
      "precision: 0.840531561461794\n",
      "count_active_tokens_r 554\n",
      "count_correct_r 506\n",
      "recall: 0.9133574007220217\n",
      "F1: 0.8754325259515571\n",
      "POS Accuracy:0.9921047677319151\n",
      "NER Accuracy:0.9856332658728291\n",
      "count_correct_p 14319\n",
      "count_active_tokens_p 15276\n",
      "precision: 0.9373527101335428\n",
      "count_active_tokens_r 15103\n",
      "count_correct_r 14319\n",
      "recall: 0.9480897834867245\n",
      "F1: 0.942690674479081\n"
     ]
    },
    {
     "name": "stderr",
     "output_type": "stream",
     "text": [
      "100%|██████████████████████████████████████████████████████████████████████████████████████████████████████████████████████████████████████████████| 3638/3638 [20:12<00:00,  3.00it/s]\n"
     ]
    },
    {
     "name": "stdout",
     "output_type": "stream",
     "text": [
      "count_correct_p 33465\n",
      "count_active_tokens_p 33637\n",
      "precision: 0.9948865832268038\n",
      "count_active_tokens_r 33627\n",
      "count_correct_r 33465\n",
      "recall: 0.9951824426799893\n",
      "F1: 0.9950344909609894\n",
      "POS Accuracy:0.9975189649116368\n",
      "NER Accuracy:0.9956788311218525\n",
      "count_correct_p 126502\n",
      "count_active_tokens_p 128894\n",
      "precision: 0.9814421152264652\n",
      "count_active_tokens_r 128847\n",
      "count_correct_r 126502\n",
      "recall: 0.9818001195216032\n",
      "F1: 0.9816210847323477\n"
     ]
    },
    {
     "name": "stderr",
     "output_type": "stream",
     "text": [
      "100%|████████████████████████████████████████████████████████████████████████████████████████████████████████████████████████████████████████████████| 432/432 [00:27<00:00, 15.96it/s]\n"
     ]
    },
    {
     "name": "stdout",
     "output_type": "stream",
     "text": [
      "count_correct_p 3100\n",
      "count_active_tokens_p 3199\n",
      "precision: 0.9690528290090653\n",
      "count_active_tokens_r 3146\n",
      "count_correct_r 3100\n",
      "recall: 0.9853782581055308\n",
      "F1: 0.9771473601260836\n",
      "count_correct_p 508\n",
      "count_active_tokens_p 607\n",
      "precision: 0.8369028006589786\n",
      "count_active_tokens_r 554\n",
      "count_correct_r 508\n",
      "recall: 0.9169675090252708\n",
      "F1: 0.8751076658053402\n",
      "POS Accuracy:0.9916694121523039\n",
      "NER Accuracy:0.9851861439262013\n",
      "count_correct_p 14201\n",
      "count_active_tokens_p 15108\n",
      "precision: 0.9399655811490601\n",
      "count_active_tokens_r 15103\n",
      "count_correct_r 14201\n",
      "recall: 0.9402767662053897\n",
      "F1: 0.940121147926252\n"
     ]
    },
    {
     "name": "stderr",
     "output_type": "stream",
     "text": [
      "100%|██████████████████████████████████████████████████████████████████████████████████████████████████████████████████████████████████████████████| 3638/3638 [20:05<00:00,  3.02it/s]\n"
     ]
    },
    {
     "name": "stdout",
     "output_type": "stream",
     "text": [
      "count_correct_p 33468\n",
      "count_active_tokens_p 33629\n",
      "precision: 0.9952124654316216\n",
      "count_active_tokens_r 33627\n",
      "count_correct_r 33468\n",
      "recall: 0.995271656704434\n",
      "F1: 0.9952420601879387\n",
      "POS Accuracy:0.9977653645928901\n",
      "NER Accuracy:0.9960195966384793\n",
      "count_correct_p 126676\n",
      "count_active_tokens_p 128929\n",
      "precision: 0.9825252658439917\n",
      "count_active_tokens_r 128847\n",
      "count_correct_r 126676\n",
      "recall: 0.9831505584142433\n",
      "F1: 0.9828378126745702\n"
     ]
    },
    {
     "name": "stderr",
     "output_type": "stream",
     "text": [
      "100%|████████████████████████████████████████████████████████████████████████████████████████████████████████████████████████████████████████████████| 432/432 [00:28<00:00, 15.24it/s]\n"
     ]
    },
    {
     "name": "stdout",
     "output_type": "stream",
     "text": [
      "count_correct_p 3097\n",
      "count_active_tokens_p 3192\n",
      "precision: 0.9702380952380952\n",
      "count_active_tokens_r 3146\n",
      "count_correct_r 3097\n",
      "recall: 0.9844246662428481\n",
      "F1: 0.9772798990217735\n",
      "count_correct_p 505\n",
      "count_active_tokens_p 600\n",
      "precision: 0.8416666666666667\n",
      "count_active_tokens_r 554\n",
      "count_correct_r 505\n",
      "recall: 0.9115523465703971\n",
      "F1: 0.8752166377816291\n",
      "POS Accuracy:0.9914576175460065\n",
      "NER Accuracy:0.985856826846143\n",
      "count_correct_p 14320\n",
      "count_active_tokens_p 15256\n",
      "precision: 0.9386470896696382\n",
      "count_active_tokens_r 15103\n",
      "count_correct_r 14320\n",
      "recall: 0.9481559954975832\n",
      "F1: 0.9433775816067723\n"
     ]
    },
    {
     "name": "stderr",
     "output_type": "stream",
     "text": [
      "100%|██████████████████████████████████████████████████████████████████████████████████████████████████████████████████████████████████████████████| 3638/3638 [19:57<00:00,  3.04it/s]\n"
     ]
    },
    {
     "name": "stdout",
     "output_type": "stream",
     "text": [
      "count_correct_p 33500\n",
      "count_active_tokens_p 33644\n",
      "precision: 0.9957198906194269\n",
      "count_active_tokens_r 33627\n",
      "count_correct_r 33500\n",
      "recall: 0.9962232729651768\n",
      "F1: 0.9959715181876291\n",
      "POS Accuracy:0.9979226409851794\n",
      "NER Accuracy:0.9963551196086964\n",
      "count_correct_p 126880\n",
      "count_active_tokens_p 128940\n",
      "precision: 0.9840235768574531\n",
      "count_active_tokens_r 128847\n",
      "count_correct_r 126880\n",
      "recall: 0.9847338315987179\n",
      "F1: 0.9843785761112858\n"
     ]
    },
    {
     "name": "stderr",
     "output_type": "stream",
     "text": [
      "100%|████████████████████████████████████████████████████████████████████████████████████████████████████████████████████████████████████████████████| 432/432 [00:26<00:00, 16.16it/s]\n"
     ]
    },
    {
     "name": "stdout",
     "output_type": "stream",
     "text": [
      "count_correct_p 3100\n",
      "count_active_tokens_p 3199\n",
      "precision: 0.9690528290090653\n",
      "count_active_tokens_r 3146\n",
      "count_correct_r 3100\n",
      "recall: 0.9853782581055308\n",
      "F1: 0.9771473601260836\n",
      "count_correct_p 508\n",
      "count_active_tokens_p 607\n",
      "precision: 0.8369028006589786\n",
      "count_active_tokens_r 554\n",
      "count_correct_r 508\n",
      "recall: 0.9169675090252708\n",
      "F1: 0.8751076658053402\n",
      "POS Accuracy:0.9914811502800396\n",
      "NER Accuracy:0.9852332093942674\n",
      "count_correct_p 14336\n",
      "count_active_tokens_p 15363\n",
      "precision: 0.9331510772635553\n",
      "count_active_tokens_r 15103\n",
      "count_correct_r 14336\n",
      "recall: 0.9492153876713236\n",
      "F1: 0.9411146852228714\n"
     ]
    },
    {
     "name": "stderr",
     "output_type": "stream",
     "text": [
      "100%|██████████████████████████████████████████████████████████████████████████████████████████████████████████████████████████████████████████████| 3638/3638 [20:12<00:00,  3.00it/s]\n"
     ]
    },
    {
     "name": "stdout",
     "output_type": "stream",
     "text": [
      "count_correct_p 33529\n",
      "count_active_tokens_p 33641\n",
      "precision: 0.9966707291697631\n",
      "count_active_tokens_r 33627\n",
      "count_correct_r 33529\n",
      "recall: 0.997085675201475\n",
      "F1: 0.9968781590057678\n",
      "POS Accuracy:0.9981677300298301\n",
      "NER Accuracy:0.9967430680430098\n",
      "count_correct_p 127052\n",
      "count_active_tokens_p 128868\n",
      "precision: 0.9859080609616041\n",
      "count_active_tokens_r 128847\n",
      "count_correct_r 127052\n",
      "recall: 0.9860687482052357\n",
      "F1: 0.9859883980365908\n"
     ]
    },
    {
     "name": "stderr",
     "output_type": "stream",
     "text": [
      "100%|████████████████████████████████████████████████████████████████████████████████████████████████████████████████████████████████████████████████| 432/432 [00:27<00:00, 15.67it/s]\n"
     ]
    },
    {
     "name": "stdout",
     "output_type": "stream",
     "text": [
      "count_correct_p 3090\n",
      "count_active_tokens_p 3171\n",
      "precision: 0.9744560075685903\n",
      "count_active_tokens_r 3146\n",
      "count_correct_r 3090\n",
      "recall: 0.9821996185632549\n",
      "F1: 0.978312490106063\n",
      "count_correct_p 498\n",
      "count_active_tokens_p 579\n",
      "precision: 0.8601036269430051\n",
      "count_active_tokens_r 554\n",
      "count_correct_r 498\n",
      "recall: 0.8989169675090253\n",
      "F1: 0.8790820829655782\n",
      "POS Accuracy:0.9917282439873865\n",
      "NER Accuracy:0.9858215277450935\n",
      "count_correct_p 14295\n",
      "count_active_tokens_p 15210\n",
      "precision: 0.9398422090729783\n",
      "count_active_tokens_r 15103\n",
      "count_correct_r 14295\n",
      "recall: 0.946500695226114\n",
      "F1: 0.9431597004585491\n"
     ]
    },
    {
     "name": "stderr",
     "output_type": "stream",
     "text": [
      "100%|██████████████████████████████████████████████████████████████████████████████████████████████████████████████████████████████████████████████| 3638/3638 [20:03<00:00,  3.02it/s]\n"
     ]
    },
    {
     "name": "stdout",
     "output_type": "stream",
     "text": [
      "count_correct_p 33514\n",
      "count_active_tokens_p 33621\n",
      "precision: 0.9968174652746795\n",
      "count_active_tokens_r 33627\n",
      "count_correct_r 33514\n",
      "recall: 0.9966396050792518\n",
      "F1: 0.9967285272424459\n",
      "POS Accuracy:0.9983970914352519\n",
      "NER Accuracy:0.9970930080158534\n",
      "count_correct_p 127259\n",
      "count_active_tokens_p 128879\n",
      "precision: 0.9874300700657206\n",
      "count_active_tokens_r 128847\n",
      "count_correct_r 127259\n",
      "recall: 0.9876753048188938\n",
      "F1: 0.9875526722177818\n"
     ]
    },
    {
     "name": "stderr",
     "output_type": "stream",
     "text": [
      "100%|████████████████████████████████████████████████████████████████████████████████████████████████████████████████████████████████████████████████| 432/432 [00:29<00:00, 14.64it/s]\n"
     ]
    },
    {
     "name": "stdout",
     "output_type": "stream",
     "text": [
      "count_correct_p 3094\n",
      "count_active_tokens_p 3182\n",
      "precision: 0.9723444374607165\n",
      "count_active_tokens_r 3146\n",
      "count_correct_r 3094\n",
      "recall: 0.9834710743801653\n",
      "F1: 0.9778761061946902\n",
      "count_correct_p 503\n",
      "count_active_tokens_p 591\n",
      "precision: 0.8510998307952623\n",
      "count_active_tokens_r 554\n",
      "count_correct_r 503\n",
      "recall: 0.907942238267148\n",
      "F1: 0.8786026200873361\n",
      "POS Accuracy:0.9922459641361133\n",
      "NER Accuracy:0.9854097048995152\n",
      "count_correct_p 14281\n",
      "count_active_tokens_p 15227\n",
      "precision: 0.9378735141524923\n",
      "count_active_tokens_r 15103\n",
      "count_correct_r 14281\n",
      "recall: 0.9455737270740913\n",
      "F1: 0.9417078799868118\n"
     ]
    },
    {
     "name": "stderr",
     "output_type": "stream",
     "text": [
      "100%|██████████████████████████████████████████████████████████████████████████████████████████████████████████████████████████████████████████████| 3638/3638 [20:00<00:00,  3.03it/s]\n"
     ]
    },
    {
     "name": "stdout",
     "output_type": "stream",
     "text": [
      "count_correct_p 33547\n",
      "count_active_tokens_p 33641\n",
      "precision: 0.997205790553194\n",
      "count_active_tokens_r 33627\n",
      "count_correct_r 33547\n",
      "recall: 0.9976209593481429\n",
      "F1: 0.9974133317476364\n",
      "POS Accuracy:0.998528155095493\n",
      "NER Accuracy:0.9972135865832752\n",
      "count_correct_p 127335\n",
      "count_active_tokens_p 128888\n",
      "precision: 0.9879507789708895\n",
      "count_active_tokens_r 128847\n",
      "count_correct_r 127335\n",
      "recall: 0.9882651516915412\n",
      "F1: 0.9881079403263042\n"
     ]
    },
    {
     "name": "stderr",
     "output_type": "stream",
     "text": [
      "100%|████████████████████████████████████████████████████████████████████████████████████████████████████████████████████████████████████████████████| 432/432 [00:28<00:00, 14.99it/s]\n"
     ]
    },
    {
     "name": "stdout",
     "output_type": "stream",
     "text": [
      "count_correct_p 3098\n",
      "count_active_tokens_p 3194\n",
      "precision: 0.9699436443331246\n",
      "count_active_tokens_r 3146\n",
      "count_correct_r 3098\n",
      "recall: 0.9847425301970757\n",
      "F1: 0.9772870662460569\n",
      "count_correct_p 506\n",
      "count_active_tokens_p 602\n",
      "precision: 0.840531561461794\n",
      "count_active_tokens_r 554\n",
      "count_correct_r 506\n",
      "recall: 0.9133574007220217\n",
      "F1: 0.8754325259515571\n",
      "POS Accuracy:0.9920224031627994\n",
      "NER Accuracy:0.9859862568833248\n",
      "count_correct_p 14309\n",
      "count_active_tokens_p 15205\n",
      "precision: 0.9410720157842815\n",
      "count_active_tokens_r 15103\n",
      "count_correct_r 14309\n",
      "recall: 0.9474276633781368\n",
      "F1: 0.9442391447802561\n"
     ]
    },
    {
     "name": "stderr",
     "output_type": "stream",
     "text": [
      "100%|██████████████████████████████████████████████████████████████████████████████████████████████████████████████████████████████████████████████| 3638/3638 [19:56<00:00,  3.04it/s]\n"
     ]
    },
    {
     "name": "stdout",
     "output_type": "stream",
     "text": [
      "count_correct_p 33553\n",
      "count_active_tokens_p 33649\n",
      "precision: 0.9971470177419834\n",
      "count_active_tokens_r 33627\n",
      "count_correct_r 33553\n",
      "recall: 0.9977993873970321\n",
      "F1: 0.9974730959034426\n",
      "POS Accuracy:0.998652665572722\n",
      "NER Accuracy:0.9974901309063838\n",
      "count_correct_p 127484\n",
      "count_active_tokens_p 128873\n",
      "precision: 0.9892219471883171\n",
      "count_active_tokens_r 128847\n",
      "count_correct_r 127484\n",
      "recall: 0.9894215620076525\n",
      "F1: 0.9893217445289461\n"
     ]
    },
    {
     "name": "stderr",
     "output_type": "stream",
     "text": [
      "100%|████████████████████████████████████████████████████████████████████████████████████████████████████████████████████████████████████████████████| 432/432 [00:28<00:00, 15.24it/s]\n"
     ]
    },
    {
     "name": "stdout",
     "output_type": "stream",
     "text": [
      "count_correct_p 3078\n",
      "count_active_tokens_p 3154\n",
      "precision: 0.9759036144578314\n",
      "count_active_tokens_r 3146\n",
      "count_correct_r 3078\n",
      "recall: 0.9783852511125238\n",
      "F1: 0.9771428571428572\n",
      "count_correct_p 486\n",
      "count_active_tokens_p 562\n",
      "precision: 0.8647686832740213\n",
      "count_active_tokens_r 554\n",
      "count_correct_r 486\n",
      "recall: 0.8772563176895307\n",
      "F1: 0.8709677419354839\n",
      "POS Accuracy:0.992057702263849\n",
      "NER Accuracy:0.9854332376335483\n",
      "count_correct_p 14245\n",
      "count_active_tokens_p 15136\n",
      "precision: 0.9411337209302325\n",
      "count_active_tokens_r 15103\n",
      "count_correct_r 14245\n",
      "recall: 0.9431900946831755\n",
      "F1: 0.9421607857402692\n"
     ]
    },
    {
     "name": "stderr",
     "output_type": "stream",
     "text": [
      "100%|██████████████████████████████████████████████████████████████████████████████████████████████████████████████████████████████████████████████| 3638/3638 [19:58<00:00,  3.04it/s]\n"
     ]
    },
    {
     "name": "stdout",
     "output_type": "stream",
     "text": [
      "count_correct_p 33542\n",
      "count_active_tokens_p 33641\n",
      "precision: 0.9970571623911298\n",
      "count_active_tokens_r 33627\n",
      "count_correct_r 33542\n",
      "recall: 0.9974722693074017\n",
      "F1: 0.9972646726526729\n",
      "POS Accuracy:0.9987745547767461\n",
      "NER Accuracy:0.9976709987575165\n",
      "count_correct_p 127572\n",
      "count_active_tokens_p 128858\n",
      "precision: 0.9900200220397647\n",
      "count_active_tokens_r 128847\n",
      "count_correct_r 127572\n",
      "recall: 0.9901045425970337\n",
      "F1: 0.9900622805145418\n"
     ]
    },
    {
     "name": "stderr",
     "output_type": "stream",
     "text": [
      "100%|████████████████████████████████████████████████████████████████████████████████████████████████████████████████████████████████████████████████| 432/432 [00:28<00:00, 15.00it/s]\n"
     ]
    },
    {
     "name": "stdout",
     "output_type": "stream",
     "text": [
      "count_correct_p 3097\n",
      "count_active_tokens_p 3179\n",
      "precision: 0.974205725070777\n",
      "count_active_tokens_r 3146\n",
      "count_correct_r 3097\n",
      "recall: 0.9844246662428481\n",
      "F1: 0.9792885375494071\n",
      "count_correct_p 505\n",
      "count_active_tokens_p 587\n",
      "precision: 0.8603066439522998\n",
      "count_active_tokens_r 554\n",
      "count_correct_r 505\n",
      "recall: 0.9115523465703971\n",
      "F1: 0.8851884312007011\n",
      "POS Accuracy:0.9919988704287664\n",
      "NER Accuracy:0.9861274532875229\n",
      "count_correct_p 14285\n",
      "count_active_tokens_p 15132\n",
      "precision: 0.9440259053661115\n",
      "count_active_tokens_r 15103\n",
      "count_correct_r 14285\n",
      "recall: 0.9458385751175263\n",
      "F1: 0.9449313709277326\n"
     ]
    },
    {
     "name": "stderr",
     "output_type": "stream",
     "text": [
      "100%|██████████████████████████████████████████████████████████████████████████████████████████████████████████████████████████████████████████████| 3638/3638 [19:58<00:00,  3.03it/s]\n"
     ]
    },
    {
     "name": "stdout",
     "output_type": "stream",
     "text": [
      "count_correct_p 33550\n",
      "count_active_tokens_p 33630\n",
      "precision: 0.9976211715730003\n",
      "count_active_tokens_r 33627\n",
      "count_correct_r 33550\n",
      "recall: 0.9977101733725875\n",
      "F1: 0.9976656704878303\n",
      "POS Accuracy:0.9988296015140474\n",
      "NER Accuracy:0.9978728367942877\n",
      "count_correct_p 127687\n",
      "count_active_tokens_p 128840\n",
      "precision: 0.9910509158646383\n",
      "count_active_tokens_r 128847\n",
      "count_correct_r 127687\n",
      "recall: 0.9909970740490659\n",
      "F1: 0.9910239942255527\n"
     ]
    },
    {
     "name": "stderr",
     "output_type": "stream",
     "text": [
      "100%|████████████████████████████████████████████████████████████████████████████████████████████████████████████████████████████████████████████████| 432/432 [00:29<00:00, 14.68it/s]\n"
     ]
    },
    {
     "name": "stdout",
     "output_type": "stream",
     "text": [
      "count_correct_p 3092\n",
      "count_active_tokens_p 3176\n",
      "precision: 0.9735516372795969\n",
      "count_active_tokens_r 3146\n",
      "count_correct_r 3092\n",
      "recall: 0.9828353464717101\n",
      "F1: 0.9781714647263524\n",
      "count_correct_p 501\n",
      "count_active_tokens_p 585\n",
      "precision: 0.8564102564102564\n",
      "count_active_tokens_r 554\n",
      "count_correct_r 501\n",
      "recall: 0.9043321299638989\n",
      "F1: 0.8797190517998243\n",
      "POS Accuracy:0.9922459641361133\n",
      "NER Accuracy:0.9858803595801761\n",
      "count_correct_p 14295\n",
      "count_active_tokens_p 15200\n",
      "precision: 0.9404605263157895\n",
      "count_active_tokens_r 15103\n",
      "count_correct_r 14295\n",
      "recall: 0.946500695226114\n",
      "F1: 0.9434709434709435\n"
     ]
    },
    {
     "name": "stderr",
     "output_type": "stream",
     "text": [
      "100%|██████████████████████████████████████████████████████████████████████████████████████████████████████████████████████████████████████████████| 3638/3638 [19:49<00:00,  3.06it/s]\n"
     ]
    },
    {
     "name": "stdout",
     "output_type": "stream",
     "text": [
      "count_correct_p 33559\n",
      "count_active_tokens_p 33620\n",
      "precision: 0.9981856038072576\n",
      "count_active_tokens_r 33627\n",
      "count_correct_r 33559\n",
      "recall: 0.9979778154459215\n",
      "F1: 0.998081698811843\n",
      "POS Accuracy:0.9989174141664089\n",
      "NER Accuracy:0.9981467598441915\n",
      "count_correct_p 127837\n",
      "count_active_tokens_p 128875\n",
      "precision: 0.9919456838021339\n",
      "count_active_tokens_r 128847\n",
      "count_correct_r 127837\n",
      "recall: 0.9921612455082385\n",
      "F1: 0.9920534529454219\n"
     ]
    },
    {
     "name": "stderr",
     "output_type": "stream",
     "text": [
      "100%|████████████████████████████████████████████████████████████████████████████████████████████████████████████████████████████████████████████████| 432/432 [00:30<00:00, 14.34it/s]\n"
     ]
    },
    {
     "name": "stdout",
     "output_type": "stream",
     "text": [
      "count_correct_p 3102\n",
      "count_active_tokens_p 3193\n",
      "precision: 0.9715001565925462\n",
      "count_active_tokens_r 3146\n",
      "count_correct_r 3102\n",
      "recall: 0.986013986013986\n",
      "F1: 0.9787032654992901\n",
      "count_correct_p 510\n",
      "count_active_tokens_p 601\n",
      "precision: 0.848585690515807\n",
      "count_active_tokens_r 554\n",
      "count_correct_r 510\n",
      "recall: 0.9205776173285198\n",
      "F1: 0.8831168831168832\n",
      "POS Accuracy:0.9915752812161717\n",
      "NER Accuracy:0.986198051489622\n",
      "count_correct_p 14320\n",
      "count_active_tokens_p 15220\n",
      "precision: 0.9408672798948752\n",
      "count_active_tokens_r 15103\n",
      "count_correct_r 14320\n",
      "recall: 0.9481559954975832\n",
      "F1: 0.9444975760973517\n"
     ]
    },
    {
     "name": "stderr",
     "output_type": "stream",
     "text": [
      "100%|██████████████████████████████████████████████████████████████████████████████████████████████████████████████████████████████████████████████| 3638/3638 [19:49<00:00,  3.06it/s]\n"
     ]
    },
    {
     "name": "stdout",
     "output_type": "stream",
     "text": [
      "count_correct_p 33571\n",
      "count_active_tokens_p 33631\n",
      "precision: 0.9982159317296542\n",
      "count_active_tokens_r 33627\n",
      "count_correct_r 33571\n",
      "recall: 0.9983346715437\n",
      "F1: 0.9982752981058016\n",
      "POS Accuracy:0.999003916182168\n",
      "NER Accuracy:0.9983001043266736\n",
      "count_correct_p 127940\n",
      "count_active_tokens_p 128871\n",
      "precision: 0.992775721457892\n",
      "count_active_tokens_r 128847\n",
      "count_correct_r 127940\n",
      "recall: 0.992960643243537\n",
      "F1: 0.9928681737402899\n"
     ]
    },
    {
     "name": "stderr",
     "output_type": "stream",
     "text": [
      "100%|████████████████████████████████████████████████████████████████████████████████████████████████████████████████████████████████████████████████| 432/432 [00:29<00:00, 14.77it/s]\n"
     ]
    },
    {
     "name": "stdout",
     "output_type": "stream",
     "text": [
      "count_correct_p 3075\n",
      "count_active_tokens_p 3154\n",
      "precision: 0.9749524413443247\n",
      "count_active_tokens_r 3146\n",
      "count_correct_r 3075\n",
      "recall: 0.9774316592498411\n",
      "F1: 0.9761904761904762\n",
      "count_correct_p 483\n",
      "count_active_tokens_p 562\n",
      "precision: 0.8594306049822064\n",
      "count_active_tokens_r 554\n",
      "count_correct_r 483\n",
      "recall: 0.871841155234657\n",
      "F1: 0.8655913978494624\n",
      "POS Accuracy:0.9921635995669977\n",
      "NER Accuracy:0.9863392478938203\n",
      "count_correct_p 14305\n",
      "count_active_tokens_p 15146\n",
      "precision: 0.9444737884589991\n",
      "count_active_tokens_r 15103\n",
      "count_correct_r 14305\n",
      "recall: 0.9471628153347017\n",
      "F1: 0.9458163906244834\n"
     ]
    },
    {
     "name": "stderr",
     "output_type": "stream",
     "text": [
      "100%|██████████████████████████████████████████████████████████████████████████████████████████████████████████████████████████████████████████████| 3638/3638 [19:55<00:00,  3.04it/s]\n"
     ]
    },
    {
     "name": "stdout",
     "output_type": "stream",
     "text": [
      "count_correct_p 33550\n",
      "count_active_tokens_p 33615\n",
      "precision: 0.9980663394318012\n",
      "count_active_tokens_r 33627\n",
      "count_correct_r 33550\n",
      "recall: 0.9977101733725875\n",
      "F1: 0.9978882246215163\n",
      "POS Accuracy:0.9991441542986259\n",
      "NER Accuracy:0.9983315596051314\n",
      "count_correct_p 127921\n",
      "count_active_tokens_p 128837\n",
      "precision: 0.9928902411574315\n",
      "count_active_tokens_r 128847\n",
      "count_correct_r 127921\n",
      "recall: 0.992813181525375\n",
      "F1: 0.9928517098461682\n"
     ]
    },
    {
     "name": "stderr",
     "output_type": "stream",
     "text": [
      "100%|████████████████████████████████████████████████████████████████████████████████████████████████████████████████████████████████████████████████| 432/432 [00:30<00:00, 13.98it/s]\n"
     ]
    },
    {
     "name": "stdout",
     "output_type": "stream",
     "text": [
      "count_correct_p 3101\n",
      "count_active_tokens_p 3204\n",
      "precision: 0.967852684144819\n",
      "count_active_tokens_r 3146\n",
      "count_correct_r 3101\n",
      "recall: 0.9856961220597584\n",
      "F1: 0.9766929133858268\n",
      "count_correct_p 509\n",
      "count_active_tokens_p 612\n",
      "precision: 0.8316993464052288\n",
      "count_active_tokens_r 554\n",
      "count_correct_r 509\n",
      "recall: 0.9187725631768953\n",
      "F1: 0.8730703259005146\n",
      "POS Accuracy:0.9922106650350637\n",
      "NER Accuracy:0.9860450887184073\n",
      "count_correct_p 14271\n",
      "count_active_tokens_p 15113\n",
      "precision: 0.9442863759677099\n",
      "count_active_tokens_r 15103\n",
      "count_correct_r 14271\n",
      "recall: 0.9449116069655036\n",
      "F1: 0.9445988880063543\n"
     ]
    },
    {
     "name": "stderr",
     "output_type": "stream",
     "text": [
      "100%|██████████████████████████████████████████████████████████████████████████████████████████████████████████████████████████████████████████████| 3638/3638 [20:00<00:00,  3.03it/s]\n"
     ]
    },
    {
     "name": "stdout",
     "output_type": "stream",
     "text": [
      "count_correct_p 33574\n",
      "count_active_tokens_p 33639\n",
      "precision: 0.9980677190166176\n",
      "count_active_tokens_r 33627\n",
      "count_correct_r 33574\n",
      "recall: 0.9984238855681447\n",
      "F1: 0.9982457705229982\n",
      "POS Accuracy:0.9991874053065055\n",
      "NER Accuracy:0.9984927679072279\n",
      "count_correct_p 128007\n",
      "count_active_tokens_p 128819\n",
      "precision: 0.9936965820259434\n",
      "count_active_tokens_r 128847\n",
      "count_correct_r 128007\n",
      "recall: 0.993480639828634\n",
      "F1: 0.9935885991943059\n"
     ]
    },
    {
     "name": "stderr",
     "output_type": "stream",
     "text": [
      "100%|████████████████████████████████████████████████████████████████████████████████████████████████████████████████████████████████████████████████| 432/432 [00:29<00:00, 14.80it/s]\n"
     ]
    },
    {
     "name": "stdout",
     "output_type": "stream",
     "text": [
      "count_correct_p 3097\n",
      "count_active_tokens_p 3189\n",
      "precision: 0.9711508309814989\n",
      "count_active_tokens_r 3146\n",
      "count_correct_r 3097\n",
      "recall: 0.9844246662428481\n",
      "F1: 0.9777426992896605\n",
      "count_correct_p 505\n",
      "count_active_tokens_p 597\n",
      "precision: 0.8458961474036851\n",
      "count_active_tokens_r 554\n",
      "count_correct_r 505\n",
      "recall: 0.9115523465703971\n",
      "F1: 0.8774978279756733\n",
      "POS Accuracy:0.9922224314020803\n",
      "NER Accuracy:0.9860333223513907\n",
      "count_correct_p 14344\n",
      "count_active_tokens_p 15295\n",
      "precision: 0.9378228179143511\n",
      "count_active_tokens_r 15103\n",
      "count_correct_r 14344\n",
      "recall: 0.9497450837581938\n",
      "F1: 0.9437462990986248\n"
     ]
    },
    {
     "name": "stderr",
     "output_type": "stream",
     "text": [
      "100%|██████████████████████████████████████████████████████████████████████████████████████████████████████████████████████████████████████████████| 3638/3638 [20:01<00:00,  3.03it/s]\n"
     ]
    },
    {
     "name": "stdout",
     "output_type": "stream",
     "text": [
      "count_correct_p 33578\n",
      "count_active_tokens_p 33628\n",
      "precision: 0.9985131438087308\n",
      "count_active_tokens_r 33627\n",
      "count_correct_r 33578\n",
      "recall: 0.9985428376007375\n",
      "F1: 0.9985279904839788\n",
      "POS Accuracy:0.9992345882241922\n",
      "NER Accuracy:0.998550435917734\n",
      "count_correct_p 128050\n",
      "count_active_tokens_p 128846\n",
      "precision: 0.9938220821756205\n",
      "count_active_tokens_r 128847\n",
      "count_correct_r 128050\n",
      "recall: 0.9938143689802634\n",
      "F1: 0.993818225562976\n"
     ]
    },
    {
     "name": "stderr",
     "output_type": "stream",
     "text": [
      "100%|████████████████████████████████████████████████████████████████████████████████████████████████████████████████████████████████████████████████| 432/432 [00:29<00:00, 14.64it/s]\n"
     ]
    },
    {
     "name": "stdout",
     "output_type": "stream",
     "text": [
      "count_correct_p 3085\n",
      "count_active_tokens_p 3164\n",
      "precision: 0.9750316055625791\n",
      "count_active_tokens_r 3146\n",
      "count_correct_r 3085\n",
      "recall: 0.9806102987921169\n",
      "F1: 0.9778129952456418\n",
      "count_correct_p 493\n",
      "count_active_tokens_p 572\n",
      "precision: 0.8618881118881119\n",
      "count_active_tokens_r 554\n",
      "count_correct_r 493\n",
      "recall: 0.8898916967509025\n",
      "F1: 0.8756660746003552\n",
      "POS Accuracy:0.9916458794182708\n",
      "NER Accuracy:0.9861392196545394\n",
      "count_correct_p 14363\n",
      "count_active_tokens_p 15329\n",
      "precision: 0.936982190619088\n",
      "count_active_tokens_r 15103\n",
      "count_correct_r 14363\n",
      "recall: 0.9510031119645104\n",
      "F1: 0.9439405888538381\n"
     ]
    },
    {
     "name": "stderr",
     "output_type": "stream",
     "text": [
      "100%|██████████████████████████████████████████████████████████████████████████████████████████████████████████████████████████████████████████████| 3638/3638 [19:48<00:00,  3.06it/s]\n"
     ]
    },
    {
     "name": "stdout",
     "output_type": "stream",
     "text": [
      "count_correct_p 33574\n",
      "count_active_tokens_p 33623\n",
      "precision: 0.9985426642476876\n",
      "count_active_tokens_r 33627\n",
      "count_correct_r 33574\n",
      "recall: 0.9984238855681447\n",
      "F1: 0.9984832713754647\n",
      "POS Accuracy:0.9992634222294453\n",
      "NER Accuracy:0.998681499577975\n",
      "count_correct_p 128132\n",
      "count_active_tokens_p 128843\n",
      "precision: 0.9944816559688924\n",
      "count_active_tokens_r 128847\n",
      "count_correct_r 128132\n",
      "recall: 0.9944507827112777\n",
      "F1: 0.9944662191004696\n"
     ]
    },
    {
     "name": "stderr",
     "output_type": "stream",
     "text": [
      "100%|████████████████████████████████████████████████████████████████████████████████████████████████████████████████████████████████████████████████| 432/432 [00:28<00:00, 15.42it/s]\n"
     ]
    },
    {
     "name": "stdout",
     "output_type": "stream",
     "text": [
      "count_correct_p 3096\n",
      "count_active_tokens_p 3187\n",
      "precision: 0.9714465014119862\n",
      "count_active_tokens_r 3146\n",
      "count_correct_r 3096\n",
      "recall: 0.9841068022886205\n",
      "F1: 0.9777356702984368\n",
      "count_correct_p 504\n",
      "count_active_tokens_p 595\n",
      "precision: 0.8470588235294118\n",
      "count_active_tokens_r 554\n",
      "count_correct_r 504\n",
      "recall: 0.9097472924187726\n",
      "F1: 0.8772845953002611\n",
      "POS Accuracy:0.9923047959711959\n",
      "NER Accuracy:0.9859156586812255\n",
      "count_correct_p 14320\n",
      "count_active_tokens_p 15248\n",
      "precision: 0.9391395592864638\n",
      "count_active_tokens_r 15103\n",
      "count_correct_r 14320\n",
      "recall: 0.9481559954975832\n",
      "F1: 0.9436262396626139\n"
     ]
    },
    {
     "name": "stderr",
     "output_type": "stream",
     "text": [
      "100%|██████████████████████████████████████████████████████████████████████████████████████████████████████████████████████████████████████████████| 3638/3638 [20:05<00:00,  3.02it/s]\n"
     ]
    },
    {
     "name": "stdout",
     "output_type": "stream",
     "text": [
      "count_correct_p 33545\n",
      "count_active_tokens_p 33621\n",
      "precision: 0.9977395080455668\n",
      "count_active_tokens_r 33627\n",
      "count_correct_r 33545\n",
      "recall: 0.9975614833318465\n",
      "F1: 0.9976504877468475\n",
      "POS Accuracy:0.9992961881445056\n",
      "NER Accuracy:0.9986198996576617\n",
      "count_correct_p 128087\n",
      "count_active_tokens_p 128856\n",
      "precision: 0.9940320978456572\n",
      "count_active_tokens_r 128847\n",
      "count_correct_r 128087\n",
      "recall: 0.994101531273526\n",
      "F1: 0.9940668133471477\n"
     ]
    },
    {
     "name": "stderr",
     "output_type": "stream",
     "text": [
      "100%|████████████████████████████████████████████████████████████████████████████████████████████████████████████████████████████████████████████████| 432/432 [00:29<00:00, 14.43it/s]\n"
     ]
    },
    {
     "name": "stdout",
     "output_type": "stream",
     "text": [
      "count_correct_p 3092\n",
      "count_active_tokens_p 3175\n",
      "precision: 0.9738582677165354\n",
      "count_active_tokens_r 3146\n",
      "count_correct_r 3092\n",
      "recall: 0.9828353464717101\n",
      "F1: 0.9783262142066128\n",
      "count_correct_p 500\n",
      "count_active_tokens_p 583\n",
      "precision: 0.8576329331046312\n",
      "count_active_tokens_r 554\n",
      "count_correct_r 500\n",
      "recall: 0.9025270758122743\n",
      "F1: 0.8795074758135444\n",
      "POS Accuracy:0.9921165340989316\n",
      "NER Accuracy:0.9859627241492916\n",
      "count_correct_p 14300\n",
      "count_active_tokens_p 15218\n",
      "precision: 0.9396766986463398\n",
      "count_active_tokens_r 15103\n",
      "count_correct_r 14300\n",
      "recall: 0.9468317552804079\n",
      "F1: 0.9432406582896342\n"
     ]
    },
    {
     "name": "stderr",
     "output_type": "stream",
     "text": [
      "100%|██████████████████████████████████████████████████████████████████████████████████████████████████████████████████████████████████████████████| 3638/3638 [20:08<00:00,  3.01it/s]\n"
     ]
    },
    {
     "name": "stdout",
     "output_type": "stream",
     "text": [
      "count_correct_p 33579\n",
      "count_active_tokens_p 33638\n",
      "precision: 0.9982460312741542\n",
      "count_active_tokens_r 33627\n",
      "count_correct_r 33579\n",
      "recall: 0.9985725756088857\n",
      "F1: 0.9984092767412472\n",
      "POS Accuracy:0.9993590987014213\n",
      "NER Accuracy:0.9987824185963606\n",
      "count_correct_p 128207\n",
      "count_active_tokens_p 128864\n",
      "precision: 0.994901601688602\n",
      "count_active_tokens_r 128847\n",
      "count_correct_r 128207\n",
      "recall: 0.9950328684408639\n",
      "F1: 0.9949672307352033\n"
     ]
    },
    {
     "name": "stderr",
     "output_type": "stream",
     "text": [
      "100%|████████████████████████████████████████████████████████████████████████████████████████████████████████████████████████████████████████████████| 432/432 [00:31<00:00, 13.85it/s]\n"
     ]
    },
    {
     "name": "stdout",
     "output_type": "stream",
     "text": [
      "count_correct_p 3099\n",
      "count_active_tokens_p 3190\n",
      "precision: 0.9714733542319749\n",
      "count_active_tokens_r 3146\n",
      "count_correct_r 3099\n",
      "recall: 0.9850603941513032\n",
      "F1: 0.978219696969697\n",
      "count_correct_p 507\n",
      "count_active_tokens_p 598\n",
      "precision: 0.8478260869565217\n",
      "count_active_tokens_r 554\n",
      "count_correct_r 507\n",
      "recall: 0.9151624548736462\n",
      "F1: 0.8802083333333334\n",
      "POS Accuracy:0.9924106932743446\n",
      "NER Accuracy:0.9863392478938203\n",
      "count_correct_p 14313\n",
      "count_active_tokens_p 15175\n",
      "precision: 0.9431960461285008\n",
      "count_active_tokens_r 15103\n",
      "count_correct_r 14313\n",
      "recall: 0.9476925114215718\n",
      "F1: 0.9454389325582931\n"
     ]
    },
    {
     "name": "stderr",
     "output_type": "stream",
     "text": [
      "100%|██████████████████████████████████████████████████████████████████████████████████████████████████████████████████████████████████████████████| 3638/3638 [20:17<00:00,  2.99it/s]\n"
     ]
    },
    {
     "name": "stdout",
     "output_type": "stream",
     "text": [
      "count_correct_p 33593\n",
      "count_active_tokens_p 33639\n",
      "precision: 0.9986325396117601\n",
      "count_active_tokens_r 33627\n",
      "count_correct_r 33593\n",
      "recall: 0.9989889077229607\n",
      "F1: 0.9988106918799987\n",
      "POS Accuracy:0.9993682731576381\n",
      "NER Accuracy:0.9988767844317342\n",
      "count_correct_p 128236\n",
      "count_active_tokens_p 128841\n",
      "precision: 0.9953042897835317\n",
      "count_active_tokens_r 128847\n",
      "count_correct_r 128236\n",
      "recall: 0.9952579415896373\n",
      "F1: 0.9952811151469995\n"
     ]
    },
    {
     "name": "stderr",
     "output_type": "stream",
     "text": [
      "100%|████████████████████████████████████████████████████████████████████████████████████████████████████████████████████████████████████████████████| 432/432 [00:32<00:00, 13.42it/s]\n"
     ]
    },
    {
     "name": "stdout",
     "output_type": "stream",
     "text": [
      "count_correct_p 3089\n",
      "count_active_tokens_p 3173\n",
      "precision: 0.973526630948629\n",
      "count_active_tokens_r 3146\n",
      "count_correct_r 3089\n",
      "recall: 0.9818817546090274\n",
      "F1: 0.9776863427757556\n",
      "count_correct_p 497\n",
      "count_active_tokens_p 581\n",
      "precision: 0.8554216867469879\n",
      "count_active_tokens_r 554\n",
      "count_correct_r 497\n",
      "recall: 0.8971119133574007\n",
      "F1: 0.8757709251101322\n",
      "POS Accuracy:0.9913281875088248\n",
      "NER Accuracy:0.9866687061702829\n",
      "count_correct_p 14388\n",
      "count_active_tokens_p 15297\n",
      "precision: 0.9405765836438518\n",
      "count_active_tokens_r 15103\n",
      "count_correct_r 14388\n",
      "recall: 0.9526584122359796\n",
      "F1: 0.9465789473684211\n"
     ]
    },
    {
     "name": "stderr",
     "output_type": "stream",
     "text": [
      "100%|██████████████████████████████████████████████████████████████████████████████████████████████████████████████████████████████████████████████| 3638/3638 [20:11<00:00,  3.00it/s]\n"
     ]
    },
    {
     "name": "stdout",
     "output_type": "stream",
     "text": [
      "count_correct_p 33582\n",
      "count_active_tokens_p 33626\n",
      "precision: 0.9986914887289597\n",
      "count_active_tokens_r 33627\n",
      "count_correct_r 33582\n",
      "recall: 0.9986617896333304\n",
      "F1: 0.9986766389603439\n",
      "POS Accuracy:0.9994233198949394\n",
      "NER Accuracy:0.9989894991795415\n",
      "count_correct_p 128274\n",
      "count_active_tokens_p 128844\n",
      "precision: 0.995576045450312\n",
      "count_active_tokens_r 128847\n",
      "count_correct_r 128274\n",
      "recall: 0.9955528650259611\n",
      "F1: 0.995564455103205\n"
     ]
    },
    {
     "name": "stderr",
     "output_type": "stream",
     "text": [
      "100%|████████████████████████████████████████████████████████████████████████████████████████████████████████████████████████████████████████████████| 432/432 [00:29<00:00, 14.40it/s]\n"
     ]
    },
    {
     "name": "stdout",
     "output_type": "stream",
     "text": [
      "count_correct_p 3097\n",
      "count_active_tokens_p 3181\n",
      "precision: 0.9735932096824897\n",
      "count_active_tokens_r 3146\n",
      "count_correct_r 3097\n",
      "recall: 0.9844246662428481\n",
      "F1: 0.9789789789789789\n",
      "count_correct_p 506\n",
      "count_active_tokens_p 590\n",
      "precision: 0.8576271186440678\n",
      "count_active_tokens_r 554\n",
      "count_correct_r 506\n",
      "recall: 0.9133574007220217\n",
      "F1: 0.8846153846153846\n",
      "POS Accuracy:0.9920459358968325\n",
      "NER Accuracy:0.9862804160587377\n",
      "count_correct_p 14325\n",
      "count_active_tokens_p 15240\n",
      "precision: 0.9399606299212598\n",
      "count_active_tokens_r 15103\n",
      "count_correct_r 14325\n",
      "recall: 0.9484870555518771\n",
      "F1: 0.9442045941403289\n"
     ]
    },
    {
     "name": "stderr",
     "output_type": "stream",
     "text": [
      "100%|██████████████████████████████████████████████████████████████████████████████████████████████████████████████████████████████████████████████| 3638/3638 [20:23<00:00,  2.97it/s]\n"
     ]
    },
    {
     "name": "stdout",
     "output_type": "stream",
     "text": [
      "count_correct_p 33596\n",
      "count_active_tokens_p 33636\n",
      "precision: 0.9988107979545725\n",
      "count_active_tokens_r 33627\n",
      "count_correct_r 33596\n",
      "recall: 0.9990781217474054\n",
      "F1: 0.9989444419666088\n",
      "POS Accuracy:0.999406281619108\n",
      "NER Accuracy:0.9989645970840957\n",
      "count_correct_p 128275\n",
      "count_active_tokens_p 128827\n",
      "precision: 0.9957151839288348\n",
      "count_active_tokens_r 128847\n",
      "count_correct_r 128275\n",
      "recall: 0.9955606261690222\n",
      "F1: 0.9956378990507385\n"
     ]
    },
    {
     "name": "stderr",
     "output_type": "stream",
     "text": [
      "100%|████████████████████████████████████████████████████████████████████████████████████████████████████████████████████████████████████████████████| 432/432 [00:29<00:00, 14.50it/s]\n"
     ]
    },
    {
     "name": "stdout",
     "output_type": "stream",
     "text": [
      "count_correct_p 3085\n",
      "count_active_tokens_p 3161\n",
      "precision: 0.97595697564062\n",
      "count_active_tokens_r 3146\n",
      "count_correct_r 3085\n",
      "recall: 0.9806102987921169\n",
      "F1: 0.9782781036943079\n",
      "count_correct_p 493\n",
      "count_active_tokens_p 569\n",
      "precision: 0.8664323374340949\n",
      "count_active_tokens_r 554\n",
      "count_correct_r 493\n",
      "recall: 0.8898916967509025\n",
      "F1: 0.8780053428317007\n",
      "POS Accuracy:0.9923047959711959\n",
      "NER Accuracy:0.986198051489622\n",
      "count_correct_p 14302\n",
      "count_active_tokens_p 15194\n",
      "precision: 0.9412926155061209\n",
      "count_active_tokens_r 15103\n",
      "count_correct_r 14302\n",
      "recall: 0.9469641793021254\n",
      "F1: 0.9441198798560914\n"
     ]
    },
    {
     "name": "stderr",
     "output_type": "stream",
     "text": [
      "100%|██████████████████████████████████████████████████████████████████████████████████████████████████████████████████████████████████████████████| 3638/3638 [19:44<00:00,  3.07it/s]\n"
     ]
    },
    {
     "name": "stdout",
     "output_type": "stream",
     "text": [
      "count_correct_p 33592\n",
      "count_active_tokens_p 33630\n",
      "precision: 0.9988700564971752\n",
      "count_active_tokens_r 33627\n",
      "count_correct_r 33592\n",
      "recall: 0.9989591697148125\n",
      "F1: 0.9989146111185453\n",
      "POS Accuracy:0.9995045793642888\n",
      "NER Accuracy:0.9990786224685054\n",
      "count_correct_p 128349\n",
      "count_active_tokens_p 128850\n",
      "precision: 0.9961117578579743\n",
      "count_active_tokens_r 128847\n",
      "count_correct_r 128349\n",
      "recall: 0.9961349507555473\n",
      "F1: 0.9961233541717599\n"
     ]
    },
    {
     "name": "stderr",
     "output_type": "stream",
     "text": [
      "100%|████████████████████████████████████████████████████████████████████████████████████████████████████████████████████████████████████████████████| 432/432 [00:28<00:00, 15.23it/s]\n"
     ]
    },
    {
     "name": "stdout",
     "output_type": "stream",
     "text": [
      "count_correct_p 3098\n",
      "count_active_tokens_p 3184\n",
      "precision: 0.9729899497487438\n",
      "count_active_tokens_r 3146\n",
      "count_correct_r 3098\n",
      "recall: 0.9847425301970757\n",
      "F1: 0.9788309636650869\n",
      "count_correct_p 506\n",
      "count_active_tokens_p 592\n",
      "precision: 0.8547297297297297\n",
      "count_active_tokens_r 554\n",
      "count_correct_r 506\n",
      "recall: 0.9133574007220217\n",
      "F1: 0.8830715532286212\n",
      "POS Accuracy:0.9924577587424107\n",
      "NER Accuracy:0.9861392196545394\n",
      "count_correct_p 14293\n",
      "count_active_tokens_p 15173\n",
      "precision: 0.9420022408225137\n",
      "count_active_tokens_r 15103\n",
      "count_correct_r 14293\n",
      "recall: 0.9463682712043965\n",
      "F1: 0.9441802087462016\n"
     ]
    },
    {
     "name": "stderr",
     "output_type": "stream",
     "text": [
      "100%|██████████████████████████████████████████████████████████████████████████████████████████████████████████████████████████████████████████████| 3638/3638 [20:03<00:00,  3.02it/s]\n"
     ]
    },
    {
     "name": "stdout",
     "output_type": "stream",
     "text": [
      "count_correct_p 33597\n",
      "count_active_tokens_p 33634\n",
      "precision: 0.9988999226972706\n",
      "count_active_tokens_r 33627\n",
      "count_correct_r 33597\n",
      "recall: 0.9991078597555536\n",
      "F1: 0.9990038804061789\n",
      "POS Accuracy:0.9994822985420478\n",
      "NER Accuracy:0.9991048352005536\n",
      "count_correct_p 128370\n",
      "count_active_tokens_p 128845\n",
      "precision: 0.9963133998214909\n",
      "count_active_tokens_r 128847\n",
      "count_correct_r 128370\n",
      "recall: 0.9962979347598314\n",
      "F1: 0.9963056672306475\n"
     ]
    },
    {
     "name": "stderr",
     "output_type": "stream",
     "text": [
      "100%|████████████████████████████████████████████████████████████████████████████████████████████████████████████████████████████████████████████████| 432/432 [00:30<00:00, 14.08it/s]\n"
     ]
    },
    {
     "name": "stdout",
     "output_type": "stream",
     "text": [
      "count_correct_p 3083\n",
      "count_active_tokens_p 3160\n",
      "precision: 0.975632911392405\n",
      "count_active_tokens_r 3146\n",
      "count_correct_r 3083\n",
      "recall: 0.9799745708836618\n",
      "F1: 0.9777989216619094\n",
      "count_correct_p 492\n",
      "count_active_tokens_p 569\n",
      "precision: 0.8646748681898067\n",
      "count_active_tokens_r 554\n",
      "count_correct_r 492\n",
      "recall: 0.8880866425992779\n",
      "F1: 0.8762243989314337\n",
      "POS Accuracy:0.9918223749235187\n",
      "NER Accuracy:0.9862804160587377\n",
      "count_correct_p 14368\n",
      "count_active_tokens_p 15316\n",
      "precision: 0.9381039435884043\n",
      "count_active_tokens_r 15103\n",
      "count_correct_r 14368\n",
      "recall: 0.9513341720188042\n",
      "F1: 0.9446727374338408\n"
     ]
    },
    {
     "name": "stderr",
     "output_type": "stream",
     "text": [
      "100%|██████████████████████████████████████████████████████████████████████████████████████████████████████████████████████████████████████████████| 3638/3638 [19:51<00:00,  3.05it/s]\n"
     ]
    },
    {
     "name": "stdout",
     "output_type": "stream",
     "text": [
      "count_correct_p 33592\n",
      "count_active_tokens_p 33630\n",
      "precision: 0.9988700564971752\n",
      "count_active_tokens_r 33627\n",
      "count_correct_r 33592\n",
      "recall: 0.9989591697148125\n",
      "F1: 0.9989146111185453\n",
      "POS Accuracy:0.9995648686479998\n",
      "NER Accuracy:0.9991349798424091\n",
      "count_correct_p 128372\n",
      "count_active_tokens_p 128850\n",
      "precision: 0.9962902599922391\n",
      "count_active_tokens_r 128847\n",
      "count_correct_r 128372\n",
      "recall: 0.9963134570459538\n",
      "F1: 0.9963018583840714\n"
     ]
    },
    {
     "name": "stderr",
     "output_type": "stream",
     "text": [
      "100%|████████████████████████████████████████████████████████████████████████████████████████████████████████████████████████████████████████████████| 432/432 [00:30<00:00, 14.18it/s]\n"
     ]
    },
    {
     "name": "stdout",
     "output_type": "stream",
     "text": [
      "count_correct_p 3103\n",
      "count_active_tokens_p 3189\n",
      "precision: 0.9730322985261838\n",
      "count_active_tokens_r 3146\n",
      "count_correct_r 3103\n",
      "recall: 0.9863318499682137\n",
      "F1: 0.9796369376479874\n",
      "count_correct_p 511\n",
      "count_active_tokens_p 597\n",
      "precision: 0.8559463986599665\n",
      "count_active_tokens_r 554\n",
      "count_correct_r 511\n",
      "recall: 0.9223826714801444\n",
      "F1: 0.887923544743701\n",
      "POS Accuracy:0.9922106650350637\n",
      "NER Accuracy:0.9864098460959194\n",
      "count_correct_p 14334\n",
      "count_active_tokens_p 15223\n",
      "precision: 0.9416015240097221\n",
      "count_active_tokens_r 15103\n",
      "count_correct_r 14334\n",
      "recall: 0.9490829636496061\n",
      "F1: 0.9453274417991162\n"
     ]
    },
    {
     "name": "stderr",
     "output_type": "stream",
     "text": [
      "100%|██████████████████████████████████████████████████████████████████████████████████████████████████████████████████████████████████████████████| 3638/3638 [19:42<00:00,  3.08it/s]\n"
     ]
    },
    {
     "name": "stdout",
     "output_type": "stream",
     "text": [
      "count_correct_p 33593\n",
      "count_active_tokens_p 33624\n",
      "precision: 0.9990780394955984\n",
      "count_active_tokens_r 33627\n",
      "count_correct_r 33593\n",
      "recall: 0.9989889077229607\n",
      "F1: 0.9990334716212398\n",
      "POS Accuracy:0.9995556941917828\n",
      "NER Accuracy:0.9990943501077343\n",
      "count_correct_p 128372\n",
      "count_active_tokens_p 128862\n",
      "precision: 0.996197482578262\n",
      "count_active_tokens_r 128847\n",
      "count_correct_r 128372\n",
      "recall: 0.9963134570459538\n",
      "F1: 0.9962554664369502\n"
     ]
    },
    {
     "name": "stderr",
     "output_type": "stream",
     "text": [
      "100%|████████████████████████████████████████████████████████████████████████████████████████████████████████████████████████████████████████████████| 432/432 [00:30<00:00, 14.18it/s]\n"
     ]
    },
    {
     "name": "stdout",
     "output_type": "stream",
     "text": [
      "count_correct_p 3091\n",
      "count_active_tokens_p 3173\n",
      "precision: 0.974156949259376\n",
      "count_active_tokens_r 3146\n",
      "count_correct_r 3091\n",
      "recall: 0.9825174825174825\n",
      "F1: 0.9783193543282166\n",
      "count_correct_p 499\n",
      "count_active_tokens_p 581\n",
      "precision: 0.8588640275387264\n",
      "count_active_tokens_r 554\n",
      "count_correct_r 499\n",
      "recall: 0.9007220216606499\n",
      "F1: 0.8792951541850221\n",
      "POS Accuracy:0.9921871323010307\n",
      "NER Accuracy:0.9859391914152587\n",
      "count_correct_p 14322\n",
      "count_active_tokens_p 15259\n",
      "precision: 0.9385936168818402\n",
      "count_active_tokens_r 15103\n",
      "count_correct_r 14322\n",
      "recall: 0.9482884195193008\n",
      "F1: 0.9434161122455701\n"
     ]
    },
    {
     "name": "stderr",
     "output_type": "stream",
     "text": [
      "100%|██████████████████████████████████████████████████████████████████████████████████████████████████████████████████████████████████████████████| 3638/3638 [20:01<00:00,  3.03it/s]\n"
     ]
    },
    {
     "name": "stdout",
     "output_type": "stream",
     "text": [
      "count_correct_p 33586\n",
      "count_active_tokens_p 33626\n",
      "precision: 0.9988104442990543\n",
      "count_active_tokens_r 33627\n",
      "count_correct_r 33586\n",
      "recall: 0.9987807416659232\n",
      "F1: 0.9987955927616612\n",
      "POS Accuracy:0.9996002558362648\n",
      "NER Accuracy:0.9991598819378549\n",
      "count_correct_p 128383\n",
      "count_active_tokens_p 128837\n",
      "precision: 0.996476167560561\n",
      "count_active_tokens_r 128847\n",
      "count_correct_r 128383\n",
      "recall: 0.9963988296196263\n",
      "F1: 0.9964374970894584\n"
     ]
    },
    {
     "name": "stderr",
     "output_type": "stream",
     "text": [
      "100%|████████████████████████████████████████████████████████████████████████████████████████████████████████████████████████████████████████████████| 432/432 [00:30<00:00, 14.00it/s]\n"
     ]
    },
    {
     "name": "stdout",
     "output_type": "stream",
     "text": [
      "count_correct_p 3089\n",
      "count_active_tokens_p 3173\n",
      "precision: 0.973526630948629\n",
      "count_active_tokens_r 3146\n",
      "count_correct_r 3089\n",
      "recall: 0.9818817546090274\n",
      "F1: 0.9776863427757556\n",
      "count_correct_p 497\n",
      "count_active_tokens_p 581\n",
      "precision: 0.8554216867469879\n",
      "count_active_tokens_r 554\n",
      "count_correct_r 497\n",
      "recall: 0.8971119133574007\n",
      "F1: 0.8757709251101322\n",
      "POS Accuracy:0.9922694968701464\n",
      "NER Accuracy:0.985903892314209\n",
      "count_correct_p 14350\n",
      "count_active_tokens_p 15321\n",
      "precision: 0.9366229358396971\n",
      "count_active_tokens_r 15103\n",
      "count_correct_r 14350\n",
      "recall: 0.9501423558233464\n",
      "F1: 0.9433342098343414\n"
     ]
    },
    {
     "name": "stderr",
     "output_type": "stream",
     "text": [
      "100%|██████████████████████████████████████████████████████████████████████████████████████████████████████████████████████████████████████████████| 3638/3638 [20:30<00:00,  2.96it/s]\n"
     ]
    },
    {
     "name": "stdout",
     "output_type": "stream",
     "text": [
      "count_correct_p 33603\n",
      "count_active_tokens_p 33635\n",
      "precision: 0.999048610078787\n",
      "count_active_tokens_r 33627\n",
      "count_correct_r 33603\n",
      "recall: 0.9992862878044428\n",
      "F1: 0.999167434807172\n",
      "POS Accuracy:0.9995714218310118\n",
      "NER Accuracy:0.9991978903993247\n",
      "count_correct_p 128435\n",
      "count_active_tokens_p 128855\n",
      "precision: 0.9967405222924993\n",
      "count_active_tokens_r 128847\n",
      "count_correct_r 128435\n",
      "recall: 0.9968024090588061\n",
      "F1: 0.9967714647150584\n"
     ]
    },
    {
     "name": "stderr",
     "output_type": "stream",
     "text": [
      "100%|████████████████████████████████████████████████████████████████████████████████████████████████████████████████████████████████████████████████| 432/432 [00:29<00:00, 14.70it/s]\n"
     ]
    },
    {
     "name": "stdout",
     "output_type": "stream",
     "text": [
      "count_correct_p 3078\n",
      "count_active_tokens_p 3139\n",
      "precision: 0.9805670595731124\n",
      "count_active_tokens_r 3146\n",
      "count_correct_r 3078\n",
      "recall: 0.9783852511125238\n",
      "F1: 0.9794749403341289\n",
      "count_correct_p 486\n",
      "count_active_tokens_p 547\n",
      "precision: 0.8884826325411335\n",
      "count_active_tokens_r 554\n",
      "count_correct_r 486\n",
      "recall: 0.8772563176895307\n",
      "F1: 0.8828337874659401\n",
      "POS Accuracy:0.9921047677319151\n",
      "NER Accuracy:0.9863274815268038\n",
      "count_correct_p 14309\n",
      "count_active_tokens_p 15172\n",
      "precision: 0.9431189032428157\n",
      "count_active_tokens_r 15103\n",
      "count_correct_r 14309\n",
      "recall: 0.9474276633781368\n",
      "F1: 0.9452683732452518\n"
     ]
    },
    {
     "name": "stderr",
     "output_type": "stream",
     "text": [
      "100%|██████████████████████████████████████████████████████████████████████████████████████████████████████████████████████████████████████████████| 3638/3638 [20:22<00:00,  2.98it/s]\n"
     ]
    },
    {
     "name": "stdout",
     "output_type": "stream",
     "text": [
      "count_correct_p 33587\n",
      "count_active_tokens_p 33628\n",
      "precision: 0.9987807779231592\n",
      "count_active_tokens_r 33627\n",
      "count_correct_r 33587\n",
      "recall: 0.9988104796740714\n",
      "F1: 0.9987956285778009\n",
      "POS Accuracy:0.9995805962872286\n",
      "NER Accuracy:0.9993001200543128\n",
      "count_correct_p 128448\n",
      "count_active_tokens_p 128832\n",
      "precision: 0.9970193740685543\n",
      "count_active_tokens_r 128847\n",
      "count_correct_r 128448\n",
      "recall: 0.9969033039186012\n",
      "F1: 0.9969613356152421\n"
     ]
    },
    {
     "name": "stderr",
     "output_type": "stream",
     "text": [
      "100%|████████████████████████████████████████████████████████████████████████████████████████████████████████████████████████████████████████████████| 432/432 [00:30<00:00, 14.07it/s]\n"
     ]
    },
    {
     "name": "stdout",
     "output_type": "stream",
     "text": [
      "count_correct_p 3092\n",
      "count_active_tokens_p 3176\n",
      "precision: 0.9735516372795969\n",
      "count_active_tokens_r 3146\n",
      "count_correct_r 3092\n",
      "recall: 0.9828353464717101\n",
      "F1: 0.9781714647263524\n",
      "count_correct_p 500\n",
      "count_active_tokens_p 584\n",
      "precision: 0.8561643835616438\n",
      "count_active_tokens_r 554\n",
      "count_correct_r 500\n",
      "recall: 0.9025270758122743\n",
      "F1: 0.8787346221441124\n",
      "POS Accuracy:0.99198710406175\n",
      "NER Accuracy:0.9860921541864733\n",
      "count_correct_p 14355\n",
      "count_active_tokens_p 15301\n",
      "precision: 0.9381739755571531\n",
      "count_active_tokens_r 15103\n",
      "count_correct_r 14355\n",
      "recall: 0.9504734158776402\n",
      "F1: 0.9442836468885674\n"
     ]
    },
    {
     "name": "stderr",
     "output_type": "stream",
     "text": [
      "100%|██████████████████████████████████████████████████████████████████████████████████████████████████████████████████████████████████████████████| 3638/3638 [20:32<00:00,  2.95it/s]\n"
     ]
    },
    {
     "name": "stdout",
     "output_type": "stream",
     "text": [
      "count_correct_p 33571\n",
      "count_active_tokens_p 33637\n",
      "precision: 0.9980378749591224\n",
      "count_active_tokens_r 33627\n",
      "count_correct_r 33571\n",
      "recall: 0.9983346715437\n",
      "F1: 0.9981862511893436\n",
      "POS Accuracy:0.9995937026532528\n",
      "NER Accuracy:0.999268664775855\n",
      "count_correct_p 128442\n",
      "count_active_tokens_p 128832\n",
      "precision: 0.9969728017883756\n",
      "count_active_tokens_r 128847\n",
      "count_correct_r 128442\n",
      "recall: 0.9968567370602343\n",
      "F1: 0.9969147660461272\n"
     ]
    },
    {
     "name": "stderr",
     "output_type": "stream",
     "text": [
      "100%|████████████████████████████████████████████████████████████████████████████████████████████████████████████████████████████████████████████████| 432/432 [00:30<00:00, 14.31it/s]\n"
     ]
    },
    {
     "name": "stdout",
     "output_type": "stream",
     "text": [
      "count_correct_p 3089\n",
      "count_active_tokens_p 3180\n",
      "precision: 0.9713836477987421\n",
      "count_active_tokens_r 3146\n",
      "count_correct_r 3089\n",
      "recall: 0.9818817546090274\n",
      "F1: 0.9766044894087891\n",
      "count_correct_p 507\n",
      "count_active_tokens_p 598\n",
      "precision: 0.8478260869565217\n",
      "count_active_tokens_r 554\n",
      "count_correct_r 507\n",
      "recall: 0.9151624548736462\n",
      "F1: 0.8802083333333334\n",
      "POS Accuracy:0.9920930013648985\n",
      "NER Accuracy:0.9862451169576881\n",
      "count_correct_p 14302\n",
      "count_active_tokens_p 15171\n",
      "precision: 0.942719662514007\n",
      "count_active_tokens_r 15103\n",
      "count_correct_r 14302\n",
      "recall: 0.9469641793021254\n",
      "F1: 0.9448371539935257\n"
     ]
    },
    {
     "name": "stderr",
     "output_type": "stream",
     "text": [
      "100%|██████████████████████████████████████████████████████████████████████████████████████████████████████████████████████████████████████████████| 3638/3638 [20:17<00:00,  2.99it/s]\n"
     ]
    },
    {
     "name": "stdout",
     "output_type": "stream",
     "text": [
      "count_correct_p 33573\n",
      "count_active_tokens_p 33637\n",
      "precision: 0.9980973332936944\n",
      "count_active_tokens_r 33627\n",
      "count_correct_r 33573\n",
      "recall: 0.9983941475599964\n",
      "F1: 0.9982457183634634\n",
      "POS Accuracy:0.9995674899212045\n",
      "NER Accuracy:0.9993276434229634\n",
      "count_correct_p 128484\n",
      "count_active_tokens_p 128843\n",
      "precision: 0.9972136631404112\n",
      "count_active_tokens_r 128847\n",
      "count_correct_r 128484\n",
      "recall: 0.9971827050688026\n",
      "F1: 0.997198183864333\n"
     ]
    },
    {
     "name": "stderr",
     "output_type": "stream",
     "text": [
      "100%|████████████████████████████████████████████████████████████████████████████████████████████████████████████████████████████████████████████████| 432/432 [00:31<00:00, 13.82it/s]\n"
     ]
    },
    {
     "name": "stdout",
     "output_type": "stream",
     "text": [
      "count_correct_p 3085\n",
      "count_active_tokens_p 3162\n",
      "precision: 0.9756483238456674\n",
      "count_active_tokens_r 3146\n",
      "count_correct_r 3085\n",
      "recall: 0.9806102987921169\n",
      "F1: 0.9781230183893468\n",
      "count_correct_p 493\n",
      "count_active_tokens_p 570\n",
      "precision: 0.8649122807017544\n",
      "count_active_tokens_r 554\n",
      "count_correct_r 493\n",
      "recall: 0.8898916967509025\n",
      "F1: 0.8772241992882562\n",
      "POS Accuracy:0.9925165905774933\n",
      "NER Accuracy:0.9849037511178048\n",
      "count_correct_p 14268\n",
      "count_active_tokens_p 15268\n",
      "precision: 0.9345035368090123\n",
      "count_active_tokens_r 15103\n",
      "count_correct_r 14268\n",
      "recall: 0.9447129709329273\n",
      "F1: 0.9395805208916401\n"
     ]
    },
    {
     "name": "stderr",
     "output_type": "stream",
     "text": [
      "100%|██████████████████████████████████████████████████████████████████████████████████████████████████████████████████████████████████████████████| 3638/3638 [19:59<00:00,  3.03it/s]\n"
     ]
    },
    {
     "name": "stdout",
     "output_type": "stream",
     "text": [
      "count_correct_p 33603\n",
      "count_active_tokens_p 33640\n",
      "precision: 0.9989001189060642\n",
      "count_active_tokens_r 33627\n",
      "count_correct_r 33603\n",
      "recall: 0.9992862878044428\n",
      "F1: 0.9990931660398115\n",
      "POS Accuracy:0.9996159834754937\n",
      "NER Accuracy:0.9993394391523851\n",
      "count_correct_p 128488\n",
      "count_active_tokens_p 128837\n",
      "precision: 0.9972911508339996\n",
      "count_active_tokens_r 128847\n",
      "count_correct_r 128488\n",
      "recall: 0.9972137496410471\n",
      "F1: 0.9972524487356608\n"
     ]
    },
    {
     "name": "stderr",
     "output_type": "stream",
     "text": [
      "100%|████████████████████████████████████████████████████████████████████████████████████████████████████████████████████████████████████████████████| 432/432 [00:30<00:00, 14.12it/s]\n"
     ]
    },
    {
     "name": "stdout",
     "output_type": "stream",
     "text": [
      "count_correct_p 3096\n",
      "count_active_tokens_p 3180\n",
      "precision: 0.9735849056603774\n",
      "count_active_tokens_r 3146\n",
      "count_correct_r 3096\n",
      "recall: 0.9841068022886205\n",
      "F1: 0.9788175782484984\n",
      "count_correct_p 511\n",
      "count_active_tokens_p 595\n",
      "precision: 0.8588235294117647\n",
      "count_active_tokens_r 554\n",
      "count_correct_r 511\n",
      "recall: 0.9223826714801444\n",
      "F1: 0.8894691035683203\n",
      "POS Accuracy:0.9925518896785428\n",
      "NER Accuracy:0.9859156586812255\n",
      "count_correct_p 14308\n",
      "count_active_tokens_p 15259\n",
      "precision: 0.9376761255652402\n",
      "count_active_tokens_r 15103\n",
      "count_correct_r 14308\n",
      "recall: 0.947361451367278\n",
      "F1: 0.9424939068572558\n"
     ]
    },
    {
     "name": "stderr",
     "output_type": "stream",
     "text": [
      "100%|██████████████████████████████████████████████████████████████████████████████████████████████████████████████████████████████████████████████| 3638/3638 [20:01<00:00,  3.03it/s]\n"
     ]
    },
    {
     "name": "stdout",
     "output_type": "stream",
     "text": [
      "count_correct_p 33590\n",
      "count_active_tokens_p 33638\n",
      "precision: 0.9985730423925323\n",
      "count_active_tokens_r 33627\n",
      "count_correct_r 33590\n",
      "recall: 0.9988996936985161\n",
      "F1: 0.9987363413365049\n",
      "POS Accuracy:0.99959763456306\n",
      "NER Accuracy:0.9993473029719996\n",
      "count_correct_p 128479\n",
      "count_active_tokens_p 128829\n",
      "precision: 0.9972832203929239\n",
      "count_active_tokens_r 128847\n",
      "count_correct_r 128479\n",
      "recall: 0.9971438993534968\n",
      "F1: 0.9972135550070631\n"
     ]
    },
    {
     "name": "stderr",
     "output_type": "stream",
     "text": [
      "100%|████████████████████████████████████████████████████████████████████████████████████████████████████████████████████████████████████████████████| 432/432 [00:30<00:00, 14.00it/s]\n"
     ]
    },
    {
     "name": "stdout",
     "output_type": "stream",
     "text": [
      "count_correct_p 3079\n",
      "count_active_tokens_p 3153\n",
      "precision: 0.9765302886140184\n",
      "count_active_tokens_r 3146\n",
      "count_correct_r 3079\n",
      "recall: 0.9787031150667515\n",
      "F1: 0.97761549452294\n",
      "count_correct_p 490\n",
      "count_active_tokens_p 564\n",
      "precision: 0.8687943262411347\n",
      "count_active_tokens_r 554\n",
      "count_correct_r 490\n",
      "recall: 0.8844765342960289\n",
      "F1: 0.8765652951699463\n",
      "POS Accuracy:0.9926695533487081\n",
      "NER Accuracy:0.9861627523885725\n",
      "count_correct_p 14326\n",
      "count_active_tokens_p 15239\n",
      "precision: 0.940087932279021\n",
      "count_active_tokens_r 15103\n",
      "count_correct_r 14326\n",
      "recall: 0.9485532675627358\n",
      "F1: 0.9443016281062554\n"
     ]
    },
    {
     "name": "stderr",
     "output_type": "stream",
     "text": [
      "100%|██████████████████████████████████████████████████████████████████████████████████████████████████████████████████████████████████████████████| 3638/3638 [20:34<00:00,  2.95it/s]\n"
     ]
    },
    {
     "name": "stdout",
     "output_type": "stream",
     "text": [
      "count_correct_p 33599\n",
      "count_active_tokens_p 33634\n",
      "precision: 0.9989593863352559\n",
      "count_active_tokens_r 33627\n",
      "count_correct_r 33599\n",
      "recall: 0.99916733577185\n",
      "F1: 0.9990633502326757\n",
      "POS Accuracy:0.9996513706637588\n",
      "NER Accuracy:0.9993944858896864\n",
      "count_correct_p 128508\n",
      "count_active_tokens_p 128834\n",
      "precision: 0.9974696120589286\n",
      "count_active_tokens_r 128847\n",
      "count_correct_r 128508\n",
      "recall: 0.9973689725022701\n",
      "F1: 0.9974192897419678\n"
     ]
    },
    {
     "name": "stderr",
     "output_type": "stream",
     "text": [
      "100%|████████████████████████████████████████████████████████████████████████████████████████████████████████████████████████████████████████████████| 432/432 [00:29<00:00, 14.77it/s]\n"
     ]
    },
    {
     "name": "stdout",
     "output_type": "stream",
     "text": [
      "count_correct_p 3094\n",
      "count_active_tokens_p 3178\n",
      "precision: 0.973568281938326\n",
      "count_active_tokens_r 3146\n",
      "count_correct_r 3094\n",
      "recall: 0.9834710743801653\n",
      "F1: 0.978494623655914\n",
      "count_correct_p 505\n",
      "count_active_tokens_p 589\n",
      "precision: 0.8573853989813243\n",
      "count_active_tokens_r 554\n",
      "count_correct_r 505\n",
      "recall: 0.9115523465703971\n",
      "F1: 0.8836395450568678\n",
      "POS Accuracy:0.9921988986680472\n",
      "NER Accuracy:0.9860097896173577\n",
      "count_correct_p 14316\n",
      "count_active_tokens_p 15245\n",
      "precision: 0.9390619875368973\n",
      "count_active_tokens_r 15103\n",
      "count_correct_r 14316\n",
      "recall: 0.9478911474541482\n",
      "F1: 0.9434559114274416\n"
     ]
    },
    {
     "name": "stderr",
     "output_type": "stream",
     "text": [
      "100%|██████████████████████████████████████████████████████████████████████████████████████████████████████████████████████████████████████████████| 3638/3638 [20:13<00:00,  3.00it/s]\n"
     ]
    },
    {
     "name": "stdout",
     "output_type": "stream",
     "text": [
      "count_correct_p 33605\n",
      "count_active_tokens_p 33638\n",
      "precision: 0.9990189666448659\n",
      "count_active_tokens_r 33627\n",
      "count_correct_r 33605\n",
      "recall: 0.9993457638207393\n",
      "F1: 0.9991823385118561\n",
      "POS Accuracy:0.9996539919369636\n",
      "NER Accuracy:0.9993984177994936\n",
      "count_correct_p 128523\n",
      "count_active_tokens_p 128841\n",
      "precision: 0.9975318415721703\n",
      "count_active_tokens_r 128847\n",
      "count_correct_r 128523\n",
      "recall: 0.9974853896481873\n",
      "F1: 0.9975086150693862\n"
     ]
    },
    {
     "name": "stderr",
     "output_type": "stream",
     "text": [
      "100%|████████████████████████████████████████████████████████████████████████████████████████████████████████████████████████████████████████████████| 432/432 [00:30<00:00, 14.08it/s]\n"
     ]
    },
    {
     "name": "stdout",
     "output_type": "stream",
     "text": [
      "count_correct_p 3078\n",
      "count_active_tokens_p 3152\n",
      "precision: 0.9765228426395939\n",
      "count_active_tokens_r 3146\n",
      "count_correct_r 3078\n",
      "recall: 0.9783852511125238\n",
      "F1: 0.9774531597332485\n",
      "count_correct_p 486\n",
      "count_active_tokens_p 560\n",
      "precision: 0.8678571428571429\n",
      "count_active_tokens_r 554\n",
      "count_correct_r 486\n",
      "recall: 0.8772563176895307\n",
      "F1: 0.8725314183123879\n",
      "POS Accuracy:0.992328328705229\n",
      "NER Accuracy:0.9861862851226055\n",
      "count_correct_p 14328\n",
      "count_active_tokens_p 15235\n",
      "precision: 0.940466032162783\n",
      "count_active_tokens_r 15103\n",
      "count_correct_r 14328\n",
      "recall: 0.9486856915844534\n",
      "F1: 0.944557980090975\n"
     ]
    },
    {
     "name": "stderr",
     "output_type": "stream",
     "text": [
      "100%|██████████████████████████████████████████████████████████████████████████████████████████████████████████████████████████████████████████████| 3638/3638 [20:11<00:00,  3.00it/s]\n"
     ]
    },
    {
     "name": "stdout",
     "output_type": "stream",
     "text": [
      "count_correct_p 33601\n",
      "count_active_tokens_p 33629\n",
      "precision: 0.999167385292456\n",
      "count_active_tokens_r 33627\n",
      "count_correct_r 33601\n",
      "recall: 0.9992268117881464\n",
      "F1: 0.9991970976567147\n",
      "POS Accuracy:0.9996146728388913\n",
      "NER Accuracy:0.9994442900805779\n",
      "count_correct_p 128544\n",
      "count_active_tokens_p 128842\n",
      "precision: 0.9976870896136353\n",
      "count_active_tokens_r 128847\n",
      "count_correct_r 128544\n",
      "recall: 0.9976483736524715\n",
      "F1: 0.997667731257446\n"
     ]
    },
    {
     "name": "stderr",
     "output_type": "stream",
     "text": [
      "100%|████████████████████████████████████████████████████████████████████████████████████████████████████████████████████████████████████████████████| 432/432 [00:30<00:00, 14.18it/s]\n"
     ]
    },
    {
     "name": "stdout",
     "output_type": "stream",
     "text": [
      "count_correct_p 3081\n",
      "count_active_tokens_p 3158\n",
      "precision: 0.9756174794173528\n",
      "count_active_tokens_r 3146\n",
      "count_correct_r 3081\n",
      "recall: 0.9793388429752066\n",
      "F1: 0.97747461928934\n",
      "count_correct_p 492\n",
      "count_active_tokens_p 569\n",
      "precision: 0.8646748681898067\n",
      "count_active_tokens_r 554\n",
      "count_correct_r 492\n",
      "recall: 0.8880866425992779\n",
      "F1: 0.8762243989314337\n",
      "POS Accuracy:0.9925165905774933\n",
      "NER Accuracy:0.9867040052713324\n",
      "count_correct_p 14366\n",
      "count_active_tokens_p 15266\n",
      "precision: 0.9410454605004586\n",
      "count_active_tokens_r 15103\n",
      "count_correct_r 14366\n",
      "recall: 0.9512017479970867\n",
      "F1: 0.9460963482498601\n"
     ]
    },
    {
     "name": "stderr",
     "output_type": "stream",
     "text": [
      "100%|██████████████████████████████████████████████████████████████████████████████████████████████████████████████████████████████████████████████| 3638/3638 [20:26<00:00,  2.97it/s]\n"
     ]
    },
    {
     "name": "stdout",
     "output_type": "stream",
     "text": [
      "count_correct_p 33590\n",
      "count_active_tokens_p 33620\n",
      "precision: 0.9991076740035693\n",
      "count_active_tokens_r 33627\n",
      "count_correct_r 33590\n",
      "recall: 0.9988996936985161\n",
      "F1: 0.999003673026306\n",
      "POS Accuracy:0.9996421962075419\n",
      "NER Accuracy:0.999406281619108\n",
      "count_correct_p 128526\n",
      "count_active_tokens_p 128844\n",
      "precision: 0.9975318990407004\n",
      "count_active_tokens_r 128847\n",
      "count_correct_r 128526\n",
      "recall: 0.9975086730773708\n",
      "F1: 0.997520285923839\n"
     ]
    },
    {
     "name": "stderr",
     "output_type": "stream",
     "text": [
      "100%|████████████████████████████████████████████████████████████████████████████████████████████████████████████████████████████████████████████████| 432/432 [00:30<00:00, 14.17it/s]\n"
     ]
    },
    {
     "name": "stdout",
     "output_type": "stream",
     "text": [
      "count_correct_p 3091\n",
      "count_active_tokens_p 3181\n",
      "precision: 0.9717070103740962\n",
      "count_active_tokens_r 3146\n",
      "count_correct_r 3091\n",
      "recall: 0.9825174825174825\n",
      "F1: 0.9770823455033982\n",
      "count_correct_p 505\n",
      "count_active_tokens_p 595\n",
      "precision: 0.8487394957983193\n",
      "count_active_tokens_r 554\n",
      "count_correct_r 505\n",
      "recall: 0.9115523465703971\n",
      "F1: 0.8790252393385553\n",
      "POS Accuracy:0.9922930296041794\n",
      "NER Accuracy:0.9864569115639855\n",
      "count_correct_p 14297\n",
      "count_active_tokens_p 15150\n",
      "precision: 0.9436963696369637\n",
      "count_active_tokens_r 15103\n",
      "count_correct_r 14297\n",
      "recall: 0.9466331192478316\n",
      "F1: 0.9451624632267874\n"
     ]
    },
    {
     "name": "stderr",
     "output_type": "stream",
     "text": [
      "100%|██████████████████████████████████████████████████████████████████████████████████████████████████████████████████████████████████████████████| 3638/3638 [20:15<00:00,  2.99it/s]\n"
     ]
    },
    {
     "name": "stdout",
     "output_type": "stream",
     "text": [
      "count_correct_p 33588\n",
      "count_active_tokens_p 33629\n",
      "precision: 0.998780814178239\n",
      "count_active_tokens_r 33627\n",
      "count_correct_r 33588\n",
      "recall: 0.9988402176822196\n",
      "F1: 0.9988105150469846\n",
      "POS Accuracy:0.9996461281173492\n",
      "NER Accuracy:0.9994744347224334\n",
      "count_correct_p 128581\n",
      "count_active_tokens_p 128856\n",
      "precision: 0.9978658347302415\n",
      "count_active_tokens_r 128847\n",
      "count_correct_r 128581\n",
      "recall: 0.9979355359457341\n",
      "F1: 0.9979006841208679\n"
     ]
    },
    {
     "name": "stderr",
     "output_type": "stream",
     "text": [
      "100%|████████████████████████████████████████████████████████████████████████████████████████████████████████████████████████████████████████████████| 432/432 [00:29<00:00, 14.71it/s]\n"
     ]
    },
    {
     "name": "stdout",
     "output_type": "stream",
     "text": [
      "count_correct_p 3099\n",
      "count_active_tokens_p 3194\n",
      "precision: 0.9702567313713212\n",
      "count_active_tokens_r 3146\n",
      "count_correct_r 3099\n",
      "recall: 0.9850603941513032\n",
      "F1: 0.977602523659306\n",
      "count_correct_p 507\n",
      "count_active_tokens_p 602\n",
      "precision: 0.8421926910299004\n",
      "count_active_tokens_r 554\n",
      "count_correct_r 507\n",
      "recall: 0.9151624548736462\n",
      "F1: 0.8771626297577855\n",
      "POS Accuracy:0.9922577305031298\n",
      "NER Accuracy:0.9865510425001177\n",
      "count_correct_p 14368\n",
      "count_active_tokens_p 15263\n",
      "precision: 0.9413614623599554\n",
      "count_active_tokens_r 15103\n",
      "count_correct_r 14368\n",
      "recall: 0.9513341720188042\n",
      "F1: 0.9463215438319172\n"
     ]
    },
    {
     "name": "stderr",
     "output_type": "stream",
     "text": [
      "100%|██████████████████████████████████████████████████████████████████████████████████████████████████████████████████████████████████████████████| 3638/3638 [20:36<00:00,  2.94it/s]\n"
     ]
    },
    {
     "name": "stdout",
     "output_type": "stream",
     "text": [
      "count_correct_p 33608\n",
      "count_active_tokens_p 33632\n",
      "precision: 0.9992863939105614\n",
      "count_active_tokens_r 33627\n",
      "count_correct_r 33608\n",
      "recall: 0.999434977845184\n",
      "F1: 0.9993606803550454\n",
      "POS Accuracy:0.999722145040289\n",
      "NER Accuracy:0.9995203070035178\n",
      "count_correct_p 128585\n",
      "count_active_tokens_p 128848\n",
      "precision: 0.9979588352166894\n",
      "count_active_tokens_r 128847\n",
      "count_correct_r 128585\n",
      "recall: 0.9979665805179787\n",
      "F1: 0.997962707852306\n"
     ]
    },
    {
     "name": "stderr",
     "output_type": "stream",
     "text": [
      "100%|████████████████████████████████████████████████████████████████████████████████████████████████████████████████████████████████████████████████| 432/432 [00:29<00:00, 14.53it/s]\n"
     ]
    },
    {
     "name": "stdout",
     "output_type": "stream",
     "text": [
      "count_correct_p 3093\n",
      "count_active_tokens_p 3172\n",
      "precision: 0.975094577553594\n",
      "count_active_tokens_r 3146\n",
      "count_correct_r 3093\n",
      "recall: 0.9831532104259377\n",
      "F1: 0.9791073124406457\n",
      "count_correct_p 501\n",
      "count_active_tokens_p 580\n",
      "precision: 0.8637931034482759\n",
      "count_active_tokens_r 554\n",
      "count_correct_r 501\n",
      "recall: 0.9043321299638989\n",
      "F1: 0.8835978835978835\n",
      "POS Accuracy:0.9925636560455594\n",
      "NER Accuracy:0.9866334070692333\n",
      "count_correct_p 14363\n",
      "count_active_tokens_p 15253\n",
      "precision: 0.9416508227889595\n",
      "count_active_tokens_r 15103\n",
      "count_correct_r 14363\n",
      "recall: 0.9510031119645104\n",
      "F1: 0.9463038608512321\n"
     ]
    },
    {
     "name": "stderr",
     "output_type": "stream",
     "text": [
      "100%|██████████████████████████████████████████████████████████████████████████████████████████████████████████████████████████████████████████████| 3638/3638 [20:23<00:00,  2.97it/s]\n"
     ]
    },
    {
     "name": "stdout",
     "output_type": "stream",
     "text": [
      "count_correct_p 33611\n",
      "count_active_tokens_p 33634\n",
      "precision: 0.9993161681631683\n",
      "count_active_tokens_r 33627\n",
      "count_correct_r 33611\n",
      "recall: 0.9995241918696286\n",
      "F1: 0.9994201691916564\n",
      "POS Accuracy:0.9997037961278552\n",
      "NER Accuracy:0.9995360346427467\n",
      "count_correct_p 128595\n",
      "count_active_tokens_p 128842\n",
      "precision: 0.9980829232703622\n",
      "count_active_tokens_r 128847\n",
      "count_correct_r 128595\n",
      "recall: 0.9980441919485902\n",
      "F1: 0.9980635572337198\n"
     ]
    },
    {
     "name": "stderr",
     "output_type": "stream",
     "text": [
      "100%|████████████████████████████████████████████████████████████████████████████████████████████████████████████████████████████████████████████████| 432/432 [00:28<00:00, 14.96it/s]\n"
     ]
    },
    {
     "name": "stdout",
     "output_type": "stream",
     "text": [
      "count_correct_p 3088\n",
      "count_active_tokens_p 3169\n",
      "precision: 0.9744398863994951\n",
      "count_active_tokens_r 3146\n",
      "count_correct_r 3088\n",
      "recall: 0.9815638906547998\n",
      "F1: 0.9779889152810768\n",
      "count_correct_p 496\n",
      "count_active_tokens_p 577\n",
      "precision: 0.8596187175043327\n",
      "count_active_tokens_r 554\n",
      "count_correct_r 496\n",
      "recall: 0.8953068592057761\n",
      "F1: 0.8770999115826702\n",
      "POS Accuracy:0.9927048524497576\n",
      "NER Accuracy:0.9867040052713324\n",
      "count_correct_p 14378\n",
      "count_active_tokens_p 15284\n",
      "precision: 0.9407223239989532\n",
      "count_active_tokens_r 15103\n",
      "count_correct_r 14378\n",
      "recall: 0.9519962921273919\n",
      "F1: 0.9463257313982953\n"
     ]
    },
    {
     "name": "stderr",
     "output_type": "stream",
     "text": [
      "100%|██████████████████████████████████████████████████████████████████████████████████████████████████████████████████████████████████████████████| 3638/3638 [20:39<00:00,  2.93it/s]\n"
     ]
    },
    {
     "name": "stdout",
     "output_type": "stream",
     "text": [
      "count_correct_p 33606\n",
      "count_active_tokens_p 33630\n",
      "precision: 0.9992863514719\n",
      "count_active_tokens_r 33627\n",
      "count_correct_r 33606\n",
      "recall: 0.9993755018288875\n",
      "F1: 0.9993309246621168\n",
      "POS Accuracy:0.9997169024938793\n",
      "NER Accuracy:0.9995609367381925\n",
      "count_correct_p 128608\n",
      "count_active_tokens_p 128850\n",
      "precision: 0.9981218471090415\n",
      "count_active_tokens_r 128847\n",
      "count_correct_r 128608\n",
      "recall: 0.9981450868083851\n",
      "F1: 0.99813346682344\n"
     ]
    },
    {
     "name": "stderr",
     "output_type": "stream",
     "text": [
      "100%|████████████████████████████████████████████████████████████████████████████████████████████████████████████████████████████████████████████████| 432/432 [00:29<00:00, 14.52it/s]\n"
     ]
    },
    {
     "name": "stdout",
     "output_type": "stream",
     "text": [
      "count_correct_p 3096\n",
      "count_active_tokens_p 3184\n",
      "precision: 0.9723618090452262\n",
      "count_active_tokens_r 3146\n",
      "count_correct_r 3096\n",
      "recall: 0.9841068022886205\n",
      "F1: 0.9781990521327014\n",
      "count_correct_p 504\n",
      "count_active_tokens_p 592\n",
      "precision: 0.8513513513513513\n",
      "count_active_tokens_r 554\n",
      "count_correct_r 504\n",
      "recall: 0.9097472924187726\n",
      "F1: 0.8795811518324608\n",
      "POS Accuracy:0.9927519179178237\n",
      "NER Accuracy:0.9862451169576881\n",
      "count_correct_p 14348\n",
      "count_active_tokens_p 15291\n",
      "precision: 0.9383297364462756\n",
      "count_active_tokens_r 15103\n",
      "count_correct_r 14348\n",
      "recall: 0.9500099318016288\n",
      "F1: 0.9441337106007766\n"
     ]
    },
    {
     "name": "stderr",
     "output_type": "stream",
     "text": [
      "100%|██████████████████████████████████████████████████████████████████████████████████████████████████████████████████████████████████████████████| 3638/3638 [20:36<00:00,  2.94it/s]\n"
     ]
    },
    {
     "name": "stdout",
     "output_type": "stream",
     "text": [
      "count_correct_p 33603\n",
      "count_active_tokens_p 33632\n",
      "precision: 0.9991377259752616\n",
      "count_active_tokens_r 33627\n",
      "count_correct_r 33603\n",
      "recall: 0.9992862878044428\n",
      "F1: 0.9992120013678466\n",
      "POS Accuracy:0.9997811236873975\n",
      "NER Accuracy:0.9994547751733972\n",
      "count_correct_p 128545\n",
      "count_active_tokens_p 128847\n",
      "precision: 0.9976561347955327\n",
      "count_active_tokens_r 128847\n",
      "count_correct_r 128545\n",
      "recall: 0.9976561347955327\n",
      "F1: 0.9976561347955327\n"
     ]
    },
    {
     "name": "stderr",
     "output_type": "stream",
     "text": [
      "100%|████████████████████████████████████████████████████████████████████████████████████████████████████████████████████████████████████████████████| 432/432 [00:28<00:00, 14.97it/s]\n"
     ]
    },
    {
     "name": "stdout",
     "output_type": "stream",
     "text": [
      "count_correct_p 3096\n",
      "count_active_tokens_p 3178\n",
      "precision: 0.9741976085588421\n",
      "count_active_tokens_r 3146\n",
      "count_correct_r 3096\n",
      "recall: 0.9841068022886205\n",
      "F1: 0.9791271347248577\n",
      "count_correct_p 504\n",
      "count_active_tokens_p 586\n",
      "precision: 0.8600682593856656\n",
      "count_active_tokens_r 554\n",
      "count_correct_r 504\n",
      "recall: 0.9097472924187726\n",
      "F1: 0.8842105263157896\n",
      "POS Accuracy:0.9925989551466089\n",
      "NER Accuracy:0.9865628088671342\n",
      "count_correct_p 14319\n",
      "count_active_tokens_p 15180\n",
      "precision: 0.9432806324110672\n",
      "count_active_tokens_r 15103\n",
      "count_correct_r 14319\n",
      "recall: 0.9480897834867245\n",
      "F1: 0.9456790938810554\n"
     ]
    },
    {
     "name": "stderr",
     "output_type": "stream",
     "text": [
      "100%|██████████████████████████████████████████████████████████████████████████████████████████████████████████████████████████████████████████████| 3638/3638 [20:16<00:00,  2.99it/s]\n"
     ]
    },
    {
     "name": "stdout",
     "output_type": "stream",
     "text": [
      "count_correct_p 33604\n",
      "count_active_tokens_p 33631\n",
      "precision: 0.9991971692783443\n",
      "count_active_tokens_r 33627\n",
      "count_correct_r 33604\n",
      "recall: 0.999316025812591\n",
      "F1: 0.9992565940111213\n",
      "POS Accuracy:0.9997404939527227\n",
      "NER Accuracy:0.9996002558362648\n",
      "count_correct_p 128634\n",
      "count_active_tokens_p 128852\n",
      "precision: 0.9983081364666438\n",
      "count_active_tokens_r 128847\n",
      "count_correct_r 128634\n",
      "recall: 0.998346876527975\n",
      "F1: 0.9983275061214829\n"
     ]
    },
    {
     "name": "stderr",
     "output_type": "stream",
     "text": [
      "100%|████████████████████████████████████████████████████████████████████████████████████████████████████████████████████████████████████████████████| 432/432 [00:29<00:00, 14.53it/s]\n"
     ]
    },
    {
     "name": "stdout",
     "output_type": "stream",
     "text": [
      "count_correct_p 3085\n",
      "count_active_tokens_p 3164\n",
      "precision: 0.9750316055625791\n",
      "count_active_tokens_r 3146\n",
      "count_correct_r 3085\n",
      "recall: 0.9806102987921169\n",
      "F1: 0.9778129952456418\n",
      "count_correct_p 493\n",
      "count_active_tokens_p 572\n",
      "precision: 0.8618881118881119\n",
      "count_active_tokens_r 554\n",
      "count_correct_r 493\n",
      "recall: 0.8898916967509025\n",
      "F1: 0.8756660746003552\n",
      "POS Accuracy:0.9925401233115263\n",
      "NER Accuracy:0.9861862851226055\n",
      "count_correct_p 14343\n",
      "count_active_tokens_p 15280\n",
      "precision: 0.9386780104712041\n",
      "count_active_tokens_r 15103\n",
      "count_correct_r 14343\n",
      "recall: 0.949678871747335\n",
      "F1: 0.9441463976565843\n"
     ]
    },
    {
     "name": "stderr",
     "output_type": "stream",
     "text": [
      "100%|██████████████████████████████████████████████████████████████████████████████████████████████████████████████████████████████████████████████| 3638/3638 [20:24<00:00,  2.97it/s]\n"
     ]
    },
    {
     "name": "stdout",
     "output_type": "stream",
     "text": [
      "count_correct_p 33608\n",
      "count_active_tokens_p 33635\n",
      "precision: 0.9991972647539765\n",
      "count_active_tokens_r 33627\n",
      "count_correct_r 33608\n",
      "recall: 0.999434977845184\n",
      "F1: 0.9993161071630341\n",
      "POS Accuracy:0.9997273875866987\n",
      "NER Accuracy:0.9995674899212045\n",
      "count_correct_p 128609\n",
      "count_active_tokens_p 128848\n",
      "precision: 0.99814510120452\n",
      "count_active_tokens_r 128847\n",
      "count_correct_r 128609\n",
      "recall: 0.9981528479514463\n",
      "F1: 0.9981489745629523\n"
     ]
    },
    {
     "name": "stderr",
     "output_type": "stream",
     "text": [
      "100%|████████████████████████████████████████████████████████████████████████████████████████████████████████████████████████████████████████████████| 432/432 [00:29<00:00, 14.90it/s]\n"
     ]
    },
    {
     "name": "stdout",
     "output_type": "stream",
     "text": [
      "count_correct_p 3082\n",
      "count_active_tokens_p 3151\n",
      "precision: 0.9781021897810219\n",
      "count_active_tokens_r 3146\n",
      "count_correct_r 3082\n",
      "recall: 0.9796567069294342\n",
      "F1: 0.9788788311894553\n",
      "count_correct_p 490\n",
      "count_active_tokens_p 559\n",
      "precision: 0.8765652951699463\n",
      "count_active_tokens_r 554\n",
      "count_correct_r 490\n",
      "recall: 0.8844765342960289\n",
      "F1: 0.8805031446540881\n",
      "POS Accuracy:0.9925048242104768\n",
      "NER Accuracy:0.98556266767073\n",
      "count_correct_p 14268\n",
      "count_active_tokens_p 15205\n",
      "precision: 0.9383755343636961\n",
      "count_active_tokens_r 15103\n",
      "count_correct_r 14268\n",
      "recall: 0.9447129709329273\n",
      "F1: 0.9415335884914874\n"
     ]
    },
    {
     "name": "stderr",
     "output_type": "stream",
     "text": [
      "100%|██████████████████████████████████████████████████████████████████████████████████████████████████████████████████████████████████████████████| 3638/3638 [20:31<00:00,  2.95it/s]\n"
     ]
    },
    {
     "name": "stdout",
     "output_type": "stream",
     "text": [
      "count_correct_p 33603\n",
      "count_active_tokens_p 33628\n",
      "precision: 0.9992565719043655\n",
      "count_active_tokens_r 33627\n",
      "count_correct_r 33603\n",
      "recall: 0.9992862878044428\n",
      "F1: 0.9992714296334846\n",
      "POS Accuracy:0.9997247663134938\n",
      "NER Accuracy:0.999553072918578\n",
      "count_correct_p 128598\n",
      "count_active_tokens_p 128844\n",
      "precision: 0.99809071435224\n",
      "count_active_tokens_r 128847\n",
      "count_correct_r 128598\n",
      "recall: 0.9980674753777736\n",
      "F1: 0.9980790947297346\n"
     ]
    },
    {
     "name": "stderr",
     "output_type": "stream",
     "text": [
      "100%|████████████████████████████████████████████████████████████████████████████████████████████████████████████████████████████████████████████████| 432/432 [00:30<00:00, 14.23it/s]\n"
     ]
    },
    {
     "name": "stdout",
     "output_type": "stream",
     "text": [
      "count_correct_p 3094\n",
      "count_active_tokens_p 3173\n",
      "precision: 0.9751024267254964\n",
      "count_active_tokens_r 3146\n",
      "count_correct_r 3094\n",
      "recall: 0.9834710743801653\n",
      "F1: 0.9792688716569078\n",
      "count_correct_p 502\n",
      "count_active_tokens_p 581\n",
      "precision: 0.8640275387263339\n",
      "count_active_tokens_r 554\n",
      "count_correct_r 502\n",
      "recall: 0.9061371841155235\n",
      "F1: 0.8845814977973568\n",
      "POS Accuracy:0.9924930578434602\n",
      "NER Accuracy:0.9862921824257542\n",
      "count_correct_p 14374\n",
      "count_active_tokens_p 15325\n",
      "precision: 0.9379445350734095\n",
      "count_active_tokens_r 15103\n",
      "count_correct_r 14374\n",
      "recall: 0.9517314440839568\n",
      "F1: 0.9447876955435782\n"
     ]
    },
    {
     "name": "stderr",
     "output_type": "stream",
     "text": [
      "100%|██████████████████████████████████████████████████████████████████████████████████████████████████████████████████████████████████████████████| 3638/3638 [20:33<00:00,  2.95it/s]\n"
     ]
    },
    {
     "name": "stdout",
     "output_type": "stream",
     "text": [
      "count_correct_p 33609\n",
      "count_active_tokens_p 33634\n",
      "precision: 0.9992567045251829\n",
      "count_active_tokens_r 33627\n",
      "count_correct_r 33609\n",
      "recall: 0.9994647158533322\n",
      "F1: 0.9993606993651597\n",
      "POS Accuracy:0.9997313194965058\n",
      "NER Accuracy:0.9995989451996624\n",
      "count_correct_p 128623\n",
      "count_active_tokens_p 128841\n",
      "precision: 0.9983079920211734\n",
      "count_active_tokens_r 128847\n",
      "count_correct_r 128623\n",
      "recall: 0.9982615039543024\n",
      "F1: 0.9982847474465244\n"
     ]
    },
    {
     "name": "stderr",
     "output_type": "stream",
     "text": [
      "100%|████████████████████████████████████████████████████████████████████████████████████████████████████████████████████████████████████████████████| 432/432 [00:30<00:00, 14.18it/s]\n"
     ]
    },
    {
     "name": "stdout",
     "output_type": "stream",
     "text": [
      "count_correct_p 3087\n",
      "count_active_tokens_p 3155\n",
      "precision: 0.9784469096671949\n",
      "count_active_tokens_r 3146\n",
      "count_correct_r 3087\n",
      "recall: 0.9812460267005721\n",
      "F1: 0.9798444691318837\n",
      "count_correct_p 495\n",
      "count_active_tokens_p 563\n",
      "precision: 0.8792184724689165\n",
      "count_active_tokens_r 554\n",
      "count_correct_r 495\n",
      "recall: 0.8935018050541517\n",
      "F1: 0.8863025962399285\n",
      "POS Accuracy:0.992351861439262\n",
      "NER Accuracy:0.986468677931002\n",
      "count_correct_p 14285\n",
      "count_active_tokens_p 15120\n",
      "precision: 0.9447751322751323\n",
      "count_active_tokens_r 15103\n",
      "count_correct_r 14285\n",
      "recall: 0.9458385751175263\n",
      "F1: 0.945306554610727\n"
     ]
    },
    {
     "name": "stderr",
     "output_type": "stream",
     "text": [
      "100%|██████████████████████████████████████████████████████████████████████████████████████████████████████████████████████████████████████████████| 3638/3638 [20:10<00:00,  3.01it/s]\n"
     ]
    },
    {
     "name": "stdout",
     "output_type": "stream",
     "text": [
      "count_correct_p 33605\n",
      "count_active_tokens_p 33628\n",
      "precision: 0.9993160461520162\n",
      "count_active_tokens_r 33627\n",
      "count_correct_r 33605\n",
      "recall: 0.9993457638207393\n",
      "F1: 0.999330904765445\n",
      "POS Accuracy:0.9997418045893252\n",
      "NER Accuracy:0.9995347240061443\n",
      "count_correct_p 128589\n",
      "count_active_tokens_p 128844\n",
      "precision: 0.9980208624382975\n",
      "count_active_tokens_r 128847\n",
      "count_correct_r 128589\n",
      "recall: 0.9979976250902233\n",
      "F1: 0.9980092436289975\n"
     ]
    },
    {
     "name": "stderr",
     "output_type": "stream",
     "text": [
      "100%|████████████████████████████████████████████████████████████████████████████████████████████████████████████████████████████████████████████████| 432/432 [00:28<00:00, 14.98it/s]\n"
     ]
    },
    {
     "name": "stdout",
     "output_type": "stream",
     "text": [
      "count_correct_p 3111\n",
      "count_active_tokens_p 3211\n",
      "precision: 0.9688570538772968\n",
      "count_active_tokens_r 3146\n",
      "count_correct_r 3111\n",
      "recall: 0.9888747616020344\n",
      "F1: 0.978763567720623\n",
      "count_correct_p 520\n",
      "count_active_tokens_p 620\n",
      "precision: 0.8387096774193549\n",
      "count_active_tokens_r 554\n",
      "count_correct_r 520\n",
      "recall: 0.9386281588447654\n",
      "F1: 0.8858603066439522\n",
      "POS Accuracy:0.9919165058596507\n",
      "NER Accuracy:0.9865981079681837\n",
      "count_correct_p 14338\n",
      "count_active_tokens_p 15213\n",
      "precision: 0.9424834023532505\n",
      "count_active_tokens_r 15103\n",
      "count_correct_r 14338\n",
      "recall: 0.9493478116930412\n",
      "F1: 0.9459031534503233\n"
     ]
    },
    {
     "name": "stderr",
     "output_type": "stream",
     "text": [
      "100%|██████████████████████████████████████████████████████████████████████████████████████████████████████████████████████████████████████████████| 3638/3638 [20:19<00:00,  2.98it/s]\n"
     ]
    },
    {
     "name": "stdout",
     "output_type": "stream",
     "text": [
      "count_correct_p 33601\n",
      "count_active_tokens_p 33623\n",
      "precision: 0.9993456859887577\n",
      "count_active_tokens_r 33627\n",
      "count_correct_r 33601\n",
      "recall: 0.9992268117881464\n",
      "F1: 0.9992862453531599\n",
      "POS Accuracy:0.9997483577723372\n",
      "NER Accuracy:0.9996474387539516\n",
      "count_correct_p 128656\n",
      "count_active_tokens_p 128842\n",
      "precision: 0.9985563713695844\n",
      "count_active_tokens_r 128847\n",
      "count_correct_r 128656\n",
      "recall: 0.9985176216753203\n",
      "F1: 0.9985369961465176\n"
     ]
    },
    {
     "name": "stderr",
     "output_type": "stream",
     "text": [
      "100%|████████████████████████████████████████████████████████████████████████████████████████████████████████████████████████████████████████████████| 432/432 [00:29<00:00, 14.54it/s]\n"
     ]
    },
    {
     "name": "stdout",
     "output_type": "stream",
     "text": [
      "count_correct_p 3105\n",
      "count_active_tokens_p 3194\n",
      "precision: 0.9721352536005009\n",
      "count_active_tokens_r 3146\n",
      "count_correct_r 3105\n",
      "recall: 0.9869675778766688\n",
      "F1: 0.9794952681388013\n",
      "count_correct_p 513\n",
      "count_active_tokens_p 602\n",
      "precision: 0.8521594684385382\n",
      "count_active_tokens_r 554\n",
      "count_correct_r 513\n",
      "recall: 0.9259927797833934\n",
      "F1: 0.8875432525951558\n",
      "POS Accuracy:0.9923047959711959\n",
      "NER Accuracy:0.9865628088671342\n",
      "count_correct_p 14319\n",
      "count_active_tokens_p 15179\n",
      "precision: 0.943342776203966\n",
      "count_active_tokens_r 15103\n",
      "count_correct_r 14319\n",
      "recall: 0.9480897834867245\n",
      "F1: 0.945710322964137\n"
     ]
    },
    {
     "name": "stderr",
     "output_type": "stream",
     "text": [
      "100%|██████████████████████████████████████████████████████████████████████████████████████████████████████████████████████████████████████████████| 3638/3638 [20:06<00:00,  3.02it/s]\n"
     ]
    },
    {
     "name": "stdout",
     "output_type": "stream",
     "text": [
      "count_correct_p 33610\n",
      "count_active_tokens_p 33622\n",
      "precision: 0.9996430908333829\n",
      "count_active_tokens_r 33627\n",
      "count_correct_r 33610\n",
      "recall: 0.9994944538614804\n",
      "F1: 0.9995687668218116\n",
      "POS Accuracy:0.9997627747749637\n",
      "NER Accuracy:0.9995543835551804\n",
      "count_correct_p 128611\n",
      "count_active_tokens_p 128839\n",
      "precision: 0.9982303495059726\n",
      "count_active_tokens_r 128847\n",
      "count_correct_r 128611\n",
      "recall: 0.9981683702375685\n",
      "F1: 0.9981993589096808\n"
     ]
    },
    {
     "name": "stderr",
     "output_type": "stream",
     "text": [
      "100%|████████████████████████████████████████████████████████████████████████████████████████████████████████████████████████████████████████████████| 432/432 [00:28<00:00, 15.19it/s]\n"
     ]
    },
    {
     "name": "stdout",
     "output_type": "stream",
     "text": [
      "count_correct_p 3095\n",
      "count_active_tokens_p 3177\n",
      "precision: 0.9741894869373623\n",
      "count_active_tokens_r 3146\n",
      "count_correct_r 3095\n",
      "recall: 0.9837889383343928\n",
      "F1: 0.9789656808476989\n",
      "count_correct_p 503\n",
      "count_active_tokens_p 585\n",
      "precision: 0.8598290598290599\n",
      "count_active_tokens_r 554\n",
      "count_correct_r 503\n",
      "recall: 0.907942238267148\n",
      "F1: 0.8832309043020193\n",
      "POS Accuracy:0.9922694968701464\n",
      "NER Accuracy:0.9865510425001177\n",
      "count_correct_p 14357\n",
      "count_active_tokens_p 15253\n",
      "precision: 0.9412574575493345\n",
      "count_active_tokens_r 15103\n",
      "count_correct_r 14357\n",
      "recall: 0.9506058398993578\n",
      "F1: 0.9459085518513639\n"
     ]
    },
    {
     "name": "stderr",
     "output_type": "stream",
     "text": [
      "100%|██████████████████████████████████████████████████████████████████████████████████████████████████████████████████████████████████████████████| 3638/3638 [20:18<00:00,  2.99it/s]\n"
     ]
    },
    {
     "name": "stdout",
     "output_type": "stream",
     "text": [
      "count_correct_p 33609\n",
      "count_active_tokens_p 33631\n",
      "precision: 0.9993458416342066\n",
      "count_active_tokens_r 33627\n",
      "count_correct_r 33609\n",
      "recall: 0.9994647158533322\n",
      "F1: 0.9994052752088971\n",
      "POS Accuracy:0.9997719492311806\n",
      "NER Accuracy:0.9996697195761926\n",
      "count_correct_p 128666\n",
      "count_active_tokens_p 128841\n",
      "precision: 0.9986417367142447\n",
      "count_active_tokens_r 128847\n",
      "count_correct_r 128666\n",
      "recall: 0.9985952331059318\n",
      "F1: 0.9986184843686938\n"
     ]
    },
    {
     "name": "stderr",
     "output_type": "stream",
     "text": [
      "100%|████████████████████████████████████████████████████████████████████████████████████████████████████████████████████████████████████████████████| 432/432 [00:29<00:00, 14.47it/s]\n"
     ]
    },
    {
     "name": "stdout",
     "output_type": "stream",
     "text": [
      "count_correct_p 3092\n",
      "count_active_tokens_p 3174\n",
      "precision: 0.9741650913673598\n",
      "count_active_tokens_r 3146\n",
      "count_correct_r 3092\n",
      "recall: 0.9828353464717101\n",
      "F1: 0.9784810126582278\n",
      "count_correct_p 500\n",
      "count_active_tokens_p 582\n",
      "precision: 0.8591065292096219\n",
      "count_active_tokens_r 554\n",
      "count_correct_r 500\n",
      "recall: 0.9025270758122743\n",
      "F1: 0.880281690140845\n",
      "POS Accuracy:0.9925165905774933\n",
      "NER Accuracy:0.9863157151597872\n",
      "count_correct_p 14299\n",
      "count_active_tokens_p 15168\n",
      "precision: 0.9427083333333334\n",
      "count_active_tokens_r 15103\n",
      "count_correct_r 14299\n",
      "recall: 0.9467655432695491\n",
      "F1: 0.9447325823395328\n"
     ]
    },
    {
     "name": "stderr",
     "output_type": "stream",
     "text": [
      "100%|██████████████████████████████████████████████████████████████████████████████████████████████████████████████████████████████████████████████| 3638/3638 [20:20<00:00,  2.98it/s]\n"
     ]
    },
    {
     "name": "stdout",
     "output_type": "stream",
     "text": [
      "count_correct_p 33614\n",
      "count_active_tokens_p 33629\n",
      "precision: 0.9995539564066728\n",
      "count_active_tokens_r 33627\n",
      "count_correct_r 33614\n",
      "recall: 0.9996134058940732\n",
      "F1: 0.9995836802664446\n",
      "POS Accuracy:0.9998073364194456\n",
      "NER Accuracy:0.9996199153853009\n",
      "count_correct_p 128642\n",
      "count_active_tokens_p 128840\n",
      "precision: 0.998463210183173\n",
      "count_active_tokens_r 128847\n",
      "count_correct_r 128642\n",
      "recall: 0.9984089656724643\n",
      "F1: 0.9984360871910496\n"
     ]
    },
    {
     "name": "stderr",
     "output_type": "stream",
     "text": [
      "100%|████████████████████████████████████████████████████████████████████████████████████████████████████████████████████████████████████████████████| 432/432 [00:29<00:00, 14.46it/s]\n"
     ]
    },
    {
     "name": "stdout",
     "output_type": "stream",
     "text": [
      "count_correct_p 3094\n",
      "count_active_tokens_p 3174\n",
      "precision: 0.9747952110901071\n",
      "count_active_tokens_r 3146\n",
      "count_correct_r 3094\n",
      "recall: 0.9834710743801653\n",
      "F1: 0.979113924050633\n",
      "count_correct_p 503\n",
      "count_active_tokens_p 583\n",
      "precision: 0.8627787307032591\n",
      "count_active_tokens_r 554\n",
      "count_correct_r 503\n",
      "recall: 0.907942238267148\n",
      "F1: 0.8847845206684257\n",
      "POS Accuracy:0.992375394173295\n",
      "NER Accuracy:0.9867510707393985\n",
      "count_correct_p 14333\n",
      "count_active_tokens_p 15178\n",
      "precision: 0.9443273158518909\n",
      "count_active_tokens_r 15103\n",
      "count_correct_r 14333\n",
      "recall: 0.9490167516387472\n",
      "F1: 0.9466662263465538\n"
     ]
    },
    {
     "name": "stderr",
     "output_type": "stream",
     "text": [
      "100%|██████████████████████████████████████████████████████████████████████████████████████████████████████████████████████████████████████████████| 3638/3638 [20:16<00:00,  2.99it/s]\n"
     ]
    },
    {
     "name": "stdout",
     "output_type": "stream",
     "text": [
      "count_correct_p 33616\n",
      "count_active_tokens_p 33631\n",
      "precision: 0.9995539829324136\n",
      "count_active_tokens_r 33627\n",
      "count_correct_r 33616\n",
      "recall: 0.9996728819103696\n",
      "F1: 0.9996134288857831\n",
      "POS Accuracy:0.9997968513266263\n",
      "NER Accuracy:0.9995727324676141\n",
      "count_correct_p 128625\n",
      "count_active_tokens_p 128853\n",
      "precision: 0.9982305417801681\n",
      "count_active_tokens_r 128847\n",
      "count_correct_r 128625\n",
      "recall: 0.9982770262404247\n",
      "F1: 0.9982537834691502\n"
     ]
    },
    {
     "name": "stderr",
     "output_type": "stream",
     "text": [
      "100%|████████████████████████████████████████████████████████████████████████████████████████████████████████████████████████████████████████████████| 432/432 [00:28<00:00, 15.07it/s]\n"
     ]
    },
    {
     "name": "stdout",
     "output_type": "stream",
     "text": [
      "count_correct_p 3071\n",
      "count_active_tokens_p 3135\n",
      "precision: 0.979585326953748\n",
      "count_active_tokens_r 3146\n",
      "count_correct_r 3071\n",
      "recall: 0.9761602034329308\n",
      "F1: 0.9778697659608342\n",
      "count_correct_p 479\n",
      "count_active_tokens_p 543\n",
      "precision: 0.8821362799263351\n",
      "count_active_tokens_r 554\n",
      "count_correct_r 479\n",
      "recall: 0.8646209386281588\n",
      "F1: 0.8732907930720146\n",
      "POS Accuracy:0.992375394173295\n",
      "NER Accuracy:0.9866569398032663\n",
      "count_correct_p 14311\n",
      "count_active_tokens_p 15152\n",
      "precision: 0.9444957761351637\n",
      "count_active_tokens_r 15103\n",
      "count_correct_r 14311\n",
      "recall: 0.9475600873998543\n",
      "F1: 0.9460254503387869\n"
     ]
    },
    {
     "name": "stderr",
     "output_type": "stream",
     "text": [
      "100%|██████████████████████████████████████████████████████████████████████████████████████████████████████████████████████████████████████████████| 3638/3638 [20:57<00:00,  2.89it/s]\n"
     ]
    },
    {
     "name": "stdout",
     "output_type": "stream",
     "text": [
      "count_correct_p 33606\n",
      "count_active_tokens_p 33629\n",
      "precision: 0.9993160664902316\n",
      "count_active_tokens_r 33627\n",
      "count_correct_r 33606\n",
      "recall: 0.9993755018288875\n",
      "F1: 0.9993457832758414\n",
      "POS Accuracy:0.9998191321488673\n",
      "NER Accuracy:0.9996369536611323\n",
      "count_correct_p 128650\n",
      "count_active_tokens_p 128849\n",
      "precision: 0.998455556504125\n",
      "count_active_tokens_r 128847\n",
      "count_correct_r 128650\n",
      "recall: 0.9984710548169534\n",
      "F1: 0.9984633056003974\n"
     ]
    },
    {
     "name": "stderr",
     "output_type": "stream",
     "text": [
      "100%|████████████████████████████████████████████████████████████████████████████████████████████████████████████████████████████████████████████████| 432/432 [00:29<00:00, 14.80it/s]\n"
     ]
    },
    {
     "name": "stdout",
     "output_type": "stream",
     "text": [
      "count_correct_p 3101\n",
      "count_active_tokens_p 3178\n",
      "precision: 0.9757709251101322\n",
      "count_active_tokens_r 3146\n",
      "count_correct_r 3101\n",
      "recall: 0.9856961220597584\n",
      "F1: 0.980708412397217\n",
      "count_correct_p 509\n",
      "count_active_tokens_p 586\n",
      "precision: 0.8686006825938567\n",
      "count_active_tokens_r 554\n",
      "count_correct_r 509\n",
      "recall: 0.9187725631768953\n",
      "F1: 0.892982456140351\n",
      "POS Accuracy:0.9924930578434602\n",
      "NER Accuracy:0.9863863133618864\n",
      "count_correct_p 14344\n",
      "count_active_tokens_p 15273\n",
      "precision: 0.9391737052314542\n",
      "count_active_tokens_r 15103\n",
      "count_correct_r 14344\n",
      "recall: 0.9497450837581938\n",
      "F1: 0.9444298130102712\n"
     ]
    },
    {
     "name": "stderr",
     "output_type": "stream",
     "text": [
      "100%|██████████████████████████████████████████████████████████████████████████████████████████████████████████████████████████████████████████████| 3638/3638 [20:18<00:00,  2.98it/s]\n"
     ]
    },
    {
     "name": "stdout",
     "output_type": "stream",
     "text": [
      "count_correct_p 33607\n",
      "count_active_tokens_p 33622\n",
      "precision: 0.9995538635417286\n",
      "count_active_tokens_r 33627\n",
      "count_correct_r 33607\n",
      "recall: 0.9994052398370357\n",
      "F1: 0.9994795461642552\n",
      "POS Accuracy:0.9998309278782891\n",
      "NER Accuracy:0.9996421962075419\n",
      "count_correct_p 128652\n",
      "count_active_tokens_p 128834\n",
      "precision: 0.9985873294316717\n",
      "count_active_tokens_r 128847\n",
      "count_correct_r 128652\n",
      "recall: 0.9984865771030758\n",
      "F1: 0.9985369507258974\n"
     ]
    },
    {
     "name": "stderr",
     "output_type": "stream",
     "text": [
      "100%|████████████████████████████████████████████████████████████████████████████████████████████████████████████████████████████████████████████████| 432/432 [00:29<00:00, 14.59it/s]\n"
     ]
    },
    {
     "name": "stdout",
     "output_type": "stream",
     "text": [
      "count_correct_p 3111\n",
      "count_active_tokens_p 3195\n",
      "precision: 0.9737089201877934\n",
      "count_active_tokens_r 3146\n",
      "count_correct_r 3111\n",
      "recall: 0.9888747616020344\n",
      "F1: 0.9812332439678285\n",
      "count_correct_p 519\n",
      "count_active_tokens_p 603\n",
      "precision: 0.8606965174129353\n",
      "count_active_tokens_r 554\n",
      "count_correct_r 519\n",
      "recall: 0.9368231046931408\n",
      "F1: 0.8971477960242005\n",
      "POS Accuracy:0.9925165905774933\n",
      "NER Accuracy:0.9868334353085142\n",
      "count_correct_p 14372\n",
      "count_active_tokens_p 15249\n",
      "precision: 0.9424880320020985\n",
      "count_active_tokens_r 15103\n",
      "count_correct_r 14372\n",
      "recall: 0.9515990200622393\n",
      "F1: 0.9470216130732736\n"
     ]
    },
    {
     "name": "stderr",
     "output_type": "stream",
     "text": [
      "100%|██████████████████████████████████████████████████████████████████████████████████████████████████████████████████████████████████████████████| 3638/3638 [20:07<00:00,  3.01it/s]\n"
     ]
    },
    {
     "name": "stdout",
     "output_type": "stream",
     "text": [
      "count_correct_p 33604\n",
      "count_active_tokens_p 33625\n",
      "precision: 0.9993754646840148\n",
      "count_active_tokens_r 33627\n",
      "count_correct_r 33604\n",
      "recall: 0.999316025812591\n",
      "F1: 0.9993457443644798\n",
      "POS Accuracy:0.9998034045096384\n",
      "NER Accuracy:0.9996500600271564\n",
      "count_correct_p 128658\n",
      "count_active_tokens_p 128848\n",
      "precision: 0.9985253942630076\n",
      "count_active_tokens_r 128847\n",
      "count_correct_r 128658\n",
      "recall: 0.9985331439614427\n",
      "F1: 0.9985292690971884\n"
     ]
    },
    {
     "name": "stderr",
     "output_type": "stream",
     "text": [
      "100%|████████████████████████████████████████████████████████████████████████████████████████████████████████████████████████████████████████████████| 432/432 [00:28<00:00, 15.09it/s]\n"
     ]
    },
    {
     "name": "stdout",
     "output_type": "stream",
     "text": [
      "count_correct_p 3094\n",
      "count_active_tokens_p 3179\n",
      "precision: 0.9732620320855615\n",
      "count_active_tokens_r 3146\n",
      "count_correct_r 3094\n",
      "recall: 0.9834710743801653\n",
      "F1: 0.9783399209486167\n",
      "count_correct_p 502\n",
      "count_active_tokens_p 587\n",
      "precision: 0.8551959114139693\n",
      "count_active_tokens_r 554\n",
      "count_correct_r 502\n",
      "recall: 0.9061371841155235\n",
      "F1: 0.8799298860648553\n",
      "POS Accuracy:0.9922812632371629\n",
      "NER Accuracy:0.9862686496917212\n",
      "count_correct_p 14350\n",
      "count_active_tokens_p 15278\n",
      "precision: 0.9392590653226862\n",
      "count_active_tokens_r 15103\n",
      "count_correct_r 14350\n",
      "recall: 0.9501423558233464\n",
      "F1: 0.9446693657219973\n"
     ]
    },
    {
     "name": "stderr",
     "output_type": "stream",
     "text": [
      "100%|██████████████████████████████████████████████████████████████████████████████████████████████████████████████████████████████████████████████| 3638/3638 [20:04<00:00,  3.02it/s]\n"
     ]
    },
    {
     "name": "stdout",
     "output_type": "stream",
     "text": [
      "count_correct_p 33603\n",
      "count_active_tokens_p 33622\n",
      "precision: 0.9994348938195229\n",
      "count_active_tokens_r 33627\n",
      "count_correct_r 33603\n",
      "recall: 0.9992862878044428\n",
      "F1: 0.9993605852875135\n",
      "POS Accuracy:0.9998034045096384\n",
      "NER Accuracy:0.9996644770297829\n",
      "count_correct_p 128670\n",
      "count_active_tokens_p 128851\n",
      "precision: 0.9985952767149654\n",
      "count_active_tokens_r 128847\n",
      "count_correct_r 128670\n",
      "recall: 0.9986262776781765\n",
      "F1: 0.9986107769559719\n"
     ]
    },
    {
     "name": "stderr",
     "output_type": "stream",
     "text": [
      "100%|████████████████████████████████████████████████████████████████████████████████████████████████████████████████████████████████████████████████| 432/432 [00:31<00:00, 13.81it/s]\n"
     ]
    },
    {
     "name": "stdout",
     "output_type": "stream",
     "text": [
      "count_correct_p 3103\n",
      "count_active_tokens_p 3196\n",
      "precision: 0.97090112640801\n",
      "count_active_tokens_r 3146\n",
      "count_correct_r 3103\n",
      "recall: 0.9863318499682137\n",
      "F1: 0.978555660674866\n",
      "count_correct_p 512\n",
      "count_active_tokens_p 605\n",
      "precision: 0.8462809917355372\n",
      "count_active_tokens_r 554\n",
      "count_correct_r 512\n",
      "recall: 0.924187725631769\n",
      "F1: 0.8835202761000862\n",
      "POS Accuracy:0.9921047677319151\n",
      "NER Accuracy:0.9862804160587377\n",
      "count_correct_p 14316\n",
      "count_active_tokens_p 15198\n",
      "precision: 0.9419660481642321\n",
      "count_active_tokens_r 15103\n",
      "count_correct_r 14316\n",
      "recall: 0.9478911474541482\n",
      "F1: 0.9449193095937428\n"
     ]
    },
    {
     "name": "stderr",
     "output_type": "stream",
     "text": [
      "100%|██████████████████████████████████████████████████████████████████████████████████████████████████████████████████████████████████████████████| 3638/3638 [20:12<00:00,  3.00it/s]\n"
     ]
    },
    {
     "name": "stdout",
     "output_type": "stream",
     "text": [
      "count_correct_p 33607\n",
      "count_active_tokens_p 33631\n",
      "precision: 0.9992863726918617\n",
      "count_active_tokens_r 33627\n",
      "count_correct_r 33607\n",
      "recall: 0.9994052398370357\n",
      "F1: 0.9993458027297868\n",
      "POS Accuracy:0.9998060257828433\n",
      "NER Accuracy:0.9996854472154215\n",
      "count_correct_p 128680\n",
      "count_active_tokens_p 128847\n",
      "precision: 0.9987038891087879\n",
      "count_active_tokens_r 128847\n",
      "count_correct_r 128680\n",
      "recall: 0.9987038891087879\n",
      "F1: 0.9987038891087879\n"
     ]
    },
    {
     "name": "stderr",
     "output_type": "stream",
     "text": [
      "100%|████████████████████████████████████████████████████████████████████████████████████████████████████████████████████████████████████████████████| 432/432 [00:30<00:00, 14.27it/s]\n"
     ]
    },
    {
     "name": "stdout",
     "output_type": "stream",
     "text": [
      "count_correct_p 3094\n",
      "count_active_tokens_p 3170\n",
      "precision: 0.97602523659306\n",
      "count_active_tokens_r 3146\n",
      "count_correct_r 3094\n",
      "recall: 0.9834710743801653\n",
      "F1: 0.9797340088663712\n",
      "count_correct_p 503\n",
      "count_active_tokens_p 579\n",
      "precision: 0.8687392055267703\n",
      "count_active_tokens_r 554\n",
      "count_correct_r 503\n",
      "recall: 0.907942238267148\n",
      "F1: 0.8879082082965578\n",
      "POS Accuracy:0.9925518896785428\n",
      "NER Accuracy:0.9862686496917212\n",
      "count_correct_p 14359\n",
      "count_active_tokens_p 15278\n",
      "precision: 0.9398481476633067\n",
      "count_active_tokens_r 15103\n",
      "count_correct_r 14359\n",
      "recall: 0.9507382639210753\n",
      "F1: 0.9452618412823804\n"
     ]
    },
    {
     "name": "stderr",
     "output_type": "stream",
     "text": [
      "100%|██████████████████████████████████████████████████████████████████████████████████████████████████████████████████████████████████████████████| 3638/3638 [20:18<00:00,  2.99it/s]\n"
     ]
    },
    {
     "name": "stdout",
     "output_type": "stream",
     "text": [
      "count_correct_p 33614\n",
      "count_active_tokens_p 33623\n",
      "precision: 0.99973232608631\n",
      "count_active_tokens_r 33627\n",
      "count_correct_r 33614\n",
      "recall: 0.9996134058940732\n",
      "F1: 0.9996728624535315\n",
      "POS Accuracy:0.9998361704246986\n",
      "NER Accuracy:0.9997365620429155\n",
      "count_correct_p 128717\n",
      "count_active_tokens_p 128857\n",
      "precision: 0.9989135242943729\n",
      "count_active_tokens_r 128847\n",
      "count_correct_r 128717\n",
      "recall: 0.9989910514020505\n",
      "F1: 0.9989522863440227\n"
     ]
    },
    {
     "name": "stderr",
     "output_type": "stream",
     "text": [
      "100%|████████████████████████████████████████████████████████████████████████████████████████████████████████████████████████████████████████████████| 432/432 [00:29<00:00, 14.44it/s]\n"
     ]
    },
    {
     "name": "stdout",
     "output_type": "stream",
     "text": [
      "count_correct_p 3085\n",
      "count_active_tokens_p 3157\n",
      "precision: 0.9771935381691479\n",
      "count_active_tokens_r 3146\n",
      "count_correct_r 3085\n",
      "recall: 0.9806102987921169\n",
      "F1: 0.9788989370141201\n",
      "count_correct_p 494\n",
      "count_active_tokens_p 566\n",
      "precision: 0.872791519434629\n",
      "count_active_tokens_r 554\n",
      "count_correct_r 494\n",
      "recall: 0.8916967509025271\n",
      "F1: 0.8821428571428572\n",
      "POS Accuracy:0.9919518049607003\n",
      "NER Accuracy:0.9862215842236551\n",
      "count_correct_p 14309\n",
      "count_active_tokens_p 15213\n",
      "precision: 0.9405771379741011\n",
      "count_active_tokens_r 15103\n",
      "count_correct_r 14309\n",
      "recall: 0.9474276633781368\n",
      "F1: 0.9439899722918591\n"
     ]
    },
    {
     "name": "stderr",
     "output_type": "stream",
     "text": [
      "100%|██████████████████████████████████████████████████████████████████████████████████████████████████████████████████████████████████████████████| 3638/3638 [20:19<00:00,  2.98it/s]\n"
     ]
    },
    {
     "name": "stdout",
     "output_type": "stream",
     "text": [
      "count_correct_p 33600\n",
      "count_active_tokens_p 33623\n",
      "precision: 0.9993159444427921\n",
      "count_active_tokens_r 33627\n",
      "count_correct_r 33600\n",
      "recall: 0.9991970737799982\n",
      "F1: 0.9992565055762082\n",
      "POS Accuracy:0.9998505874273252\n",
      "NER Accuracy:0.9996500600271564\n",
      "count_correct_p 128659\n",
      "count_active_tokens_p 128845\n",
      "precision: 0.9985564049827312\n",
      "count_active_tokens_r 128847\n",
      "count_correct_r 128659\n",
      "recall: 0.9985409051045038\n",
      "F1: 0.9985486549834686\n"
     ]
    },
    {
     "name": "stderr",
     "output_type": "stream",
     "text": [
      "100%|████████████████████████████████████████████████████████████████████████████████████████████████████████████████████████████████████████████████| 432/432 [00:28<00:00, 15.24it/s]\n"
     ]
    },
    {
     "name": "stdout",
     "output_type": "stream",
     "text": [
      "count_correct_p 3100\n",
      "count_active_tokens_p 3188\n",
      "precision: 0.972396486825596\n",
      "count_active_tokens_r 3146\n",
      "count_correct_r 3100\n",
      "recall: 0.9853782581055308\n",
      "F1: 0.9788443321755604\n",
      "count_correct_p 508\n",
      "count_active_tokens_p 596\n",
      "precision: 0.8523489932885906\n",
      "count_active_tokens_r 554\n",
      "count_correct_r 508\n",
      "recall: 0.9169675090252708\n",
      "F1: 0.8834782608695652\n",
      "POS Accuracy:0.9923989269073281\n",
      "NER Accuracy:0.9858803595801761\n",
      "count_correct_p 14298\n",
      "count_active_tokens_p 15224\n",
      "precision: 0.9391749868628482\n",
      "count_active_tokens_r 15103\n",
      "count_correct_r 14298\n",
      "recall: 0.9466993312586903\n",
      "F1: 0.9429221485804729\n"
     ]
    },
    {
     "name": "stderr",
     "output_type": "stream",
     "text": [
      "100%|██████████████████████████████████████████████████████████████████████████████████████████████████████████████████████████████████████████████| 3638/3638 [20:04<00:00,  3.02it/s]\n"
     ]
    },
    {
     "name": "stdout",
     "output_type": "stream",
     "text": [
      "count_correct_p 33610\n",
      "count_active_tokens_p 33627\n",
      "precision: 0.9994944538614804\n",
      "count_active_tokens_r 33627\n",
      "count_correct_r 33610\n",
      "recall: 0.9994944538614804\n",
      "F1: 0.9994944538614804\n",
      "POS Accuracy:0.9998676257031566\n",
      "NER Accuracy:0.9996762727592046\n",
      "count_correct_p 128687\n",
      "count_active_tokens_p 128868\n",
      "precision: 0.9985954620231555\n",
      "count_active_tokens_r 128847\n",
      "count_correct_r 128687\n",
      "recall: 0.998758217110216\n",
      "F1: 0.9986768329356072\n"
     ]
    },
    {
     "name": "stderr",
     "output_type": "stream",
     "text": [
      "100%|████████████████████████████████████████████████████████████████████████████████████████████████████████████████████████████████████████████████| 432/432 [00:32<00:00, 13.48it/s]\n"
     ]
    },
    {
     "name": "stdout",
     "output_type": "stream",
     "text": [
      "count_correct_p 3093\n",
      "count_active_tokens_p 3174\n",
      "precision: 0.9744801512287334\n",
      "count_active_tokens_r 3146\n",
      "count_correct_r 3093\n",
      "recall: 0.9831532104259377\n",
      "F1: 0.9787974683544304\n",
      "count_correct_p 502\n",
      "count_active_tokens_p 583\n",
      "precision: 0.8610634648370498\n",
      "count_active_tokens_r 554\n",
      "count_correct_r 502\n",
      "recall: 0.9061371841155235\n",
      "F1: 0.8830255057167986\n",
      "POS Accuracy:0.9914929166470561\n",
      "NER Accuracy:0.9866569398032663\n",
      "count_correct_p 14344\n",
      "count_active_tokens_p 15209\n",
      "precision: 0.9431257807876915\n",
      "count_active_tokens_r 15103\n",
      "count_correct_r 14344\n",
      "recall: 0.9497450837581938\n",
      "F1: 0.9464238585378728\n"
     ]
    },
    {
     "name": "stderr",
     "output_type": "stream",
     "text": [
      "100%|██████████████████████████████████████████████████████████████████████████████████████████████████████████████████████████████████████████████| 3638/3638 [20:13<00:00,  3.00it/s]\n"
     ]
    },
    {
     "name": "stdout",
     "output_type": "stream",
     "text": [
      "count_correct_p 33613\n",
      "count_active_tokens_p 33629\n",
      "precision: 0.9995242201671176\n",
      "count_active_tokens_r 33627\n",
      "count_correct_r 33613\n",
      "recall: 0.999583667885925\n",
      "F1: 0.9995539431426193\n",
      "POS Accuracy:0.9998322385148914\n",
      "NER Accuracy:0.9996474387539516\n",
      "count_correct_p 128657\n",
      "count_active_tokens_p 128847\n",
      "precision: 0.9985253828183815\n",
      "count_active_tokens_r 128847\n",
      "count_correct_r 128657\n",
      "recall: 0.9985253828183815\n",
      "F1: 0.9985253828183815\n"
     ]
    },
    {
     "name": "stderr",
     "output_type": "stream",
     "text": [
      "100%|████████████████████████████████████████████████████████████████████████████████████████████████████████████████████████████████████████████████| 432/432 [00:31<00:00, 13.70it/s]\n"
     ]
    },
    {
     "name": "stdout",
     "output_type": "stream",
     "text": [
      "count_correct_p 3093\n",
      "count_active_tokens_p 3165\n",
      "precision: 0.9772511848341232\n",
      "count_active_tokens_r 3146\n",
      "count_correct_r 3093\n",
      "recall: 0.9831532104259377\n",
      "F1: 0.9801933132625574\n",
      "count_correct_p 502\n",
      "count_active_tokens_p 574\n",
      "precision: 0.8745644599303136\n",
      "count_active_tokens_r 554\n",
      "count_correct_r 502\n",
      "recall: 0.9061371841155235\n",
      "F1: 0.8900709219858155\n",
      "POS Accuracy:0.9924930578434602\n",
      "NER Accuracy:0.9862451169576881\n",
      "count_correct_p 14306\n",
      "count_active_tokens_p 15192\n",
      "precision: 0.941679831490258\n",
      "count_active_tokens_r 15103\n",
      "count_correct_r 14306\n",
      "recall: 0.9472290273455605\n",
      "F1: 0.9444462782637398\n"
     ]
    },
    {
     "name": "stderr",
     "output_type": "stream",
     "text": [
      "100%|██████████████████████████████████████████████████████████████████████████████████████████████████████████████████████████████████████████████| 3638/3638 [20:03<00:00,  3.02it/s]\n"
     ]
    },
    {
     "name": "stdout",
     "output_type": "stream",
     "text": [
      "count_correct_p 33603\n",
      "count_active_tokens_p 33620\n",
      "precision: 0.9994943486020226\n",
      "count_active_tokens_r 33627\n",
      "count_correct_r 33603\n",
      "recall: 0.9992862878044428\n",
      "F1: 0.9993903073743067\n",
      "POS Accuracy:0.9998191321488673\n",
      "NER Accuracy:0.9997037961278552\n",
      "count_correct_p 128686\n",
      "count_active_tokens_p 128847\n",
      "precision: 0.9987504559671548\n",
      "count_active_tokens_r 128847\n",
      "count_correct_r 128686\n",
      "recall: 0.9987504559671548\n",
      "F1: 0.9987504559671548\n"
     ]
    },
    {
     "name": "stderr",
     "output_type": "stream",
     "text": [
      "100%|████████████████████████████████████████████████████████████████████████████████████████████████████████████████████████████████████████████████| 432/432 [00:30<00:00, 14.20it/s]\n"
     ]
    },
    {
     "name": "stdout",
     "output_type": "stream",
     "text": [
      "count_correct_p 3095\n",
      "count_active_tokens_p 3166\n",
      "precision: 0.9775742261528743\n",
      "count_active_tokens_r 3146\n",
      "count_correct_r 3095\n",
      "recall: 0.9837889383343928\n",
      "F1: 0.9806717363751584\n",
      "count_correct_p 503\n",
      "count_active_tokens_p 574\n",
      "precision: 0.8763066202090593\n",
      "count_active_tokens_r 554\n",
      "count_correct_r 503\n",
      "recall: 0.907942238267148\n",
      "F1: 0.8918439716312057\n",
      "POS Accuracy:0.9925871887795924\n",
      "NER Accuracy:0.9866216407022168\n",
      "count_correct_p 14366\n",
      "count_active_tokens_p 15266\n",
      "precision: 0.9410454605004586\n",
      "count_active_tokens_r 15103\n",
      "count_correct_r 14366\n",
      "recall: 0.9512017479970867\n",
      "F1: 0.9460963482498601\n"
     ]
    },
    {
     "name": "stderr",
     "output_type": "stream",
     "text": [
      "100%|██████████████████████████████████████████████████████████████████████████████████████████████████████████████████████████████████████████████| 3638/3638 [20:00<00:00,  3.03it/s]\n"
     ]
    },
    {
     "name": "stdout",
     "output_type": "stream",
     "text": [
      "count_correct_p 33609\n",
      "count_active_tokens_p 33626\n",
      "precision: 0.9994944388270981\n",
      "count_active_tokens_r 33627\n",
      "count_correct_r 33609\n",
      "recall: 0.9994647158533322\n",
      "F1: 0.9994795771192362\n",
      "POS Accuracy:0.9998283066050843\n",
      "NER Accuracy:0.9996906897618311\n",
      "count_correct_p 128688\n",
      "count_active_tokens_p 128850\n",
      "precision: 0.9987427240977881\n",
      "count_active_tokens_r 128847\n",
      "count_correct_r 128688\n",
      "recall: 0.9987659782532772\n",
      "F1: 0.9987543510401751\n"
     ]
    },
    {
     "name": "stderr",
     "output_type": "stream",
     "text": [
      "100%|████████████████████████████████████████████████████████████████████████████████████████████████████████████████████████████████████████████████| 432/432 [00:30<00:00, 13.94it/s]\n"
     ]
    },
    {
     "name": "stdout",
     "output_type": "stream",
     "text": [
      "count_correct_p 3105\n",
      "count_active_tokens_p 3190\n",
      "precision: 0.9733542319749217\n",
      "count_active_tokens_r 3146\n",
      "count_correct_r 3105\n",
      "recall: 0.9869675778766688\n",
      "F1: 0.9801136363636364\n",
      "count_correct_p 514\n",
      "count_active_tokens_p 599\n",
      "precision: 0.8580968280467446\n",
      "count_active_tokens_r 554\n",
      "count_correct_r 514\n",
      "recall: 0.927797833935018\n",
      "F1: 0.8915871639202081\n",
      "POS Accuracy:0.9918929731256177\n",
      "NER Accuracy:0.986468677931002\n",
      "count_correct_p 14366\n",
      "count_active_tokens_p 15274\n",
      "precision: 0.940552572999869\n",
      "count_active_tokens_r 15103\n",
      "count_correct_r 14366\n",
      "recall: 0.9512017479970867\n",
      "F1: 0.9458471870164927\n"
     ]
    },
    {
     "name": "stderr",
     "output_type": "stream",
     "text": [
      "100%|██████████████████████████████████████████████████████████████████████████████████████████████████████████████████████████████████████████████| 3638/3638 [19:58<00:00,  3.04it/s]\n"
     ]
    },
    {
     "name": "stdout",
     "output_type": "stream",
     "text": [
      "count_correct_p 33606\n",
      "count_active_tokens_p 33627\n",
      "precision: 0.9993755018288875\n",
      "count_active_tokens_r 33627\n",
      "count_correct_r 33606\n",
      "recall: 0.9993755018288875\n",
      "F1: 0.9993755018288875\n",
      "POS Accuracy:0.9998518980639276\n",
      "NER Accuracy:0.999655302573566\n",
      "count_correct_p 128660\n",
      "count_active_tokens_p 128856\n",
      "precision: 0.9984789222077358\n",
      "count_active_tokens_r 128847\n",
      "count_correct_r 128660\n",
      "recall: 0.9985486662475649\n",
      "F1: 0.9985137930097826\n"
     ]
    },
    {
     "name": "stderr",
     "output_type": "stream",
     "text": [
      "100%|████████████████████████████████████████████████████████████████████████████████████████████████████████████████████████████████████████████████| 432/432 [00:29<00:00, 14.53it/s]\n"
     ]
    },
    {
     "name": "stdout",
     "output_type": "stream",
     "text": [
      "count_correct_p 3102\n",
      "count_active_tokens_p 3172\n",
      "precision: 0.9779319041614124\n",
      "count_active_tokens_r 3146\n",
      "count_correct_r 3102\n",
      "recall: 0.986013986013986\n",
      "F1: 0.9819563152896486\n",
      "count_correct_p 511\n",
      "count_active_tokens_p 581\n",
      "precision: 0.8795180722891566\n",
      "count_active_tokens_r 554\n",
      "count_correct_r 511\n",
      "recall: 0.9223826714801444\n",
      "F1: 0.9004405286343611\n",
      "POS Accuracy:0.9925871887795924\n",
      "NER Accuracy:0.9866804725372994\n",
      "count_correct_p 14335\n",
      "count_active_tokens_p 15190\n",
      "precision: 0.9437129690585911\n",
      "count_active_tokens_r 15103\n",
      "count_correct_r 14335\n",
      "recall: 0.9491491756604649\n",
      "F1: 0.9464232661010795\n"
     ]
    },
    {
     "name": "stderr",
     "output_type": "stream",
     "text": [
      "100%|██████████████████████████████████████████████████████████████████████████████████████████████████████████████████████████████████████████████| 3638/3638 [19:54<00:00,  3.05it/s]\n"
     ]
    },
    {
     "name": "stdout",
     "output_type": "stream",
     "text": [
      "count_correct_p 33609\n",
      "count_active_tokens_p 33620\n",
      "precision: 0.9996728138013088\n",
      "count_active_tokens_r 33627\n",
      "count_correct_r 33609\n",
      "recall: 0.9994647158533322\n",
      "F1: 0.999568753996461\n",
      "POS Accuracy:0.9998165108756625\n",
      "NER Accuracy:0.9996854472154215\n",
      "count_correct_p 128680\n",
      "count_active_tokens_p 128852\n",
      "precision: 0.9986651351938658\n",
      "count_active_tokens_r 128847\n",
      "count_correct_r 128680\n",
      "recall: 0.9987038891087879\n",
      "F1: 0.9986845117753659\n"
     ]
    },
    {
     "name": "stderr",
     "output_type": "stream",
     "text": [
      "100%|████████████████████████████████████████████████████████████████████████████████████████████████████████████████████████████████████████████████| 432/432 [00:30<00:00, 14.09it/s]\n"
     ]
    },
    {
     "name": "stdout",
     "output_type": "stream",
     "text": [
      "count_correct_p 3098\n",
      "count_active_tokens_p 3184\n",
      "precision: 0.9729899497487438\n",
      "count_active_tokens_r 3146\n",
      "count_correct_r 3098\n",
      "recall: 0.9847425301970757\n",
      "F1: 0.9788309636650869\n",
      "count_correct_p 507\n",
      "count_active_tokens_p 593\n",
      "precision: 0.8549747048903878\n",
      "count_active_tokens_r 554\n",
      "count_correct_r 507\n",
      "recall: 0.9151624548736462\n",
      "F1: 0.8840453356582388\n",
      "POS Accuracy:0.9924812914764437\n",
      "NER Accuracy:0.986468677931002\n",
      "count_correct_p 14269\n",
      "count_active_tokens_p 15071\n",
      "precision: 0.9467852166412315\n",
      "count_active_tokens_r 15103\n",
      "count_correct_r 14269\n",
      "recall: 0.944779182943786\n",
      "F1: 0.9457811360774177\n"
     ]
    },
    {
     "name": "stderr",
     "output_type": "stream",
     "text": [
      "100%|██████████████████████████████████████████████████████████████████████████████████████████████████████████████████████████████████████████████| 3638/3638 [20:09<00:00,  3.01it/s]\n"
     ]
    },
    {
     "name": "stdout",
     "output_type": "stream",
     "text": [
      "count_correct_p 33613\n",
      "count_active_tokens_p 33626\n",
      "precision: 0.9996133943971927\n",
      "count_active_tokens_r 33627\n",
      "count_correct_r 33613\n",
      "recall: 0.999583667885925\n",
      "F1: 0.9995985309205537\n",
      "POS Accuracy:0.9998152002390601\n",
      "NER Accuracy:0.999735251406313\n",
      "count_correct_p 128699\n",
      "count_active_tokens_p 128842\n",
      "precision: 0.9988901134723149\n",
      "count_active_tokens_r 128847\n",
      "count_correct_r 128699\n",
      "recall: 0.9988513508269498\n",
      "F1: 0.9988707317735719\n"
     ]
    },
    {
     "name": "stderr",
     "output_type": "stream",
     "text": [
      "100%|████████████████████████████████████████████████████████████████████████████████████████████████████████████████████████████████████████████████| 432/432 [00:29<00:00, 14.45it/s]\n"
     ]
    },
    {
     "name": "stdout",
     "output_type": "stream",
     "text": [
      "count_correct_p 3097\n",
      "count_active_tokens_p 3181\n",
      "precision: 0.9735932096824897\n",
      "count_active_tokens_r 3146\n",
      "count_correct_r 3097\n",
      "recall: 0.9844246662428481\n",
      "F1: 0.9789789789789789\n",
      "count_correct_p 506\n",
      "count_active_tokens_p 590\n",
      "precision: 0.8576271186440678\n",
      "count_active_tokens_r 554\n",
      "count_correct_r 506\n",
      "recall: 0.9133574007220217\n",
      "F1: 0.8846153846153846\n",
      "POS Accuracy:0.9925401233115263\n",
      "NER Accuracy:0.9866569398032663\n",
      "count_correct_p 14349\n",
      "count_active_tokens_p 15235\n",
      "precision: 0.9418444371512964\n",
      "count_active_tokens_r 15103\n",
      "count_correct_r 14349\n",
      "recall: 0.9500761438124876\n",
      "F1: 0.9459423824906058\n"
     ]
    },
    {
     "name": "stderr",
     "output_type": "stream",
     "text": [
      "100%|██████████████████████████████████████████████████████████████████████████████████████████████████████████████████████████████████████████████| 3638/3638 [20:02<00:00,  3.03it/s]\n"
     ]
    },
    {
     "name": "stdout",
     "output_type": "stream",
     "text": [
      "count_correct_p 33613\n",
      "count_active_tokens_p 33630\n",
      "precision: 0.9994944989592626\n",
      "count_active_tokens_r 33627\n",
      "count_correct_r 33613\n",
      "recall: 0.999583667885925\n",
      "F1: 0.9995390814339028\n",
      "POS Accuracy:0.9998269959684818\n",
      "NER Accuracy:0.9997378726795179\n",
      "count_correct_p 128702\n",
      "count_active_tokens_p 128848\n",
      "precision: 0.9988668819073637\n",
      "count_active_tokens_r 128847\n",
      "count_correct_r 128702\n",
      "recall: 0.9988746342561332\n",
      "F1: 0.9988707580667068\n"
     ]
    },
    {
     "name": "stderr",
     "output_type": "stream",
     "text": [
      "100%|████████████████████████████████████████████████████████████████████████████████████████████████████████████████████████████████████████████████| 432/432 [00:29<00:00, 14.71it/s]\n"
     ]
    },
    {
     "name": "stdout",
     "output_type": "stream",
     "text": [
      "count_correct_p 3107\n",
      "count_active_tokens_p 3203\n",
      "precision: 0.9700280986575086\n",
      "count_active_tokens_r 3146\n",
      "count_correct_r 3107\n",
      "recall: 0.987603305785124\n",
      "F1: 0.9787368089462908\n",
      "count_correct_p 516\n",
      "count_active_tokens_p 612\n",
      "precision: 0.8431372549019608\n",
      "count_active_tokens_r 554\n",
      "count_correct_r 516\n",
      "recall: 0.9314079422382672\n",
      "F1: 0.8850771869639795\n",
      "POS Accuracy:0.9921165340989316\n",
      "NER Accuracy:0.986762837106415\n",
      "count_correct_p 14350\n",
      "count_active_tokens_p 15215\n",
      "precision: 0.9431482090042721\n",
      "count_active_tokens_r 15103\n",
      "count_correct_r 14350\n",
      "recall: 0.9501423558233464\n",
      "F1: 0.9466323636123756\n"
     ]
    },
    {
     "name": "stderr",
     "output_type": "stream",
     "text": [
      "100%|██████████████████████████████████████████████████████████████████████████████████████████████████████████████████████████████████████████████| 3638/3638 [20:08<00:00,  3.01it/s]\n"
     ]
    },
    {
     "name": "stdout",
     "output_type": "stream",
     "text": [
      "count_correct_p 33617\n",
      "count_active_tokens_p 33629\n",
      "precision: 0.9996431651253382\n",
      "count_active_tokens_r 33627\n",
      "count_correct_r 33617\n",
      "recall: 0.9997026199185178\n",
      "F1: 0.9996728916379207\n",
      "POS Accuracy:0.9998427236077108\n",
      "NER Accuracy:0.9997536003187468\n",
      "count_correct_p 128716\n",
      "count_active_tokens_p 128841\n",
      "precision: 0.9990298119387462\n",
      "count_active_tokens_r 128847\n",
      "count_correct_r 128716\n",
      "recall: 0.9989832902589894\n",
      "F1: 0.9990065505572632\n"
     ]
    },
    {
     "name": "stderr",
     "output_type": "stream",
     "text": [
      "100%|████████████████████████████████████████████████████████████████████████████████████████████████████████████████████████████████████████████████| 432/432 [00:32<00:00, 13.16it/s]\n"
     ]
    },
    {
     "name": "stdout",
     "output_type": "stream",
     "text": [
      "count_correct_p 3089\n",
      "count_active_tokens_p 3160\n",
      "precision: 0.9775316455696202\n",
      "count_active_tokens_r 3146\n",
      "count_correct_r 3089\n",
      "recall: 0.9818817546090274\n",
      "F1: 0.9797018712337456\n",
      "count_correct_p 497\n",
      "count_active_tokens_p 568\n",
      "precision: 0.875\n",
      "count_active_tokens_r 554\n",
      "count_correct_r 497\n",
      "recall: 0.8971119133574007\n",
      "F1: 0.8859180035650623\n",
      "POS Accuracy:0.992646020614675\n",
      "NER Accuracy:0.9866804725372994\n",
      "count_correct_p 14337\n",
      "count_active_tokens_p 15204\n",
      "precision: 0.9429755327545383\n",
      "count_active_tokens_r 15103\n",
      "count_correct_r 14337\n",
      "recall: 0.9492815996821824\n",
      "F1: 0.9461180585343321\n"
     ]
    },
    {
     "name": "stderr",
     "output_type": "stream",
     "text": [
      "100%|██████████████████████████████████████████████████████████████████████████████████████████████████████████████████████████████████████████████| 3638/3638 [20:42<00:00,  2.93it/s]\n"
     ]
    },
    {
     "name": "stdout",
     "output_type": "stream",
     "text": [
      "count_correct_p 33610\n",
      "count_active_tokens_p 33627\n",
      "precision: 0.9994944538614804\n",
      "count_active_tokens_r 33627\n",
      "count_correct_r 33610\n",
      "recall: 0.9994944538614804\n",
      "F1: 0.9994944538614804\n",
      "POS Accuracy:0.999846655517518\n",
      "NER Accuracy:0.9997483577723372\n",
      "count_correct_p 128714\n",
      "count_active_tokens_p 128843\n",
      "precision: 0.9989987814627105\n",
      "count_active_tokens_r 128847\n",
      "count_correct_r 128714\n",
      "recall: 0.998967767972867\n",
      "F1: 0.998983274477085\n"
     ]
    },
    {
     "name": "stderr",
     "output_type": "stream",
     "text": [
      "100%|████████████████████████████████████████████████████████████████████████████████████████████████████████████████████████████████████████████████| 432/432 [00:29<00:00, 14.52it/s]\n"
     ]
    },
    {
     "name": "stdout",
     "output_type": "stream",
     "text": [
      "count_correct_p 3091\n",
      "count_active_tokens_p 3160\n",
      "precision: 0.9781645569620253\n",
      "count_active_tokens_r 3146\n",
      "count_correct_r 3091\n",
      "recall: 0.9825174825174825\n",
      "F1: 0.980336187757691\n",
      "count_correct_p 499\n",
      "count_active_tokens_p 568\n",
      "precision: 0.8785211267605634\n",
      "count_active_tokens_r 554\n",
      "count_correct_r 499\n",
      "recall: 0.9007220216606499\n",
      "F1: 0.8894830659536542\n",
      "POS Accuracy:0.9924695251094272\n",
      "NER Accuracy:0.9869040335106133\n",
      "count_correct_p 14349\n",
      "count_active_tokens_p 15204\n",
      "precision: 0.9437647987371744\n",
      "count_active_tokens_r 15103\n",
      "count_correct_r 14349\n",
      "recall: 0.9500761438124876\n",
      "F1: 0.9469099547959217\n"
     ]
    },
    {
     "name": "stderr",
     "output_type": "stream",
     "text": [
      "100%|██████████████████████████████████████████████████████████████████████████████████████████████████████████████████████████████████████████████| 3638/3638 [20:00<00:00,  3.03it/s]\n"
     ]
    },
    {
     "name": "stdout",
     "output_type": "stream",
     "text": [
      "count_correct_p 33608\n",
      "count_active_tokens_p 33633\n",
      "precision: 0.9992566824249992\n",
      "count_active_tokens_r 33627\n",
      "count_correct_r 33608\n",
      "recall: 0.999434977845184\n",
      "F1: 0.9993458221825751\n",
      "POS Accuracy:0.9998217534220721\n",
      "NER Accuracy:0.9996723408493974\n",
      "count_correct_p 128675\n",
      "count_active_tokens_p 128851\n",
      "precision: 0.9986340812256017\n",
      "count_active_tokens_r 128847\n",
      "count_correct_r 128675\n",
      "recall: 0.9986650833934821\n",
      "F1: 0.9986495820689334\n"
     ]
    },
    {
     "name": "stderr",
     "output_type": "stream",
     "text": [
      "100%|████████████████████████████████████████████████████████████████████████████████████████████████████████████████████████████████████████████████| 432/432 [00:30<00:00, 14.38it/s]\n"
     ]
    },
    {
     "name": "stdout",
     "output_type": "stream",
     "text": [
      "count_correct_p 3089\n",
      "count_active_tokens_p 3167\n",
      "precision: 0.9753710135775182\n",
      "count_active_tokens_r 3146\n",
      "count_correct_r 3089\n",
      "recall: 0.9818817546090274\n",
      "F1: 0.9786155552035483\n",
      "count_correct_p 498\n",
      "count_active_tokens_p 576\n",
      "precision: 0.8645833333333334\n",
      "count_active_tokens_r 554\n",
      "count_correct_r 498\n",
      "recall: 0.8989169675090253\n",
      "F1: 0.8814159292035398\n",
      "POS Accuracy:0.9925401233115263\n",
      "NER Accuracy:0.9862451169576881\n",
      "count_correct_p 14307\n",
      "count_active_tokens_p 15207\n",
      "precision: 0.940816729137897\n",
      "count_active_tokens_r 15103\n",
      "count_correct_r 14307\n",
      "recall: 0.9472952393564192\n",
      "F1: 0.9440448696799737\n"
     ]
    },
    {
     "name": "stderr",
     "output_type": "stream",
     "text": [
      "100%|██████████████████████████████████████████████████████████████████████████████████████████████████████████████████████████████████████████████| 3638/3638 [20:18<00:00,  2.99it/s]\n"
     ]
    },
    {
     "name": "stdout",
     "output_type": "stream",
     "text": [
      "count_correct_p 33613\n",
      "count_active_tokens_p 33627\n",
      "precision: 0.999583667885925\n",
      "count_active_tokens_r 33627\n",
      "count_correct_r 33613\n",
      "recall: 0.999583667885925\n",
      "F1: 0.999583667885925\n",
      "POS Accuracy:0.9998309278782891\n",
      "NER Accuracy:0.9997522896821444\n",
      "count_correct_p 128712\n",
      "count_active_tokens_p 128845\n",
      "precision: 0.9989677519500174\n",
      "count_active_tokens_r 128847\n",
      "count_correct_r 128712\n",
      "recall: 0.9989522456867448\n",
      "F1: 0.9989599987582075\n"
     ]
    },
    {
     "name": "stderr",
     "output_type": "stream",
     "text": [
      "100%|████████████████████████████████████████████████████████████████████████████████████████████████████████████████████████████████████████████████| 432/432 [00:30<00:00, 14.33it/s]\n"
     ]
    },
    {
     "name": "stdout",
     "output_type": "stream",
     "text": [
      "count_correct_p 3107\n",
      "count_active_tokens_p 3189\n",
      "precision: 0.9742866102226403\n",
      "count_active_tokens_r 3146\n",
      "count_correct_r 3107\n",
      "recall: 0.987603305785124\n",
      "F1: 0.9808997632202052\n",
      "count_correct_p 516\n",
      "count_active_tokens_p 598\n",
      "precision: 0.862876254180602\n",
      "count_active_tokens_r 554\n",
      "count_correct_r 516\n",
      "recall: 0.9314079422382672\n",
      "F1: 0.8958333333333334\n",
      "POS Accuracy:0.9919165058596507\n",
      "NER Accuracy:0.9859156586812255\n",
      "count_correct_p 14307\n",
      "count_active_tokens_p 15244\n",
      "precision: 0.9385331933875624\n",
      "count_active_tokens_r 15103\n",
      "count_correct_r 14307\n",
      "recall: 0.9472952393564192\n",
      "F1: 0.9428938610076778\n"
     ]
    },
    {
     "name": "stderr",
     "output_type": "stream",
     "text": [
      "100%|██████████████████████████████████████████████████████████████████████████████████████████████████████████████████████████████████████████████| 3638/3638 [20:12<00:00,  3.00it/s]\n"
     ]
    },
    {
     "name": "stdout",
     "output_type": "stream",
     "text": [
      "count_correct_p 33616\n",
      "count_active_tokens_p 33632\n",
      "precision: 0.9995242626070409\n",
      "count_active_tokens_r 33627\n",
      "count_correct_r 33616\n",
      "recall: 0.9996728819103696\n",
      "F1: 0.9995985667345633\n",
      "POS Accuracy:0.9998597618835421\n",
      "NER Accuracy:0.9997300088599035\n",
      "count_correct_p 128696\n",
      "count_active_tokens_p 128838\n",
      "precision: 0.9988978406991726\n",
      "count_active_tokens_r 128847\n",
      "count_correct_r 128696\n",
      "recall: 0.9988280673977663\n",
      "F1: 0.9988629528300056\n"
     ]
    },
    {
     "name": "stderr",
     "output_type": "stream",
     "text": [
      "100%|████████████████████████████████████████████████████████████████████████████████████████████████████████████████████████████████████████████████| 432/432 [00:28<00:00, 14.91it/s]\n"
     ]
    },
    {
     "name": "stdout",
     "output_type": "stream",
     "text": [
      "count_correct_p 3102\n",
      "count_active_tokens_p 3187\n",
      "precision: 0.9733291496705365\n",
      "count_active_tokens_r 3146\n",
      "count_correct_r 3102\n",
      "recall: 0.986013986013986\n",
      "F1: 0.9796305068687825\n",
      "count_correct_p 510\n",
      "count_active_tokens_p 595\n",
      "precision: 0.8571428571428571\n",
      "count_active_tokens_r 554\n",
      "count_correct_r 510\n",
      "recall: 0.9205776173285198\n",
      "F1: 0.8877284595300261\n",
      "POS Accuracy:0.9924459923753942\n",
      "NER Accuracy:0.9865157433990681\n",
      "count_correct_p 14335\n",
      "count_active_tokens_p 15224\n",
      "precision: 0.9416053599579611\n",
      "count_active_tokens_r 15103\n",
      "count_correct_r 14335\n",
      "recall: 0.9491491756604649\n",
      "F1: 0.9453622184851783\n"
     ]
    },
    {
     "name": "stderr",
     "output_type": "stream",
     "text": [
      "100%|██████████████████████████████████████████████████████████████████████████████████████████████████████████████████████████████████████████████| 3638/3638 [19:57<00:00,  3.04it/s]\n"
     ]
    },
    {
     "name": "stdout",
     "output_type": "stream",
     "text": [
      "count_correct_p 33615\n",
      "count_active_tokens_p 33631\n",
      "precision: 0.9995242484612411\n",
      "count_active_tokens_r 33627\n",
      "count_correct_r 33615\n",
      "recall: 0.9996431439022214\n",
      "F1: 0.9995836926462279\n",
      "POS Accuracy:0.9998138896024577\n",
      "NER Accuracy:0.9997418045893252\n",
      "count_correct_p 128697\n",
      "count_active_tokens_p 128834\n",
      "precision: 0.998936616110654\n",
      "count_active_tokens_r 128847\n",
      "count_correct_r 128697\n",
      "recall: 0.9988358285408275\n",
      "F1: 0.9988862197833756\n"
     ]
    },
    {
     "name": "stderr",
     "output_type": "stream",
     "text": [
      "100%|████████████████████████████████████████████████████████████████████████████████████████████████████████████████████████████████████████████████| 432/432 [00:29<00:00, 14.48it/s]\n"
     ]
    },
    {
     "name": "stdout",
     "output_type": "stream",
     "text": [
      "count_correct_p 3086\n",
      "count_active_tokens_p 3152\n",
      "precision: 0.9790609137055838\n",
      "count_active_tokens_r 3146\n",
      "count_correct_r 3086\n",
      "recall: 0.9809281627463445\n",
      "F1: 0.9799936487773897\n",
      "count_correct_p 494\n",
      "count_active_tokens_p 560\n",
      "precision: 0.8821428571428571\n",
      "count_active_tokens_r 554\n",
      "count_correct_r 494\n",
      "recall: 0.8916967509025271\n",
      "F1: 0.8868940754039497\n",
      "POS Accuracy:0.9925401233115263\n",
      "NER Accuracy:0.9868099025744811\n",
      "count_correct_p 14357\n",
      "count_active_tokens_p 15218\n",
      "precision: 0.9434222631094756\n",
      "count_active_tokens_r 15103\n",
      "count_correct_r 14357\n",
      "recall: 0.9506058398993578\n",
      "F1: 0.9470004287457537\n"
     ]
    },
    {
     "name": "stderr",
     "output_type": "stream",
     "text": [
      "100%|██████████████████████████████████████████████████████████████████████████████████████████████████████████████████████████████████████████████| 3638/3638 [20:37<00:00,  2.94it/s]\n"
     ]
    },
    {
     "name": "stdout",
     "output_type": "stream",
     "text": [
      "count_correct_p 33615\n",
      "count_active_tokens_p 33627\n",
      "precision: 0.9996431439022214\n",
      "count_active_tokens_r 33627\n",
      "count_correct_r 33615\n",
      "recall: 0.9996431439022214\n",
      "F1: 0.9996431439022214\n",
      "POS Accuracy:0.999846655517518\n",
      "NER Accuracy:0.9997378726795179\n",
      "count_correct_p 128705\n",
      "count_active_tokens_p 128845\n",
      "precision: 0.9989134231052815\n",
      "count_active_tokens_r 128847\n",
      "count_correct_r 128705\n",
      "recall: 0.9988979176853167\n",
      "F1: 0.9989056703351287\n"
     ]
    },
    {
     "name": "stderr",
     "output_type": "stream",
     "text": [
      "100%|████████████████████████████████████████████████████████████████████████████████████████████████████████████████████████████████████████████████| 432/432 [00:30<00:00, 14.38it/s]\n"
     ]
    },
    {
     "name": "stdout",
     "output_type": "stream",
     "text": [
      "count_correct_p 3101\n",
      "count_active_tokens_p 3180\n",
      "precision: 0.9751572327044025\n",
      "count_active_tokens_r 3146\n",
      "count_correct_r 3101\n",
      "recall: 0.9856961220597584\n",
      "F1: 0.9803983559911477\n",
      "count_correct_p 509\n",
      "count_active_tokens_p 588\n",
      "precision: 0.8656462585034014\n",
      "count_active_tokens_r 554\n",
      "count_correct_r 509\n",
      "recall: 0.9187725631768953\n",
      "F1: 0.8914185639229422\n",
      "POS Accuracy:0.9926930860827411\n",
      "NER Accuracy:0.9863627806278533\n",
      "count_correct_p 14326\n",
      "count_active_tokens_p 15214\n",
      "precision: 0.941632706717497\n",
      "count_active_tokens_r 15103\n",
      "count_correct_r 14326\n",
      "recall: 0.9485532675627358\n",
      "F1: 0.9450803179734143\n"
     ]
    },
    {
     "name": "stderr",
     "output_type": "stream",
     "text": [
      "100%|██████████████████████████████████████████████████████████████████████████████████████████████████████████████████████████████████████████████| 3638/3638 [20:19<00:00,  2.98it/s]\n"
     ]
    },
    {
     "name": "stdout",
     "output_type": "stream",
     "text": [
      "count_correct_p 33613\n",
      "count_active_tokens_p 33629\n",
      "precision: 0.9995242201671176\n",
      "count_active_tokens_r 33627\n",
      "count_correct_r 33613\n",
      "recall: 0.999583667885925\n",
      "F1: 0.9995539431426193\n",
      "POS Accuracy:0.9998269959684818\n",
      "NER Accuracy:0.9997234556768914\n",
      "count_correct_p 128694\n",
      "count_active_tokens_p 128841\n",
      "precision: 0.9988590588399655\n",
      "count_active_tokens_r 128847\n",
      "count_correct_r 128694\n",
      "recall: 0.9988125451116441\n",
      "F1: 0.9988358014342926\n"
     ]
    },
    {
     "name": "stderr",
     "output_type": "stream",
     "text": [
      "100%|████████████████████████████████████████████████████████████████████████████████████████████████████████████████████████████████████████████████| 432/432 [00:29<00:00, 14.63it/s]\n"
     ]
    },
    {
     "name": "stdout",
     "output_type": "stream",
     "text": [
      "count_correct_p 3094\n",
      "count_active_tokens_p 3166\n",
      "precision: 0.9772583701831965\n",
      "count_active_tokens_r 3146\n",
      "count_correct_r 3094\n",
      "recall: 0.9834710743801653\n",
      "F1: 0.9803548795944234\n",
      "count_correct_p 503\n",
      "count_active_tokens_p 575\n",
      "precision: 0.8747826086956522\n",
      "count_active_tokens_r 554\n",
      "count_correct_r 503\n",
      "recall: 0.907942238267148\n",
      "F1: 0.8910540301151462\n",
      "POS Accuracy:0.9925754224125759\n",
      "NER Accuracy:0.9868216689414976\n",
      "count_correct_p 14387\n",
      "count_active_tokens_p 15293\n",
      "precision: 0.9407572091806709\n",
      "count_active_tokens_r 15103\n",
      "count_correct_r 14387\n",
      "recall: 0.9525922002251208\n",
      "F1: 0.9466377154888801\n"
     ]
    },
    {
     "name": "stderr",
     "output_type": "stream",
     "text": [
      "100%|██████████████████████████████████████████████████████████████████████████████████████████████████████████████████████████████████████████████| 3638/3638 [20:23<00:00,  2.97it/s]\n"
     ]
    },
    {
     "name": "stdout",
     "output_type": "stream",
     "text": [
      "count_correct_p 33611\n",
      "count_active_tokens_p 33629\n",
      "precision: 0.9994647476880074\n",
      "count_active_tokens_r 33627\n",
      "count_correct_r 33611\n",
      "recall: 0.9995241918696286\n",
      "F1: 0.9994944688949685\n",
      "POS Accuracy:0.9998518980639276\n",
      "NER Accuracy:0.9997549109553492\n",
      "count_correct_p 128727\n",
      "count_active_tokens_p 128851\n",
      "precision: 0.9990376481362193\n",
      "count_active_tokens_r 128847\n",
      "count_correct_r 128727\n",
      "recall: 0.999068662832662\n",
      "F1: 0.999053155243735\n"
     ]
    },
    {
     "name": "stderr",
     "output_type": "stream",
     "text": [
      "100%|████████████████████████████████████████████████████████████████████████████████████████████████████████████████████████████████████████████████| 432/432 [00:30<00:00, 14.36it/s]\n"
     ]
    },
    {
     "name": "stdout",
     "output_type": "stream",
     "text": [
      "count_correct_p 3084\n",
      "count_active_tokens_p 3152\n",
      "precision: 0.9784263959390863\n",
      "count_active_tokens_r 3146\n",
      "count_correct_r 3084\n",
      "recall: 0.9802924348378894\n",
      "F1: 0.9793585265163544\n",
      "count_correct_p 493\n",
      "count_active_tokens_p 561\n",
      "precision: 0.8787878787878788\n",
      "count_active_tokens_r 554\n",
      "count_correct_r 493\n",
      "recall: 0.8898916967509025\n",
      "F1: 0.884304932735426\n",
      "POS Accuracy:0.9926695533487081\n",
      "NER Accuracy:0.9868099025744811\n",
      "count_correct_p 14356\n",
      "count_active_tokens_p 15228\n",
      "precision: 0.9427370633044392\n",
      "count_active_tokens_r 15103\n",
      "count_correct_r 14356\n",
      "recall: 0.950539627888499\n",
      "F1: 0.9466222676469618\n"
     ]
    },
    {
     "name": "stderr",
     "output_type": "stream",
     "text": [
      "100%|██████████████████████████████████████████████████████████████████████████████████████████████████████████████████████████████████████████████| 3638/3638 [20:21<00:00,  2.98it/s]\n"
     ]
    },
    {
     "name": "stdout",
     "output_type": "stream",
     "text": [
      "count_correct_p 33617\n",
      "count_active_tokens_p 33630\n",
      "precision: 0.9996134403806125\n",
      "count_active_tokens_r 33627\n",
      "count_correct_r 33617\n",
      "recall: 0.9997026199185178\n",
      "F1: 0.9996580281606374\n",
      "POS Accuracy:0.9998453448809156\n",
      "NER Accuracy:0.9997378726795179\n",
      "count_correct_p 128697\n",
      "count_active_tokens_p 128838\n",
      "precision: 0.9989056023843897\n",
      "count_active_tokens_r 128847\n",
      "count_correct_r 128697\n",
      "recall: 0.9988358285408275\n",
      "F1: 0.9988707142441353\n"
     ]
    },
    {
     "name": "stderr",
     "output_type": "stream",
     "text": [
      "100%|████████████████████████████████████████████████████████████████████████████████████████████████████████████████████████████████████████████████| 432/432 [00:31<00:00, 13.92it/s]\n"
     ]
    },
    {
     "name": "stdout",
     "output_type": "stream",
     "text": [
      "count_correct_p 3090\n",
      "count_active_tokens_p 3169\n",
      "precision: 0.9750710003155569\n",
      "count_active_tokens_r 3146\n",
      "count_correct_r 3090\n",
      "recall: 0.9821996185632549\n",
      "F1: 0.9786223277909738\n",
      "count_correct_p 498\n",
      "count_active_tokens_p 577\n",
      "precision: 0.8630849220103987\n",
      "count_active_tokens_r 554\n",
      "count_correct_r 498\n",
      "recall: 0.8989169675090253\n",
      "F1: 0.8806366047745359\n",
      "POS Accuracy:0.9922577305031298\n",
      "NER Accuracy:0.9865157433990681\n",
      "count_correct_p 14343\n",
      "count_active_tokens_p 15233\n",
      "precision: 0.9415742138777654\n",
      "count_active_tokens_r 15103\n",
      "count_correct_r 14343\n",
      "recall: 0.949678871747335\n",
      "F1: 0.9456091772151899\n"
     ]
    },
    {
     "name": "stderr",
     "output_type": "stream",
     "text": [
      "100%|██████████████████████████████████████████████████████████████████████████████████████████████████████████████████████████████████████████████| 3638/3638 [20:26<00:00,  2.97it/s]\n"
     ]
    },
    {
     "name": "stdout",
     "output_type": "stream",
     "text": [
      "count_correct_p 33613\n",
      "count_active_tokens_p 33631\n",
      "precision: 0.9994647795188962\n",
      "count_active_tokens_r 33627\n",
      "count_correct_r 33613\n",
      "recall: 0.999583667885925\n",
      "F1: 0.9995242201671176\n",
      "POS Accuracy:0.9998073364194456\n",
      "NER Accuracy:0.9997640854115661\n",
      "count_correct_p 128718\n",
      "count_active_tokens_p 128831\n",
      "precision: 0.999122881915067\n",
      "count_active_tokens_r 128847\n",
      "count_correct_r 128718\n",
      "recall: 0.9989988125451117\n",
      "F1: 0.9990608433781697\n"
     ]
    },
    {
     "name": "stderr",
     "output_type": "stream",
     "text": [
      "100%|████████████████████████████████████████████████████████████████████████████████████████████████████████████████████████████████████████████████| 432/432 [00:28<00:00, 15.04it/s]\n"
     ]
    },
    {
     "name": "stdout",
     "output_type": "stream",
     "text": [
      "count_correct_p 3089\n",
      "count_active_tokens_p 3164\n",
      "precision: 0.9762958280657396\n",
      "count_active_tokens_r 3146\n",
      "count_correct_r 3089\n",
      "recall: 0.9818817546090274\n",
      "F1: 0.979080824088748\n",
      "count_correct_p 498\n",
      "count_active_tokens_p 573\n",
      "precision: 0.8691099476439791\n",
      "count_active_tokens_r 554\n",
      "count_correct_r 498\n",
      "recall: 0.8989169675090253\n",
      "F1: 0.8837622005323869\n",
      "POS Accuracy:0.9924695251094272\n",
      "NER Accuracy:0.9864922106650351\n",
      "count_correct_p 14341\n",
      "count_active_tokens_p 15228\n",
      "precision: 0.941752035723667\n",
      "count_active_tokens_r 15103\n",
      "count_correct_r 14341\n",
      "recall: 0.9495464477256175\n",
      "F1: 0.9456331805743299\n"
     ]
    },
    {
     "name": "stderr",
     "output_type": "stream",
     "text": [
      "100%|██████████████████████████████████████████████████████████████████████████████████████████████████████████████████████████████████████████████| 3638/3638 [20:14<00:00,  2.99it/s]\n"
     ]
    },
    {
     "name": "stdout",
     "output_type": "stream",
     "text": [
      "count_correct_p 33620\n",
      "count_active_tokens_p 33629\n",
      "precision: 0.9997323738440037\n",
      "count_active_tokens_r 33627\n",
      "count_correct_r 33620\n",
      "recall: 0.9997918339429624\n",
      "F1: 0.9997621030093969\n",
      "POS Accuracy:0.9998558299737348\n",
      "NER Accuracy:0.9997680173213733\n",
      "count_correct_p 128729\n",
      "count_active_tokens_p 128854\n",
      "precision: 0.999029909820417\n",
      "count_active_tokens_r 128847\n",
      "count_correct_r 128729\n",
      "recall: 0.9990841851187843\n",
      "F1: 0.9990570467324535\n"
     ]
    },
    {
     "name": "stderr",
     "output_type": "stream",
     "text": [
      "100%|████████████████████████████████████████████████████████████████████████████████████████████████████████████████████████████████████████████████| 432/432 [00:28<00:00, 14.99it/s]\n"
     ]
    },
    {
     "name": "stdout",
     "output_type": "stream",
     "text": [
      "count_correct_p 3075\n",
      "count_active_tokens_p 3147\n",
      "precision: 0.9771210676835081\n",
      "count_active_tokens_r 3146\n",
      "count_correct_r 3075\n",
      "recall: 0.9774316592498411\n",
      "F1: 0.9772763387891309\n",
      "count_correct_p 484\n",
      "count_active_tokens_p 556\n",
      "precision: 0.8705035971223022\n",
      "count_active_tokens_r 554\n",
      "count_correct_r 484\n",
      "recall: 0.8736462093862816\n",
      "F1: 0.8720720720720722\n",
      "POS Accuracy:0.9921283004659481\n",
      "NER Accuracy:0.9866687061702829\n",
      "count_correct_p 14333\n",
      "count_active_tokens_p 15173\n",
      "precision: 0.9446385026033085\n",
      "count_active_tokens_r 15103\n",
      "count_correct_r 14333\n",
      "recall: 0.9490167516387472\n",
      "F1: 0.9468225657286299\n"
     ]
    },
    {
     "name": "stderr",
     "output_type": "stream",
     "text": [
      "100%|██████████████████████████████████████████████████████████████████████████████████████████████████████████████████████████████████████████████| 3638/3638 [20:25<00:00,  2.97it/s]\n"
     ]
    },
    {
     "name": "stdout",
     "output_type": "stream",
     "text": [
      "count_correct_p 33615\n",
      "count_active_tokens_p 33628\n",
      "precision: 0.99961341739027\n",
      "count_active_tokens_r 33627\n",
      "count_correct_r 33615\n",
      "recall: 0.9996431439022214\n",
      "F1: 0.9996282804252471\n",
      "POS Accuracy:0.9998479661541204\n",
      "NER Accuracy:0.9997745705043853\n",
      "count_correct_p 128718\n",
      "count_active_tokens_p 128841\n",
      "precision: 0.9990453349477263\n",
      "count_active_tokens_r 128847\n",
      "count_correct_r 128718\n",
      "recall: 0.9989988125451117\n",
      "F1: 0.9990220732048058\n"
     ]
    },
    {
     "name": "stderr",
     "output_type": "stream",
     "text": [
      "100%|████████████████████████████████████████████████████████████████████████████████████████████████████████████████████████████████████████████████| 432/432 [00:29<00:00, 14.84it/s]\n"
     ]
    },
    {
     "name": "stdout",
     "output_type": "stream",
     "text": [
      "count_correct_p 3096\n",
      "count_active_tokens_p 3176\n",
      "precision: 0.9748110831234257\n",
      "count_active_tokens_r 3146\n",
      "count_correct_r 3096\n",
      "recall: 0.9841068022886205\n",
      "F1: 0.9794368870610566\n",
      "count_correct_p 504\n",
      "count_active_tokens_p 584\n",
      "precision: 0.863013698630137\n",
      "count_active_tokens_r 554\n",
      "count_correct_r 504\n",
      "recall: 0.9097472924187726\n",
      "F1: 0.8857644991212655\n",
      "POS Accuracy:0.9924812914764437\n",
      "NER Accuracy:0.9867981362074646\n",
      "count_correct_p 14375\n",
      "count_active_tokens_p 15263\n",
      "precision: 0.9418200877940116\n",
      "count_active_tokens_r 15103\n",
      "count_correct_r 14375\n",
      "recall: 0.9517976560948156\n",
      "F1: 0.9467825857867351\n"
     ]
    },
    {
     "name": "stderr",
     "output_type": "stream",
     "text": [
      "100%|██████████████████████████████████████████████████████████████████████████████████████████████████████████████████████████████████████████████| 3638/3638 [20:04<00:00,  3.02it/s]\n"
     ]
    },
    {
     "name": "stdout",
     "output_type": "stream",
     "text": [
      "count_correct_p 33607\n",
      "count_active_tokens_p 33626\n",
      "precision: 0.9994349610420508\n",
      "count_active_tokens_r 33627\n",
      "count_correct_r 33607\n",
      "recall: 0.9994052398370357\n",
      "F1: 0.9994201002185775\n",
      "POS Accuracy:0.9998663150665541\n",
      "NER Accuracy:0.9997522896821444\n",
      "count_correct_p 128718\n",
      "count_active_tokens_p 128852\n",
      "precision: 0.9989600471859187\n",
      "count_active_tokens_r 128847\n",
      "count_correct_r 128718\n",
      "recall: 0.9989988125451117\n",
      "F1: 0.9989794294894431\n"
     ]
    },
    {
     "name": "stderr",
     "output_type": "stream",
     "text": [
      "100%|████████████████████████████████████████████████████████████████████████████████████████████████████████████████████████████████████████████████| 432/432 [00:28<00:00, 15.38it/s]\n"
     ]
    },
    {
     "name": "stdout",
     "output_type": "stream",
     "text": [
      "count_correct_p 3095\n",
      "count_active_tokens_p 3171\n",
      "precision: 0.9760327972248503\n",
      "count_active_tokens_r 3146\n",
      "count_correct_r 3095\n",
      "recall: 0.9837889383343928\n",
      "F1: 0.9798955200253285\n",
      "count_correct_p 503\n",
      "count_active_tokens_p 579\n",
      "precision: 0.8687392055267703\n",
      "count_active_tokens_r 554\n",
      "count_correct_r 503\n",
      "recall: 0.907942238267148\n",
      "F1: 0.8879082082965578\n",
      "POS Accuracy:0.9927519179178237\n",
      "NER Accuracy:0.9865628088671342\n",
      "count_correct_p 14338\n",
      "count_active_tokens_p 15211\n",
      "precision: 0.9426073236473604\n",
      "count_active_tokens_r 15103\n",
      "count_correct_r 14338\n",
      "recall: 0.9493478116930412\n",
      "F1: 0.9459655604671109\n"
     ]
    },
    {
     "name": "stderr",
     "output_type": "stream",
     "text": [
      "100%|██████████████████████████████████████████████████████████████████████████████████████████████████████████████████████████████████████████████| 3638/3638 [20:37<00:00,  2.94it/s]\n"
     ]
    },
    {
     "name": "stdout",
     "output_type": "stream",
     "text": [
      "count_correct_p 33612\n",
      "count_active_tokens_p 33628\n",
      "precision: 0.9995242060187939\n",
      "count_active_tokens_r 33627\n",
      "count_correct_r 33612\n",
      "recall: 0.9995539298777768\n",
      "F1: 0.9995390677273065\n",
      "POS Accuracy:0.9998741788861686\n",
      "NER Accuracy:0.9997902981436143\n",
      "count_correct_p 128738\n",
      "count_active_tokens_p 128853\n",
      "precision: 0.9991075101084181\n",
      "count_active_tokens_r 128847\n",
      "count_correct_r 128738\n",
      "recall: 0.9991540354063346\n",
      "F1: 0.9991307722157547\n"
     ]
    },
    {
     "name": "stderr",
     "output_type": "stream",
     "text": [
      "100%|████████████████████████████████████████████████████████████████████████████████████████████████████████████████████████████████████████████████| 432/432 [00:28<00:00, 15.26it/s]\n"
     ]
    },
    {
     "name": "stdout",
     "output_type": "stream",
     "text": [
      "count_correct_p 3096\n",
      "count_active_tokens_p 3170\n",
      "precision: 0.9766561514195583\n",
      "count_active_tokens_r 3146\n",
      "count_correct_r 3096\n",
      "recall: 0.9841068022886205\n",
      "F1: 0.980367321089297\n",
      "count_correct_p 504\n",
      "count_active_tokens_p 578\n",
      "precision: 0.8719723183391004\n",
      "count_active_tokens_r 554\n",
      "count_correct_r 504\n",
      "recall: 0.9097472924187726\n",
      "F1: 0.8904593639575972\n",
      "POS Accuracy:0.9928578152209724\n",
      "NER Accuracy:0.986762837106415\n",
      "count_correct_p 14374\n",
      "count_active_tokens_p 15244\n",
      "precision: 0.9429283652584624\n",
      "count_active_tokens_r 15103\n",
      "count_correct_r 14374\n",
      "recall: 0.9517314440839568\n",
      "F1: 0.9473094539822717\n"
     ]
    },
    {
     "name": "stderr",
     "output_type": "stream",
     "text": [
      "100%|██████████████████████████████████████████████████████████████████████████████████████████████████████████████████████████████████████████████| 3638/3638 [19:54<00:00,  3.05it/s]\n"
     ]
    },
    {
     "name": "stdout",
     "output_type": "stream",
     "text": [
      "count_correct_p 33613\n",
      "count_active_tokens_p 33630\n",
      "precision: 0.9994944989592626\n",
      "count_active_tokens_r 33627\n",
      "count_correct_r 33613\n",
      "recall: 0.999583667885925\n",
      "F1: 0.9995390814339028\n",
      "POS Accuracy:0.9998833533423854\n",
      "NER Accuracy:0.9997588428651565\n",
      "count_correct_p 128717\n",
      "count_active_tokens_p 128853\n",
      "precision: 0.9989445336934336\n",
      "count_active_tokens_r 128847\n",
      "count_correct_r 128717\n",
      "recall: 0.9989910514020505\n",
      "F1: 0.9989677920062088\n"
     ]
    },
    {
     "name": "stderr",
     "output_type": "stream",
     "text": [
      "100%|████████████████████████████████████████████████████████████████████████████████████████████████████████████████████████████████████████████████| 432/432 [00:28<00:00, 15.03it/s]\n"
     ]
    },
    {
     "name": "stdout",
     "output_type": "stream",
     "text": [
      "count_correct_p 3107\n",
      "count_active_tokens_p 3196\n",
      "precision: 0.9721526908635795\n",
      "count_active_tokens_r 3146\n",
      "count_correct_r 3107\n",
      "recall: 0.987603305785124\n",
      "F1: 0.9798170923998738\n",
      "count_correct_p 515\n",
      "count_active_tokens_p 604\n",
      "precision: 0.8526490066225165\n",
      "count_active_tokens_r 554\n",
      "count_correct_r 515\n",
      "recall: 0.9296028880866426\n",
      "F1: 0.8894645941278065\n",
      "POS Accuracy:0.9924342260083776\n",
      "NER Accuracy:0.9868099025744811\n",
      "count_correct_p 14385\n",
      "count_active_tokens_p 15271\n",
      "precision: 0.9419815336258267\n",
      "count_active_tokens_r 15103\n",
      "count_correct_r 14385\n",
      "recall: 0.9524597762034033\n",
      "F1: 0.94719167709225\n"
     ]
    },
    {
     "name": "stderr",
     "output_type": "stream",
     "text": [
      "100%|██████████████████████████████████████████████████████████████████████████████████████████████████████████████████████████████████████████████| 3638/3638 [20:07<00:00,  3.01it/s]\n"
     ]
    },
    {
     "name": "stdout",
     "output_type": "stream",
     "text": [
      "count_correct_p 33614\n",
      "count_active_tokens_p 33630\n",
      "precision: 0.9995242343146\n",
      "count_active_tokens_r 33627\n",
      "count_correct_r 33614\n",
      "recall: 0.9996134058940732\n",
      "F1: 0.9995688181155864\n",
      "POS Accuracy:0.9998741788861686\n",
      "NER Accuracy:0.9997601535017588\n",
      "count_correct_p 128710\n",
      "count_active_tokens_p 128839\n",
      "precision: 0.9989987503783793\n",
      "count_active_tokens_r 128847\n",
      "count_correct_r 128710\n",
      "recall: 0.9989367234006225\n",
      "F1: 0.9989677359266704\n"
     ]
    },
    {
     "name": "stderr",
     "output_type": "stream",
     "text": [
      "100%|████████████████████████████████████████████████████████████████████████████████████████████████████████████████████████████████████████████████| 432/432 [00:26<00:00, 16.37it/s]\n"
     ]
    },
    {
     "name": "stdout",
     "output_type": "stream",
     "text": [
      "count_correct_p 3095\n",
      "count_active_tokens_p 3170\n",
      "precision: 0.9763406940063092\n",
      "count_active_tokens_r 3146\n",
      "count_correct_r 3095\n",
      "recall: 0.9837889383343928\n",
      "F1: 0.9800506649778341\n",
      "count_correct_p 504\n",
      "count_active_tokens_p 579\n",
      "precision: 0.8704663212435233\n",
      "count_active_tokens_r 554\n",
      "count_correct_r 504\n",
      "recall: 0.9097472924187726\n",
      "F1: 0.8896734333627538\n",
      "POS Accuracy:0.9921988986680472\n",
      "NER Accuracy:0.9867040052713324\n",
      "count_correct_p 14367\n",
      "count_active_tokens_p 15249\n",
      "precision: 0.9421601416486327\n",
      "count_active_tokens_r 15103\n",
      "count_correct_r 14367\n",
      "recall: 0.9512679600079454\n",
      "F1: 0.9466921454928835\n"
     ]
    },
    {
     "name": "stderr",
     "output_type": "stream",
     "text": [
      "100%|██████████████████████████████████████████████████████████████████████████████████████████████████████████████████████████████████████████████| 3638/3638 [20:10<00:00,  3.01it/s]\n"
     ]
    },
    {
     "name": "stdout",
     "output_type": "stream",
     "text": [
      "count_correct_p 33615\n",
      "count_active_tokens_p 33626\n",
      "precision: 0.9996728721822399\n",
      "count_active_tokens_r 33627\n",
      "count_correct_r 33615\n",
      "recall: 0.9996431439022214\n",
      "F1: 0.9996580078212125\n",
      "POS Accuracy:0.9998820427057831\n",
      "NER Accuracy:0.9997837449606023\n",
      "count_correct_p 128724\n",
      "count_active_tokens_p 128835\n",
      "precision: 0.9991384328792642\n",
      "count_active_tokens_r 128847\n",
      "count_correct_r 128724\n",
      "recall: 0.9990453794034786\n",
      "F1: 0.9990919039746664\n"
     ]
    },
    {
     "name": "stderr",
     "output_type": "stream",
     "text": [
      "100%|████████████████████████████████████████████████████████████████████████████████████████████████████████████████████████████████████████████████| 432/432 [00:26<00:00, 16.35it/s]\n"
     ]
    },
    {
     "name": "stdout",
     "output_type": "stream",
     "text": [
      "count_correct_p 3093\n",
      "count_active_tokens_p 3173\n",
      "precision: 0.9747872675701229\n",
      "count_active_tokens_r 3146\n",
      "count_correct_r 3093\n",
      "recall: 0.9831532104259377\n",
      "F1: 0.9789523658806772\n",
      "count_correct_p 502\n",
      "count_active_tokens_p 582\n",
      "precision: 0.8625429553264605\n",
      "count_active_tokens_r 554\n",
      "count_correct_r 502\n",
      "recall: 0.9061371841155235\n",
      "F1: 0.8838028169014085\n",
      "POS Accuracy:0.9925401233115263\n",
      "NER Accuracy:0.9865392761331011\n",
      "count_correct_p 14337\n",
      "count_active_tokens_p 15231\n",
      "precision: 0.9413039196375812\n",
      "count_active_tokens_r 15103\n",
      "count_correct_r 14337\n",
      "recall: 0.9492815996821824\n",
      "F1: 0.9452759280015823\n"
     ]
    },
    {
     "name": "stderr",
     "output_type": "stream",
     "text": [
      "100%|██████████████████████████████████████████████████████████████████████████████████████████████████████████████████████████████████████████████| 3638/3638 [20:14<00:00,  2.99it/s]\n"
     ]
    },
    {
     "name": "stdout",
     "output_type": "stream",
     "text": [
      "count_correct_p 33617\n",
      "count_active_tokens_p 33623\n",
      "precision: 0.9998215507242066\n",
      "count_active_tokens_r 33627\n",
      "count_correct_r 33617\n",
      "recall: 0.9997026199185178\n",
      "F1: 0.9997620817843865\n",
      "POS Accuracy:0.9998938384352047\n",
      "NER Accuracy:0.9997902981436143\n",
      "count_correct_p 128746\n",
      "count_active_tokens_p 128860\n",
      "precision: 0.9991153189507993\n",
      "count_active_tokens_r 128847\n",
      "count_correct_r 128746\n",
      "recall: 0.9992161245508239\n",
      "F1: 0.9991657192082481\n"
     ]
    },
    {
     "name": "stderr",
     "output_type": "stream",
     "text": [
      "100%|████████████████████████████████████████████████████████████████████████████████████████████████████████████████████████████████████████████████| 432/432 [00:28<00:00, 15.12it/s]\n"
     ]
    },
    {
     "name": "stdout",
     "output_type": "stream",
     "text": [
      "count_correct_p 3110\n",
      "count_active_tokens_p 3194\n",
      "precision: 0.9737006887914841\n",
      "count_active_tokens_r 3146\n",
      "count_correct_r 3110\n",
      "recall: 0.9885568976478067\n",
      "F1: 0.9810725552050473\n",
      "count_correct_p 518\n",
      "count_active_tokens_p 602\n",
      "precision: 0.8604651162790697\n",
      "count_active_tokens_r 554\n",
      "count_correct_r 518\n",
      "recall: 0.9350180505415162\n",
      "F1: 0.8961937716262975\n",
      "POS Accuracy:0.9928578152209724\n",
      "NER Accuracy:0.9867157716383489\n",
      "count_correct_p 14333\n",
      "count_active_tokens_p 15194\n",
      "precision: 0.9433328945636436\n",
      "count_active_tokens_r 15103\n",
      "count_correct_r 14333\n",
      "recall: 0.9490167516387472\n",
      "F1: 0.946166287091131\n"
     ]
    },
    {
     "name": "stderr",
     "output_type": "stream",
     "text": [
      "100%|██████████████████████████████████████████████████████████████████████████████████████████████████████████████████████████████████████████████| 3638/3638 [20:11<00:00,  3.00it/s]\n"
     ]
    },
    {
     "name": "stdout",
     "output_type": "stream",
     "text": [
      "count_correct_p 33614\n",
      "count_active_tokens_p 33629\n",
      "precision: 0.9995539564066728\n",
      "count_active_tokens_r 33627\n",
      "count_correct_r 33614\n",
      "recall: 0.9996134058940732\n",
      "F1: 0.9995836802664446\n",
      "POS Accuracy:0.9998636937933493\n",
      "NER Accuracy:0.9997627747749637\n",
      "count_correct_p 128718\n",
      "count_active_tokens_p 128842\n",
      "precision: 0.9990375809130563\n",
      "count_active_tokens_r 128847\n",
      "count_correct_r 128718\n",
      "recall: 0.9989988125451117\n",
      "F1: 0.9990181963529681\n"
     ]
    },
    {
     "name": "stderr",
     "output_type": "stream",
     "text": [
      "100%|████████████████████████████████████████████████████████████████████████████████████████████████████████████████████████████████████████████████| 432/432 [00:26<00:00, 16.41it/s]\n"
     ]
    },
    {
     "name": "stdout",
     "output_type": "stream",
     "text": [
      "count_correct_p 3095\n",
      "count_active_tokens_p 3168\n",
      "precision: 0.9769570707070707\n",
      "count_active_tokens_r 3146\n",
      "count_correct_r 3095\n",
      "recall: 0.9837889383343928\n",
      "F1: 0.9803611023123219\n",
      "count_correct_p 503\n",
      "count_active_tokens_p 576\n",
      "precision: 0.8732638888888888\n",
      "count_active_tokens_r 554\n",
      "count_correct_r 503\n",
      "recall: 0.907942238267148\n",
      "F1: 0.8902654867256637\n",
      "POS Accuracy:0.9927636842848402\n",
      "NER Accuracy:0.9864569115639855\n",
      "count_correct_p 14347\n",
      "count_active_tokens_p 15247\n",
      "precision: 0.9409719944907194\n",
      "count_active_tokens_r 15103\n",
      "count_correct_r 14347\n",
      "recall: 0.9499437197907701\n",
      "F1: 0.9454365733113673\n"
     ]
    },
    {
     "name": "stderr",
     "output_type": "stream",
     "text": [
      "100%|██████████████████████████████████████████████████████████████████████████████████████████████████████████████████████████████████████████████| 3638/3638 [20:06<00:00,  3.01it/s]\n"
     ]
    },
    {
     "name": "stdout",
     "output_type": "stream",
     "text": [
      "count_correct_p 33612\n",
      "count_active_tokens_p 33630\n",
      "precision: 0.9994647636039251\n",
      "count_active_tokens_r 33627\n",
      "count_correct_r 33612\n",
      "recall: 0.9995539298777768\n",
      "F1: 0.9995093447522192\n",
      "POS Accuracy:0.9998689363397589\n",
      "NER Accuracy:0.9997929194168191\n",
      "count_correct_p 128739\n",
      "count_active_tokens_p 128852\n",
      "precision: 0.9991230248657375\n",
      "count_active_tokens_r 128847\n",
      "count_correct_r 128739\n",
      "recall: 0.9991617965493957\n",
      "F1: 0.9991424103314333\n"
     ]
    },
    {
     "name": "stderr",
     "output_type": "stream",
     "text": [
      "100%|████████████████████████████████████████████████████████████████████████████████████████████████████████████████████████████████████████████████| 432/432 [00:27<00:00, 15.58it/s]\n"
     ]
    },
    {
     "name": "stdout",
     "output_type": "stream",
     "text": [
      "count_correct_p 3098\n",
      "count_active_tokens_p 3183\n",
      "precision: 0.9732956330505812\n",
      "count_active_tokens_r 3146\n",
      "count_correct_r 3098\n",
      "recall: 0.9847425301970757\n",
      "F1: 0.9789856217411913\n",
      "count_correct_p 506\n",
      "count_active_tokens_p 591\n",
      "precision: 0.856175972927242\n",
      "count_active_tokens_r 554\n",
      "count_correct_r 506\n",
      "recall: 0.9133574007220217\n",
      "F1: 0.8838427947598254\n",
      "POS Accuracy:0.9920930013648985\n",
      "NER Accuracy:0.9869275662446463\n",
      "count_correct_p 14339\n",
      "count_active_tokens_p 15179\n",
      "precision: 0.9446603860596877\n",
      "count_active_tokens_r 15103\n",
      "count_correct_r 14339\n",
      "recall: 0.9494140237038999\n",
      "F1: 0.9470312396803381\n"
     ]
    },
    {
     "data": {
      "text/plain": [
       "'\\nfor idx in range(20):\\n    train_loop_fn(train_loader, model, optimizer, a=0,b=0,c=1)\\n    dev_loop_fn(test_loader, model, optimizer)\\nprint(\"Finished NER training\")\\n    \\nfor idx in range(20):\\n    train_loop_fn(train_loader, model, optimizer, a=0,b=1,c=0)\\n    dev_loop_fn(test_loader, model, optimizer)\\nprint(\"Finished POS training\")\\n    \\nfor idx in range(20):\\n    train_loop_fn(train_loader, model, optimizer, a=1,b=0,c=0)\\n    dev_loop_fn(test_loader, model, optimizer)\\nprint(\"Finished SBD training\")\\n'"
      ]
     },
     "execution_count": 14,
     "metadata": {},
     "output_type": "execute_result"
    }
   ],
   "source": [
    "for idx in range(100):\n",
    "    train_loop_fn(train_loader, model, optimizer, s_r=1, p_r=1, n_r=1)\n",
    "    dev_loop_fn(test_loader, model, optimizer)\n",
    "\n",
    "'''\n",
    "for idx in range(20):\n",
    "    train_loop_fn(train_loader, model, optimizer, a=0,b=0,c=1)\n",
    "    dev_loop_fn(test_loader, model, optimizer)\n",
    "print(\"Finished NER training\")\n",
    "    \n",
    "for idx in range(20):\n",
    "    train_loop_fn(train_loader, model, optimizer, a=0,b=1,c=0)\n",
    "    dev_loop_fn(test_loader, model, optimizer)\n",
    "print(\"Finished POS training\")\n",
    "    \n",
    "for idx in range(20):\n",
    "    train_loop_fn(train_loader, model, optimizer, a=1,b=0,c=0)\n",
    "    dev_loop_fn(test_loader, model, optimizer)\n",
    "print(\"Finished SBD training\")\n",
    "'''"
   ]
  },
  {
   "cell_type": "markdown",
   "metadata": {},
   "source": [
    "# Start fine-tuning and test on Europal data\n",
    " - spliting Europal data as the train and test split with 80:20 ratio\n",
    " - From now this on the model is trained on top of the pretrained model"
   ]
  },
  {
   "cell_type": "code",
   "execution_count": 15,
   "metadata": {},
   "outputs": [],
   "source": [
    "train_file = './data/train.tsv'\n",
    "test_file = './data/test.tsv'\n",
    "test_file = './data_v1/europarl-sbd-eval.tsv'\n",
    "train_EOS_file = './data/train_EOS.tsv'\n",
    "test_EOS_file = './data/test_EOS.tsv'\n",
    "test_EOS_file = './data_v1/europarl-sbd-eval_EOS.tsv'\n",
    "\n",
    "set_newline_to_EOS(train_file, train_EOS_file, eos=\"\\n\")\n",
    "set_newline_to_EOS(test_file, test_EOS_file, eos=\"\\n\")\n",
    "set_newline_to_EOS(test_file, test_EOS_file, eos=\"\\t\\n\")\n",
    "train_file = train_EOS_file\n",
    "test_file = test_EOS_file"
   ]
  },
  {
   "cell_type": "code",
   "execution_count": 16,
   "metadata": {},
   "outputs": [
    {
     "data": {
      "text/html": [
       "<div>\n",
       "<style scoped>\n",
       "    .dataframe tbody tr th:only-of-type {\n",
       "        vertical-align: middle;\n",
       "    }\n",
       "\n",
       "    .dataframe tbody tr th {\n",
       "        vertical-align: top;\n",
       "    }\n",
       "\n",
       "    .dataframe thead th {\n",
       "        text-align: right;\n",
       "    }\n",
       "</style>\n",
       "<table border=\"1\" class=\"dataframe\">\n",
       "  <thead>\n",
       "    <tr style=\"text-align: right;\">\n",
       "      <th></th>\n",
       "      <th>0</th>\n",
       "      <th>1</th>\n",
       "      <th>2</th>\n",
       "      <th>3</th>\n",
       "    </tr>\n",
       "  </thead>\n",
       "  <tbody>\n",
       "    <tr>\n",
       "      <th>0</th>\n",
       "      <td>Les</td>\n",
       "      <td>DET:ART</td>\n",
       "      <td>I-LOC</td>\n",
       "      <td>B-SENT</td>\n",
       "    </tr>\n",
       "    <tr>\n",
       "      <th>1</th>\n",
       "      <td>Sables-d'Olonne</td>\n",
       "      <td>NAM</td>\n",
       "      <td>I-LOC</td>\n",
       "      <td>O</td>\n",
       "    </tr>\n",
       "    <tr>\n",
       "      <th>2</th>\n",
       "      <td>La</td>\n",
       "      <td>DET:ART</td>\n",
       "      <td>I-LOC</td>\n",
       "      <td>O</td>\n",
       "    </tr>\n",
       "    <tr>\n",
       "      <th>3</th>\n",
       "      <td>Chaume</td>\n",
       "      <td>NAM</td>\n",
       "      <td>I-LOC</td>\n",
       "      <td>O</td>\n",
       "    </tr>\n",
       "    <tr>\n",
       "      <th>4</th>\n",
       "      <td>Philippe</td>\n",
       "      <td>NAM</td>\n",
       "      <td>I-PER</td>\n",
       "      <td>B-SENT</td>\n",
       "    </tr>\n",
       "  </tbody>\n",
       "</table>\n",
       "</div>"
      ],
      "text/plain": [
       "                 0        1      2       3\n",
       "0              Les  DET:ART  I-LOC  B-SENT\n",
       "1  Sables-d'Olonne      NAM  I-LOC       O\n",
       "2               La  DET:ART  I-LOC       O\n",
       "3           Chaume      NAM  I-LOC       O\n",
       "4         Philippe      NAM  I-PER  B-SENT"
      ]
     },
     "execution_count": 16,
     "metadata": {},
     "output_type": "execute_result"
    }
   ],
   "source": [
    "train_df = pd.read_csv(train_file, delimiter='\\t', engine='python', encoding='UTF-8', error_bad_lines=False, header=None, quoting=csv.QUOTE_NONE)\n",
    "train_df.head()"
   ]
  },
  {
   "cell_type": "code",
   "execution_count": 17,
   "metadata": {},
   "outputs": [
    {
     "data": {
      "text/html": [
       "<div>\n",
       "<style scoped>\n",
       "    .dataframe tbody tr th:only-of-type {\n",
       "        vertical-align: middle;\n",
       "    }\n",
       "\n",
       "    .dataframe tbody tr th {\n",
       "        vertical-align: top;\n",
       "    }\n",
       "\n",
       "    .dataframe thead th {\n",
       "        text-align: right;\n",
       "    }\n",
       "</style>\n",
       "<table border=\"1\" class=\"dataframe\">\n",
       "  <thead>\n",
       "    <tr style=\"text-align: right;\">\n",
       "      <th></th>\n",
       "      <th>0</th>\n",
       "      <th>1</th>\n",
       "      <th>2</th>\n",
       "      <th>3</th>\n",
       "    </tr>\n",
       "  </thead>\n",
       "  <tbody>\n",
       "    <tr>\n",
       "      <th>0</th>\n",
       "      <td>Reprise</td>\n",
       "      <td>NOM</td>\n",
       "      <td>O</td>\n",
       "      <td>B-SENT</td>\n",
       "    </tr>\n",
       "    <tr>\n",
       "      <th>1</th>\n",
       "      <td>de</td>\n",
       "      <td>PRP</td>\n",
       "      <td>O</td>\n",
       "      <td>O</td>\n",
       "    </tr>\n",
       "    <tr>\n",
       "      <th>2</th>\n",
       "      <td>la</td>\n",
       "      <td>DET:ART</td>\n",
       "      <td>O</td>\n",
       "      <td>O</td>\n",
       "    </tr>\n",
       "    <tr>\n",
       "      <th>3</th>\n",
       "      <td>session</td>\n",
       "      <td>NOM</td>\n",
       "      <td>O</td>\n",
       "      <td>O</td>\n",
       "    </tr>\n",
       "    <tr>\n",
       "      <th>4</th>\n",
       "      <td>Je</td>\n",
       "      <td>PRO:PER</td>\n",
       "      <td>O</td>\n",
       "      <td>B-SENT</td>\n",
       "    </tr>\n",
       "  </tbody>\n",
       "</table>\n",
       "</div>"
      ],
      "text/plain": [
       "         0        1  2       3\n",
       "0  Reprise      NOM  O  B-SENT\n",
       "1       de      PRP  O       O\n",
       "2       la  DET:ART  O       O\n",
       "3  session      NOM  O       O\n",
       "4       Je  PRO:PER  O  B-SENT"
      ]
     },
     "execution_count": 17,
     "metadata": {},
     "output_type": "execute_result"
    }
   ],
   "source": [
    "test_df = pd.read_csv(test_file, delimiter='\\t', engine='python', encoding='UTF-8', error_bad_lines=False, header=None, quoting=csv.QUOTE_NONE)\n",
    "test_df.head()"
   ]
  },
  {
   "cell_type": "code",
   "execution_count": 18,
   "metadata": {},
   "outputs": [
    {
     "name": "stderr",
     "output_type": "stream",
     "text": [
      "/opt/anaconda3/lib/python3.7/site-packages/ipykernel_launcher.py:17: SettingWithCopyWarning: \n",
      "A value is trying to be set on a copy of a slice from a DataFrame\n",
      "\n",
      "See the caveats in the documentation: https://pandas.pydata.org/pandas-docs/stable/user_guide/indexing.html#returning-a-view-versus-a-copy\n"
     ]
    },
    {
     "name": "stdout",
     "output_type": "stream",
     "text": [
      "29100\n",
      "49709\n"
     ]
    }
   ],
   "source": [
    "train_df = set_sentence_num(train_df)\n",
    "test_df = set_sentence_num(test_df)"
   ]
  },
  {
   "cell_type": "code",
   "execution_count": 19,
   "metadata": {},
   "outputs": [],
   "source": [
    "train_df = test_df[test_df['sent_num'] >= 9942]\n",
    "test_df = test_df[test_df['sent_num'] <= 9941]"
   ]
  },
  {
   "cell_type": "code",
   "execution_count": 20,
   "metadata": {},
   "outputs": [],
   "source": [
    "train_dataset = FSBDataset(train_df, tokenizer, MAX_LEN)\n",
    "train_loader = torch.utils.data.DataLoader(train_dataset, shuffle=True, num_workers=4, batch_size=8)\n",
    "test_dataset = FSBDataset(test_df, tokenizer, MAX_LEN)\n",
    "test_loader = torch.utils.data.DataLoader(test_dataset, shuffle=False, num_workers=4, batch_size=6)"
   ]
  },
  {
   "cell_type": "code",
   "execution_count": 21,
   "metadata": {},
   "outputs": [
    {
     "name": "stderr",
     "output_type": "stream",
     "text": [
      "100%|██████████████████████████████████████████████████████████████████████████████████████████████████████████████████████████████████████████████| 6214/6214 [20:30<00:00,  5.05it/s]\n"
     ]
    },
    {
     "name": "stdout",
     "output_type": "stream",
     "text": [
      "count_correct_p 39884\n",
      "count_active_tokens_p 39918\n",
      "precision: 0.9991482539205371\n",
      "count_active_tokens_r 40103\n",
      "count_correct_r 39884\n",
      "recall: 0.9945390619155674\n",
      "F1: 0.9968383299383913\n",
      "POS Accuracy:0.9831000033355256\n",
      "NER Accuracy:0.9949368431045704\n",
      "count_correct_p 14138\n",
      "count_active_tokens_p 16944\n",
      "precision: 0.834395656279509\n",
      "count_active_tokens_r 18220\n",
      "count_correct_r 14138\n",
      "recall: 0.77596048298573\n",
      "F1: 0.8041178477988853\n"
     ]
    },
    {
     "name": "stderr",
     "output_type": "stream",
     "text": [
      "100%|██████████████████████████████████████████████████████████████████████████████████████████████████████████████████████████████████████████████| 1657/1657 [01:30<00:00, 18.26it/s]\n"
     ]
    },
    {
     "name": "stdout",
     "output_type": "stream",
     "text": [
      "count_correct_p 9988\n",
      "count_active_tokens_p 9989\n",
      "precision: 0.9998998898788668\n",
      "count_active_tokens_r 10025\n",
      "count_correct_r 9988\n",
      "recall: 0.9963092269326683\n",
      "F1: 0.9981013290696513\n",
      "count_correct_p 47\n",
      "count_active_tokens_p 48\n",
      "precision: 0.9791666666666666\n",
      "count_active_tokens_r 84\n",
      "count_correct_r 47\n",
      "recall: 0.5595238095238095\n",
      "F1: 0.712121212121212\n",
      "POS Accuracy:0.988266811937993\n",
      "NER Accuracy:0.9958487339328074\n",
      "count_correct_p 3491\n",
      "count_active_tokens_p 4169\n",
      "precision: 0.8373710721995682\n",
      "count_active_tokens_r 4268\n",
      "count_correct_r 3491\n",
      "recall: 0.8179475164011246\n",
      "F1: 0.8275453360199121\n"
     ]
    },
    {
     "name": "stderr",
     "output_type": "stream",
     "text": [
      "100%|██████████████████████████████████████████████████████████████████████████████████████████████████████████████████████████████████████████████| 6214/6214 [25:10<00:00,  4.11it/s]\n"
     ]
    },
    {
     "name": "stdout",
     "output_type": "stream",
     "text": [
      "count_correct_p 39966\n",
      "count_active_tokens_p 39994\n",
      "precision: 0.9992998949842476\n",
      "count_active_tokens_r 40103\n",
      "count_correct_r 39966\n",
      "recall: 0.9965837967234371\n",
      "F1: 0.9979399977527248\n",
      "POS Accuracy:0.9889277653432043\n",
      "NER Accuracy:0.9961239481334313\n",
      "count_correct_p 15145\n",
      "count_active_tokens_p 17430\n",
      "precision: 0.8689041881812967\n",
      "count_active_tokens_r 18220\n",
      "count_correct_r 15145\n",
      "recall: 0.8312294182217344\n",
      "F1: 0.8496493688639551\n"
     ]
    },
    {
     "name": "stderr",
     "output_type": "stream",
     "text": [
      "100%|██████████████████████████████████████████████████████████████████████████████████████████████████████████████████████████████████████████████| 1657/1657 [01:28<00:00, 18.63it/s]\n"
     ]
    },
    {
     "name": "stdout",
     "output_type": "stream",
     "text": [
      "count_correct_p 9994\n",
      "count_active_tokens_p 9999\n",
      "precision: 0.9994999499949995\n",
      "count_active_tokens_r 10025\n",
      "count_correct_r 9994\n",
      "recall: 0.9969077306733167\n",
      "F1: 0.9982021574111066\n",
      "count_correct_p 53\n",
      "count_active_tokens_p 58\n",
      "precision: 0.9137931034482759\n",
      "count_active_tokens_r 84\n",
      "count_correct_r 53\n",
      "recall: 0.6309523809523809\n",
      "F1: 0.7464788732394366\n",
      "POS Accuracy:0.9902321123186407\n",
      "NER Accuracy:0.9960038892260165\n",
      "count_correct_p 3651\n",
      "count_active_tokens_p 4459\n",
      "precision: 0.8187934514465127\n",
      "count_active_tokens_r 4268\n",
      "count_correct_r 3651\n",
      "recall: 0.85543580131209\n",
      "F1: 0.8367136473014781\n"
     ]
    },
    {
     "name": "stderr",
     "output_type": "stream",
     "text": [
      "100%|██████████████████████████████████████████████████████████████████████████████████████████████████████████████████████████████████████████████| 6214/6214 [24:55<00:00,  4.16it/s]\n"
     ]
    },
    {
     "name": "stdout",
     "output_type": "stream",
     "text": [
      "count_correct_p 39968\n",
      "count_active_tokens_p 39997\n",
      "precision: 0.9992749456209216\n",
      "count_active_tokens_r 40103\n",
      "count_correct_r 39968\n",
      "recall: 0.9966336683041169\n",
      "F1: 0.9979525593008739\n",
      "POS Accuracy:0.9914071727485844\n",
      "NER Accuracy:0.9966670401315052\n",
      "count_correct_p 15570\n",
      "count_active_tokens_p 17514\n",
      "precision: 0.8890030832476875\n",
      "count_active_tokens_r 18220\n",
      "count_correct_r 15570\n",
      "recall: 0.8545554335894622\n",
      "F1: 0.8714389656909386\n"
     ]
    },
    {
     "name": "stderr",
     "output_type": "stream",
     "text": [
      "100%|██████████████████████████████████████████████████████████████████████████████████████████████████████████████████████████████████████████████| 1657/1657 [01:28<00:00, 18.83it/s]\n"
     ]
    },
    {
     "name": "stdout",
     "output_type": "stream",
     "text": [
      "count_correct_p 9988\n",
      "count_active_tokens_p 9990\n",
      "precision: 0.9997997997997998\n",
      "count_active_tokens_r 10025\n",
      "count_correct_r 9988\n",
      "recall: 0.9963092269326683\n",
      "F1: 0.998051461403947\n",
      "count_correct_p 47\n",
      "count_active_tokens_p 49\n",
      "precision: 0.9591836734693877\n",
      "count_active_tokens_r 84\n",
      "count_correct_r 47\n",
      "recall: 0.5595238095238095\n",
      "F1: 0.7067669172932332\n",
      "POS Accuracy:0.9908182545374303\n",
      "NER Accuracy:0.9963245434986484\n",
      "count_correct_p 3667\n",
      "count_active_tokens_p 4378\n",
      "precision: 0.8375970762905436\n",
      "count_active_tokens_r 4268\n",
      "count_correct_r 3667\n",
      "recall: 0.8591846298031866\n",
      "F1: 0.8482535276428406\n"
     ]
    },
    {
     "name": "stderr",
     "output_type": "stream",
     "text": [
      "100%|██████████████████████████████████████████████████████████████████████████████████████████████████████████████████████████████████████████████| 6214/6214 [24:57<00:00,  4.15it/s]\n"
     ]
    },
    {
     "name": "stdout",
     "output_type": "stream",
     "text": [
      "count_correct_p 39989\n",
      "count_active_tokens_p 40021\n",
      "precision: 0.9992004197796157\n",
      "count_active_tokens_r 40103\n",
      "count_correct_r 39989\n",
      "recall: 0.9971573199012542\n",
      "F1: 0.9981778243722229\n",
      "POS Accuracy:0.9927619093233073\n",
      "NER Accuracy:0.9970963821520299\n",
      "count_correct_p 15944\n",
      "count_active_tokens_p 17671\n",
      "precision: 0.9022692547111086\n",
      "count_active_tokens_r 18220\n",
      "count_correct_r 15944\n",
      "recall: 0.8750823271130626\n",
      "F1: 0.888467861023655\n"
     ]
    },
    {
     "name": "stderr",
     "output_type": "stream",
     "text": [
      "100%|██████████████████████████████████████████████████████████████████████████████████████████████████████████████████████████████████████████████| 1657/1657 [01:29<00:00, 18.46it/s]\n"
     ]
    },
    {
     "name": "stdout",
     "output_type": "stream",
     "text": [
      "count_correct_p 9992\n",
      "count_active_tokens_p 9995\n",
      "precision: 0.9996998499249625\n",
      "count_active_tokens_r 10025\n",
      "count_correct_r 9992\n",
      "recall: 0.9967082294264339\n",
      "F1: 0.9982017982017982\n",
      "count_correct_p 51\n",
      "count_active_tokens_p 54\n",
      "precision: 0.9444444444444444\n",
      "count_active_tokens_r 84\n",
      "count_correct_r 51\n",
      "recall: 0.6071428571428571\n",
      "F1: 0.7391304347826088\n",
      "POS Accuracy:0.9913250951619131\n",
      "NER Accuracy:0.9964693551056435\n",
      "count_correct_p 3617\n",
      "count_active_tokens_p 4225\n",
      "precision: 0.856094674556213\n",
      "count_active_tokens_r 4268\n",
      "count_correct_r 3617\n",
      "recall: 0.8474695407685099\n",
      "F1: 0.8517602731661368\n"
     ]
    },
    {
     "name": "stderr",
     "output_type": "stream",
     "text": [
      "100%|██████████████████████████████████████████████████████████████████████████████████████████████████████████████████████████████████████████████| 6214/6214 [25:05<00:00,  4.13it/s]\n"
     ]
    },
    {
     "name": "stdout",
     "output_type": "stream",
     "text": [
      "count_correct_p 40002\n",
      "count_active_tokens_p 40034\n",
      "precision: 0.9992006794224909\n",
      "count_active_tokens_r 40103\n",
      "count_correct_r 40002\n",
      "recall: 0.9974814851756726\n",
      "F1: 0.9983403421640442\n",
      "POS Accuracy:0.9939857906606993\n",
      "NER Accuracy:0.9974615794483724\n",
      "count_correct_p 16250\n",
      "count_active_tokens_p 17798\n",
      "precision: 0.9130239352736262\n",
      "count_active_tokens_r 18220\n",
      "count_correct_r 16250\n",
      "recall: 0.8918770581778266\n",
      "F1: 0.9023266144705425\n"
     ]
    },
    {
     "name": "stderr",
     "output_type": "stream",
     "text": [
      "100%|██████████████████████████████████████████████████████████████████████████████████████████████████████████████████████████████████████████████| 1657/1657 [01:29<00:00, 18.59it/s]\n"
     ]
    },
    {
     "name": "stdout",
     "output_type": "stream",
     "text": [
      "count_correct_p 9999\n",
      "count_active_tokens_p 10019\n",
      "precision: 0.998003792793692\n",
      "count_active_tokens_r 10025\n",
      "count_correct_r 9999\n",
      "recall: 0.9974064837905237\n",
      "F1: 0.9977050488924366\n",
      "count_correct_p 58\n",
      "count_active_tokens_p 78\n",
      "precision: 0.7435897435897436\n",
      "count_active_tokens_r 84\n",
      "count_correct_r 58\n",
      "recall: 0.6904761904761905\n",
      "F1: 0.7160493827160495\n",
      "POS Accuracy:0.991676780493187\n",
      "NER Accuracy:0.9963797098251227\n",
      "count_correct_p 3689\n",
      "count_active_tokens_p 4436\n",
      "precision: 0.831605049594229\n",
      "count_active_tokens_r 4268\n",
      "count_correct_r 3689\n",
      "recall: 0.8643392689784443\n",
      "F1: 0.84765625\n"
     ]
    },
    {
     "name": "stderr",
     "output_type": "stream",
     "text": [
      "100%|██████████████████████████████████████████████████████████████████████████████████████████████████████████████████████████████████████████████| 6214/6214 [25:07<00:00,  4.12it/s]\n"
     ]
    },
    {
     "name": "stdout",
     "output_type": "stream",
     "text": [
      "count_correct_p 40006\n",
      "count_active_tokens_p 40045\n",
      "precision: 0.9990260956424023\n",
      "count_active_tokens_r 40103\n",
      "count_correct_r 40006\n",
      "recall: 0.9975812283370321\n",
      "F1: 0.9983031391924939\n",
      "POS Accuracy:0.9948658562764757\n",
      "NER Accuracy:0.9977976978030859\n",
      "count_correct_p 16506\n",
      "count_active_tokens_p 17835\n",
      "precision: 0.9254835996635828\n",
      "count_active_tokens_r 18220\n",
      "count_correct_r 16506\n",
      "recall: 0.9059275521405049\n",
      "F1: 0.9156011648869783\n"
     ]
    },
    {
     "name": "stderr",
     "output_type": "stream",
     "text": [
      "100%|██████████████████████████████████████████████████████████████████████████████████████████████████████████████████████████████████████████████| 1657/1657 [01:29<00:00, 18.43it/s]\n"
     ]
    },
    {
     "name": "stdout",
     "output_type": "stream",
     "text": [
      "count_correct_p 9992\n",
      "count_active_tokens_p 9999\n",
      "precision: 0.9992999299929993\n",
      "count_active_tokens_r 10025\n",
      "count_correct_r 9992\n",
      "recall: 0.9967082294264339\n",
      "F1: 0.9980023971234518\n",
      "count_correct_p 51\n",
      "count_active_tokens_p 58\n",
      "precision: 0.8793103448275862\n",
      "count_active_tokens_r 84\n",
      "count_correct_r 51\n",
      "recall: 0.6071428571428571\n",
      "F1: 0.7183098591549295\n",
      "POS Accuracy:0.9919422684393446\n",
      "NER Accuracy:0.9967520825288244\n",
      "count_correct_p 3689\n",
      "count_active_tokens_p 4286\n",
      "precision: 0.8607092860475968\n",
      "count_active_tokens_r 4268\n",
      "count_correct_r 3689\n",
      "recall: 0.8643392689784443\n",
      "F1: 0.8625204582651391\n"
     ]
    },
    {
     "name": "stderr",
     "output_type": "stream",
     "text": [
      "100%|██████████████████████████████████████████████████████████████████████████████████████████████████████████████████████████████████████████████| 6214/6214 [25:13<00:00,  4.11it/s]\n"
     ]
    },
    {
     "name": "stdout",
     "output_type": "stream",
     "text": [
      "count_correct_p 40021\n",
      "count_active_tokens_p 40049\n",
      "precision: 0.9993008564508478\n",
      "count_active_tokens_r 40103\n",
      "count_correct_r 40021\n",
      "recall: 0.9979552651921303\n",
      "F1: 0.9986276075456633\n",
      "POS Accuracy:0.9956749350641576\n",
      "NER Accuracy:0.9981261187908976\n",
      "count_correct_p 16790\n",
      "count_active_tokens_p 17952\n",
      "precision: 0.9352718360071302\n",
      "count_active_tokens_r 18220\n",
      "count_correct_r 16790\n",
      "recall: 0.9215148188803512\n",
      "F1: 0.9283423642596483\n"
     ]
    },
    {
     "name": "stderr",
     "output_type": "stream",
     "text": [
      "100%|██████████████████████████████████████████████████████████████████████████████████████████████████████████████████████████████████████████████| 1657/1657 [01:30<00:00, 18.33it/s]\n"
     ]
    },
    {
     "name": "stdout",
     "output_type": "stream",
     "text": [
      "count_correct_p 9998\n",
      "count_active_tokens_p 10014\n",
      "precision: 0.9984022368683843\n",
      "count_active_tokens_r 10025\n",
      "count_correct_r 9998\n",
      "recall: 0.9973067331670823\n",
      "F1: 0.997854184340536\n",
      "count_correct_p 57\n",
      "count_active_tokens_p 73\n",
      "precision: 0.7808219178082192\n",
      "count_active_tokens_r 84\n",
      "count_correct_r 57\n",
      "recall: 0.6785714285714286\n",
      "F1: 0.7261146496815287\n",
      "POS Accuracy:0.9921663816406465\n",
      "NER Accuracy:0.9967038119931594\n",
      "count_correct_p 3700\n",
      "count_active_tokens_p 4331\n",
      "precision: 0.8543061648580005\n",
      "count_active_tokens_r 4268\n",
      "count_correct_r 3700\n",
      "recall: 0.8669165885660731\n",
      "F1: 0.8605651819979068\n"
     ]
    },
    {
     "name": "stderr",
     "output_type": "stream",
     "text": [
      "100%|██████████████████████████████████████████████████████████████████████████████████████████████████████████████████████████████████████████████| 6214/6214 [25:28<00:00,  4.07it/s]\n"
     ]
    },
    {
     "name": "stdout",
     "output_type": "stream",
     "text": [
      "count_correct_p 40032\n",
      "count_active_tokens_p 40059\n",
      "precision: 0.999325994158616\n",
      "count_active_tokens_r 40103\n",
      "count_correct_r 40032\n",
      "recall: 0.9982295588858688\n",
      "F1: 0.9987774756118859\n",
      "POS Accuracy:0.9963659875593446\n",
      "NER Accuracy:0.9984220397851237\n",
      "count_correct_p 17014\n",
      "count_active_tokens_p 17995\n",
      "precision: 0.9454848569046957\n",
      "count_active_tokens_r 18220\n",
      "count_correct_r 17014\n",
      "recall: 0.9338090010976948\n",
      "F1: 0.9396106585668922\n"
     ]
    },
    {
     "name": "stderr",
     "output_type": "stream",
     "text": [
      "100%|██████████████████████████████████████████████████████████████████████████████████████████████████████████████████████████████████████████████| 1657/1657 [01:28<00:00, 18.62it/s]\n"
     ]
    },
    {
     "name": "stdout",
     "output_type": "stream",
     "text": [
      "count_correct_p 9996\n",
      "count_active_tokens_p 10002\n",
      "precision: 0.9994001199760048\n",
      "count_active_tokens_r 10025\n",
      "count_correct_r 9996\n",
      "recall: 0.9971072319201995\n",
      "F1: 0.9982523593149248\n",
      "count_correct_p 55\n",
      "count_active_tokens_p 61\n",
      "precision: 0.9016393442622951\n",
      "count_active_tokens_r 84\n",
      "count_correct_r 55\n",
      "recall: 0.6547619047619048\n",
      "F1: 0.7586206896551725\n",
      "POS Accuracy:0.9924077343189717\n",
      "NER Accuracy:0.9964831466872621\n",
      "count_correct_p 3732\n",
      "count_active_tokens_p 4456\n",
      "precision: 0.8375224416517055\n",
      "count_active_tokens_r 4268\n",
      "count_correct_r 3732\n",
      "recall: 0.8744142455482662\n",
      "F1: 0.8555708390646493\n"
     ]
    },
    {
     "name": "stderr",
     "output_type": "stream",
     "text": [
      "100%|██████████████████████████████████████████████████████████████████████████████████████████████████████████████████████████████████████████████| 6214/6214 [25:09<00:00,  4.12it/s]\n"
     ]
    },
    {
     "name": "stdout",
     "output_type": "stream",
     "text": [
      "count_correct_p 40036\n",
      "count_active_tokens_p 40060\n",
      "precision: 0.999400898652022\n",
      "count_active_tokens_r 40103\n",
      "count_correct_r 40036\n",
      "recall: 0.9983293020472284\n",
      "F1: 0.9988648129436273\n",
      "POS Accuracy:0.9969655269146986\n",
      "NER Accuracy:0.9985905265939751\n",
      "count_correct_p 17161\n",
      "count_active_tokens_p 18029\n",
      "precision: 0.9518553441677298\n",
      "count_active_tokens_r 18220\n",
      "count_correct_r 17161\n",
      "recall: 0.9418770581778265\n",
      "F1: 0.9468399128251812\n"
     ]
    },
    {
     "name": "stderr",
     "output_type": "stream",
     "text": [
      "100%|██████████████████████████████████████████████████████████████████████████████████████████████████████████████████████████████████████████████| 1657/1657 [01:31<00:00, 18.18it/s]\n"
     ]
    },
    {
     "name": "stdout",
     "output_type": "stream",
     "text": [
      "count_correct_p 9992\n",
      "count_active_tokens_p 9998\n",
      "precision: 0.9993998799759952\n",
      "count_active_tokens_r 10025\n",
      "count_correct_r 9992\n",
      "recall: 0.9967082294264339\n",
      "F1: 0.9980522399240873\n",
      "count_correct_p 51\n",
      "count_active_tokens_p 57\n",
      "precision: 0.8947368421052632\n",
      "count_active_tokens_r 84\n",
      "count_correct_r 51\n",
      "recall: 0.6071428571428571\n",
      "F1: 0.7234042553191489\n",
      "POS Accuracy:0.9923491200970928\n",
      "NER Accuracy:0.9966900204115408\n",
      "count_correct_p 3674\n",
      "count_active_tokens_p 4272\n",
      "precision: 0.8600187265917603\n",
      "count_active_tokens_r 4268\n",
      "count_correct_r 3674\n",
      "recall: 0.8608247422680413\n",
      "F1: 0.8604215456674473\n"
     ]
    },
    {
     "name": "stderr",
     "output_type": "stream",
     "text": [
      "100%|██████████████████████████████████████████████████████████████████████████████████████████████████████████████████████████████████████████████| 6214/6214 [25:12<00:00,  4.11it/s]\n"
     ]
    },
    {
     "name": "stdout",
     "output_type": "stream",
     "text": [
      "count_correct_p 40041\n",
      "count_active_tokens_p 40065\n",
      "precision: 0.9994009734181954\n",
      "count_active_tokens_r 40103\n",
      "count_correct_r 40041\n",
      "recall: 0.9984539809989278\n",
      "F1: 0.9989272527691847\n",
      "POS Accuracy:0.9973495399968013\n",
      "NER Accuracy:0.9988000660263028\n",
      "count_correct_p 17311\n",
      "count_active_tokens_p 18047\n",
      "precision: 0.9592175984928243\n",
      "count_active_tokens_r 18220\n",
      "count_correct_r 17311\n",
      "recall: 0.9501097694840834\n",
      "F1: 0.9546419610113877\n"
     ]
    },
    {
     "name": "stderr",
     "output_type": "stream",
     "text": [
      "100%|██████████████████████████████████████████████████████████████████████████████████████████████████████████████████████████████████████████████| 1657/1657 [01:28<00:00, 18.72it/s]\n"
     ]
    },
    {
     "name": "stdout",
     "output_type": "stream",
     "text": [
      "count_correct_p 9991\n",
      "count_active_tokens_p 9996\n",
      "precision: 0.999499799919968\n",
      "count_active_tokens_r 10025\n",
      "count_correct_r 9991\n",
      "recall: 0.9966084788029925\n",
      "F1: 0.9980520453523799\n",
      "count_correct_p 50\n",
      "count_active_tokens_p 55\n",
      "precision: 0.9090909090909091\n",
      "count_active_tokens_r 84\n",
      "count_correct_r 50\n",
      "recall: 0.5952380952380952\n",
      "F1: 0.7194244604316546\n",
      "POS Accuracy:0.9923939427373532\n",
      "NER Accuracy:0.9967831135874662\n",
      "count_correct_p 3738\n",
      "count_active_tokens_p 4360\n",
      "precision: 0.8573394495412844\n",
      "count_active_tokens_r 4268\n",
      "count_correct_r 3738\n",
      "recall: 0.8758200562324273\n",
      "F1: 0.866481223922114\n"
     ]
    }
   ],
   "source": [
    "for idx in range(10):\n",
    "    train_loop_fn(train_loader, model, optimizer, s_r=1, p_r=1, n_r=1)\n",
    "    dev_loop_fn(test_loader, model, optimizer)"
   ]
  },
  {
   "cell_type": "code",
   "execution_count": 24,
   "metadata": {},
   "outputs": [
    {
     "name": "stderr",
     "output_type": "stream",
     "text": [
      "/opt/anaconda3/lib/python3.7/site-packages/ipykernel_launcher.py:17: SettingWithCopyWarning: \n",
      "A value is trying to be set on a copy of a slice from a DataFrame\n",
      "\n",
      "See the caveats in the documentation: https://pandas.pydata.org/pandas-docs/stable/user_guide/indexing.html#returning-a-view-versus-a-copy\n"
     ]
    },
    {
     "name": "stdout",
     "output_type": "stream",
     "text": [
      "29100\n",
      "2593\n"
     ]
    }
   ],
   "source": [
    "train_file = './data/train.tsv'\n",
    "test_file = './data/test.tsv'\n",
    "#test_file = './data_v1/europarl-sbd-eval.tsv'\n",
    "train_EOS_file = './data/train_EOS.tsv'\n",
    "test_EOS_file = './data/test_EOS.tsv'\n",
    "#test_EOS_file = './data_v1/europarl-sbd-eval_EOS.tsv'\n",
    "\n",
    "set_newline_to_EOS(train_file, train_EOS_file, eos=\"\\n\")\n",
    "set_newline_to_EOS(test_file, test_EOS_file, eos=\"\\n\")\n",
    "#set_newline_to_EOS(test_file, test_EOS_file, eos=\"\\t\\n\")\n",
    "train_file = train_EOS_file\n",
    "test_file = test_EOS_file\n",
    "\n",
    "train_df = pd.read_csv(train_file, delimiter='\\t', engine='python', encoding='UTF-8', error_bad_lines=False, header=None, quoting=csv.QUOTE_NONE)\n",
    "train_df.head()\n",
    "test_df = pd.read_csv(test_file, delimiter='\\t', engine='python', encoding='UTF-8', error_bad_lines=False, header=None, quoting=csv.QUOTE_NONE)\n",
    "test_df.head()\n",
    "\n",
    "train_df = set_sentence_num(train_df)\n",
    "test_df = set_sentence_num(test_df)\n",
    "\n",
    "train_dataset = FSBDataset(train_df, tokenizer, MAX_LEN)\n",
    "train_loader = torch.utils.data.DataLoader(train_dataset, shuffle=True, num_workers=4, batch_size=8)\n",
    "test_dataset = FSBDataset(test_df, tokenizer, MAX_LEN)\n",
    "test_loader = torch.utils.data.DataLoader(test_dataset, shuffle=False, num_workers=4, batch_size=6)\n"
   ]
  },
  {
   "cell_type": "code",
   "execution_count": 25,
   "metadata": {},
   "outputs": [
    {
     "name": "stderr",
     "output_type": "stream",
     "text": [
      "100%|████████████████████████████████████████████████████████████████████████████████████████████████████████████████████████████████████████████████| 432/432 [00:17<00:00, 24.14it/s]\n"
     ]
    },
    {
     "name": "stdout",
     "output_type": "stream",
     "text": [
      "count_correct_p 3070\n",
      "count_active_tokens_p 3208\n",
      "precision: 0.9569825436408977\n",
      "count_active_tokens_r 3146\n",
      "count_correct_r 3070\n",
      "recall: 0.9758423394787031\n",
      "F1: 0.966320428076802\n",
      "count_correct_p 479\n",
      "count_active_tokens_p 617\n",
      "precision: 0.7763371150729336\n",
      "count_active_tokens_r 554\n",
      "count_correct_r 479\n",
      "recall: 0.8646209386281588\n",
      "F1: 0.8181041844577285\n",
      "POS Accuracy:0.991422318444957\n",
      "NER Accuracy:0.9795029886572222\n",
      "count_correct_p 13724\n",
      "count_active_tokens_p 14700\n",
      "precision: 0.9336054421768708\n",
      "count_active_tokens_r 15103\n",
      "count_correct_r 13724\n",
      "recall: 0.9086936370257565\n",
      "F1: 0.9209811092843002\n"
     ]
    }
   ],
   "source": [
    "dev_loop_fn(test_loader, model, optimizer)"
   ]
  },
  {
   "cell_type": "code",
   "execution_count": 26,
   "metadata": {},
   "outputs": [
    {
     "name": "stderr",
     "output_type": "stream",
     "text": [
      "100%|██████████████████████████████████████████████████████████████████████████████████████████████████████████████████████████████████████████████| 3638/3638 [11:05<00:00,  5.47it/s]\n"
     ]
    },
    {
     "name": "stdout",
     "output_type": "stream",
     "text": [
      "count_correct_p 33582\n",
      "count_active_tokens_p 33625\n",
      "precision: 0.998721189591078\n",
      "count_active_tokens_r 33627\n",
      "count_correct_r 33582\n",
      "recall: 0.9986617896333304\n",
      "F1: 0.9986914887289597\n",
      "POS Accuracy:0.9992883243248911\n",
      "NER Accuracy:0.9990497884632523\n",
      "count_correct_p 128341\n",
      "count_active_tokens_p 128801\n",
      "precision: 0.9964285991568388\n",
      "count_active_tokens_r 128847\n",
      "count_correct_r 128341\n",
      "recall: 0.9960728616110581\n",
      "F1: 0.9962506986275849\n"
     ]
    },
    {
     "name": "stderr",
     "output_type": "stream",
     "text": [
      "100%|████████████████████████████████████████████████████████████████████████████████████████████████████████████████████████████████████████████████| 432/432 [00:18<00:00, 23.17it/s]\n"
     ]
    },
    {
     "name": "stdout",
     "output_type": "stream",
     "text": [
      "count_correct_p 3110\n",
      "count_active_tokens_p 3209\n",
      "precision: 0.9691492676846369\n",
      "count_active_tokens_r 3146\n",
      "count_correct_r 3110\n",
      "recall: 0.9885568976478067\n",
      "F1: 0.978756884343037\n",
      "count_correct_p 518\n",
      "count_active_tokens_p 617\n",
      "precision: 0.839546191247974\n",
      "count_active_tokens_r 554\n",
      "count_correct_r 518\n",
      "recall: 0.9350180505415162\n",
      "F1: 0.8847139197267292\n",
      "POS Accuracy:0.9931519743963854\n",
      "NER Accuracy:0.9862451169576881\n",
      "count_correct_p 14331\n",
      "count_active_tokens_p 15237\n",
      "precision: 0.9405394762748572\n",
      "count_active_tokens_r 15103\n",
      "count_correct_r 14331\n",
      "recall: 0.9488843276170297\n",
      "F1: 0.9446934739617665\n"
     ]
    },
    {
     "name": "stderr",
     "output_type": "stream",
     "text": [
      "100%|██████████████████████████████████████████████████████████████████████████████████████████████████████████████████████████████████████████████| 3638/3638 [11:11<00:00,  5.42it/s]\n"
     ]
    },
    {
     "name": "stdout",
     "output_type": "stream",
     "text": [
      "count_correct_p 33610\n",
      "count_active_tokens_p 33631\n",
      "precision: 0.999375576105379\n",
      "count_active_tokens_r 33627\n",
      "count_correct_r 33610\n",
      "recall: 0.9994944538614804\n",
      "F1: 0.9994350114484523\n",
      "POS Accuracy:0.9997404939527227\n",
      "NER Accuracy:0.9995884601068431\n",
      "count_correct_p 128634\n",
      "count_active_tokens_p 128850\n",
      "precision: 0.9983236321303842\n",
      "count_active_tokens_r 128847\n",
      "count_correct_r 128634\n",
      "recall: 0.998346876527975\n",
      "F1: 0.9983352541938788\n"
     ]
    },
    {
     "name": "stderr",
     "output_type": "stream",
     "text": [
      "100%|████████████████████████████████████████████████████████████████████████████████████████████████████████████████████████████████████████████████| 432/432 [00:18<00:00, 23.09it/s]\n"
     ]
    },
    {
     "name": "stdout",
     "output_type": "stream",
     "text": [
      "count_correct_p 3094\n",
      "count_active_tokens_p 3167\n",
      "precision: 0.9769497947584465\n",
      "count_active_tokens_r 3146\n",
      "count_correct_r 3094\n",
      "recall: 0.9834710743801653\n",
      "F1: 0.9801995881514335\n",
      "count_correct_p 502\n",
      "count_active_tokens_p 575\n",
      "precision: 0.8730434782608696\n",
      "count_active_tokens_r 554\n",
      "count_correct_r 502\n",
      "recall: 0.9061371841155235\n",
      "F1: 0.8892825509300266\n",
      "POS Accuracy:0.9931166752953358\n",
      "NER Accuracy:0.9866687061702829\n",
      "count_correct_p 14320\n",
      "count_active_tokens_p 15169\n",
      "precision: 0.9440305887006395\n",
      "count_active_tokens_r 15103\n",
      "count_correct_r 14320\n",
      "recall: 0.9481559954975832\n",
      "F1: 0.9460887949260042\n"
     ]
    },
    {
     "name": "stderr",
     "output_type": "stream",
     "text": [
      "100%|██████████████████████████████████████████████████████████████████████████████████████████████████████████████████████████████████████████████| 3638/3638 [11:12<00:00,  5.41it/s]\n"
     ]
    },
    {
     "name": "stdout",
     "output_type": "stream",
     "text": [
      "count_correct_p 33614\n",
      "count_active_tokens_p 33624\n",
      "precision: 0.9997025933856769\n",
      "count_active_tokens_r 33627\n",
      "count_correct_r 33614\n",
      "recall: 0.9996134058940732\n",
      "F1: 0.9996579976505925\n",
      "POS Accuracy:0.999817821512265\n",
      "NER Accuracy:0.9996461281173492\n",
      "count_correct_p 128648\n",
      "count_active_tokens_p 128834\n",
      "precision: 0.9985562817268734\n",
      "count_active_tokens_r 128847\n",
      "count_correct_r 128648\n",
      "recall: 0.9984555325308312\n",
      "F1: 0.9985059045874551\n"
     ]
    },
    {
     "name": "stderr",
     "output_type": "stream",
     "text": [
      "100%|████████████████████████████████████████████████████████████████████████████████████████████████████████████████████████████████████████████████| 432/432 [00:18<00:00, 23.02it/s]\n"
     ]
    },
    {
     "name": "stdout",
     "output_type": "stream",
     "text": [
      "count_correct_p 3105\n",
      "count_active_tokens_p 3188\n",
      "precision: 0.9739648682559598\n",
      "count_active_tokens_r 3146\n",
      "count_correct_r 3105\n",
      "recall: 0.9869675778766688\n",
      "F1: 0.9804231133564888\n",
      "count_correct_p 513\n",
      "count_active_tokens_p 596\n",
      "precision: 0.860738255033557\n",
      "count_active_tokens_r 554\n",
      "count_correct_r 513\n",
      "recall: 0.9259927797833934\n",
      "F1: 0.8921739130434782\n",
      "POS Accuracy:0.9929519461571046\n",
      "NER Accuracy:0.9866098743352003\n",
      "count_correct_p 14370\n",
      "count_active_tokens_p 15274\n",
      "precision: 0.9408144559381957\n",
      "count_active_tokens_r 15103\n",
      "count_correct_r 14370\n",
      "recall: 0.9514665960405218\n",
      "F1: 0.9461105441617013\n"
     ]
    },
    {
     "name": "stderr",
     "output_type": "stream",
     "text": [
      "100%|██████████████████████████████████████████████████████████████████████████████████████████████████████████████████████████████████████████████| 3638/3638 [13:07<00:00,  4.62it/s]\n"
     ]
    },
    {
     "name": "stdout",
     "output_type": "stream",
     "text": [
      "count_correct_p 33618\n",
      "count_active_tokens_p 33627\n",
      "precision: 0.999732357926666\n",
      "count_active_tokens_r 33627\n",
      "count_correct_r 33618\n",
      "recall: 0.999732357926666\n",
      "F1: 0.999732357926666\n",
      "POS Accuracy:0.9998427236077108\n",
      "NER Accuracy:0.9997313194965058\n",
      "count_correct_p 128705\n",
      "count_active_tokens_p 128845\n",
      "precision: 0.9989134231052815\n",
      "count_active_tokens_r 128847\n",
      "count_correct_r 128705\n",
      "recall: 0.9988979176853167\n",
      "F1: 0.9989056703351287\n"
     ]
    },
    {
     "name": "stderr",
     "output_type": "stream",
     "text": [
      "100%|████████████████████████████████████████████████████████████████████████████████████████████████████████████████████████████████████████████████| 432/432 [00:21<00:00, 19.87it/s]\n"
     ]
    },
    {
     "name": "stdout",
     "output_type": "stream",
     "text": [
      "count_correct_p 3095\n",
      "count_active_tokens_p 3166\n",
      "precision: 0.9775742261528743\n",
      "count_active_tokens_r 3146\n",
      "count_correct_r 3095\n",
      "recall: 0.9837889383343928\n",
      "F1: 0.9806717363751584\n",
      "count_correct_p 503\n",
      "count_active_tokens_p 574\n",
      "precision: 0.8763066202090593\n",
      "count_active_tokens_r 554\n",
      "count_correct_r 503\n",
      "recall: 0.907942238267148\n",
      "F1: 0.8918439716312057\n",
      "POS Accuracy:0.9929872452581541\n",
      "NER Accuracy:0.9868334353085142\n",
      "count_correct_p 14337\n",
      "count_active_tokens_p 15176\n",
      "precision: 0.9447153400105429\n",
      "count_active_tokens_r 15103\n",
      "count_correct_r 14337\n",
      "recall: 0.9492815996821824\n",
      "F1: 0.9469929654215793\n"
     ]
    },
    {
     "name": "stderr",
     "output_type": "stream",
     "text": [
      "100%|██████████████████████████████████████████████████████████████████████████████████████████████████████████████████████████████████████████████| 3638/3638 [15:07<00:00,  4.01it/s]\n"
     ]
    },
    {
     "name": "stdout",
     "output_type": "stream",
     "text": [
      "count_correct_p 33619\n",
      "count_active_tokens_p 33628\n",
      "precision: 0.9997323658855716\n",
      "count_active_tokens_r 33627\n",
      "count_correct_r 33619\n",
      "recall: 0.9997620959348142\n",
      "F1: 0.9997472306891682\n",
      "POS Accuracy:0.9998414129711083\n",
      "NER Accuracy:0.9996985535814455\n",
      "count_correct_p 128683\n",
      "count_active_tokens_p 128841\n",
      "precision: 0.9987736822905752\n",
      "count_active_tokens_r 128847\n",
      "count_correct_r 128683\n",
      "recall: 0.9987271725379714\n",
      "F1: 0.9987504268728074\n"
     ]
    },
    {
     "name": "stderr",
     "output_type": "stream",
     "text": [
      "100%|████████████████████████████████████████████████████████████████████████████████████████████████████████████████████████████████████████████████| 432/432 [00:21<00:00, 19.66it/s]\n"
     ]
    },
    {
     "name": "stdout",
     "output_type": "stream",
     "text": [
      "count_correct_p 3091\n",
      "count_active_tokens_p 3161\n",
      "precision: 0.9778551091426764\n",
      "count_active_tokens_r 3146\n",
      "count_correct_r 3091\n",
      "recall: 0.9825174825174825\n",
      "F1: 0.9801807515459013\n",
      "count_correct_p 499\n",
      "count_active_tokens_p 569\n",
      "precision: 0.8769771528998243\n",
      "count_active_tokens_r 554\n",
      "count_correct_r 499\n",
      "recall: 0.9007220216606499\n",
      "F1: 0.8886910062333037\n",
      "POS Accuracy:0.9928813479550054\n",
      "NER Accuracy:0.9862804160587377\n",
      "count_correct_p 14364\n",
      "count_active_tokens_p 15313\n",
      "precision: 0.93802651341997\n",
      "count_active_tokens_r 15103\n",
      "count_correct_r 14364\n",
      "recall: 0.9510693239753691\n",
      "F1: 0.944502893214098\n"
     ]
    },
    {
     "name": "stderr",
     "output_type": "stream",
     "text": [
      "100%|██████████████████████████████████████████████████████████████████████████████████████████████████████████████████████████████████████████████| 3638/3638 [15:00<00:00,  4.04it/s]\n"
     ]
    },
    {
     "name": "stdout",
     "output_type": "stream",
     "text": [
      "count_correct_p 33620\n",
      "count_active_tokens_p 33631\n",
      "precision: 0.9996729208171032\n",
      "count_active_tokens_r 33627\n",
      "count_correct_r 33620\n",
      "recall: 0.9997918339429624\n",
      "F1: 0.9997323738440037\n",
      "POS Accuracy:0.9998558299737348\n",
      "NER Accuracy:0.9997824343239998\n",
      "count_correct_p 128735\n",
      "count_active_tokens_p 128855\n",
      "precision: 0.9990687206549999\n",
      "count_active_tokens_r 128847\n",
      "count_correct_r 128735\n",
      "recall: 0.9991307519771512\n",
      "F1: 0.9990997353532375\n"
     ]
    },
    {
     "name": "stderr",
     "output_type": "stream",
     "text": [
      "100%|████████████████████████████████████████████████████████████████████████████████████████████████████████████████████████████████████████████████| 432/432 [00:21<00:00, 19.71it/s]\n"
     ]
    },
    {
     "name": "stdout",
     "output_type": "stream",
     "text": [
      "count_correct_p 3087\n",
      "count_active_tokens_p 3153\n",
      "precision: 0.9790675547098002\n",
      "count_active_tokens_r 3146\n",
      "count_correct_r 3087\n",
      "recall: 0.9812460267005721\n",
      "F1: 0.9801555802508334\n",
      "count_correct_p 496\n",
      "count_active_tokens_p 562\n",
      "precision: 0.8825622775800712\n",
      "count_active_tokens_r 554\n",
      "count_correct_r 496\n",
      "recall: 0.8953068592057761\n",
      "F1: 0.8888888888888888\n",
      "POS Accuracy:0.9927872170188733\n",
      "NER Accuracy:0.9869746317127124\n",
      "count_correct_p 14373\n",
      "count_active_tokens_p 15237\n",
      "precision: 0.9432959243945659\n",
      "count_active_tokens_r 15103\n",
      "count_correct_r 14373\n",
      "recall: 0.951665232073098\n",
      "F1: 0.947462096242584\n"
     ]
    },
    {
     "name": "stderr",
     "output_type": "stream",
     "text": [
      "100%|██████████████████████████████████████████████████████████████████████████████████████████████████████████████████████████████████████████████| 3638/3638 [15:00<00:00,  4.04it/s]\n"
     ]
    },
    {
     "name": "stdout",
     "output_type": "stream",
     "text": [
      "count_correct_p 33616\n",
      "count_active_tokens_p 33630\n",
      "precision: 0.999583705025275\n",
      "count_active_tokens_r 33627\n",
      "count_correct_r 33616\n",
      "recall: 0.9996728819103696\n",
      "F1: 0.9996282914789538\n",
      "POS Accuracy:0.9998309278782891\n",
      "NER Accuracy:0.999722145040289\n",
      "count_correct_p 128700\n",
      "count_active_tokens_p 128838\n",
      "precision: 0.9989288874400409\n",
      "count_active_tokens_r 128847\n",
      "count_correct_r 128700\n",
      "recall: 0.998859111970011\n",
      "F1: 0.9988939984865244\n"
     ]
    },
    {
     "name": "stderr",
     "output_type": "stream",
     "text": [
      "100%|████████████████████████████████████████████████████████████████████████████████████████████████████████████████████████████████████████████████| 432/432 [00:21<00:00, 20.13it/s]\n"
     ]
    },
    {
     "name": "stdout",
     "output_type": "stream",
     "text": [
      "count_correct_p 3086\n",
      "count_active_tokens_p 3158\n",
      "precision: 0.9772007599746675\n",
      "count_active_tokens_r 3146\n",
      "count_correct_r 3086\n",
      "recall: 0.9809281627463445\n",
      "F1: 0.9790609137055838\n",
      "count_correct_p 494\n",
      "count_active_tokens_p 566\n",
      "precision: 0.872791519434629\n",
      "count_active_tokens_r 554\n",
      "count_correct_r 494\n",
      "recall: 0.8916967509025271\n",
      "F1: 0.8821428571428572\n",
      "POS Accuracy:0.9924930578434602\n",
      "NER Accuracy:0.9863510142608368\n",
      "count_correct_p 14309\n",
      "count_active_tokens_p 15185\n",
      "precision: 0.9423114916035561\n",
      "count_active_tokens_r 15103\n",
      "count_correct_r 14309\n",
      "recall: 0.9474276633781368\n",
      "F1: 0.9448626518753301\n"
     ]
    },
    {
     "name": "stderr",
     "output_type": "stream",
     "text": [
      "100%|██████████████████████████████████████████████████████████████████████████████████████████████████████████████████████████████████████████████| 3638/3638 [14:47<00:00,  4.10it/s]\n"
     ]
    },
    {
     "name": "stdout",
     "output_type": "stream",
     "text": [
      "count_correct_p 33611\n",
      "count_active_tokens_p 33629\n",
      "precision: 0.9994647476880074\n",
      "count_active_tokens_r 33627\n",
      "count_correct_r 33611\n",
      "recall: 0.9995241918696286\n",
      "F1: 0.9994944688949685\n",
      "POS Accuracy:0.9998545193371324\n",
      "NER Accuracy:0.9997785024141926\n",
      "count_correct_p 128725\n",
      "count_active_tokens_p 128843\n",
      "precision: 0.9990841566868204\n",
      "count_active_tokens_r 128847\n",
      "count_correct_r 128725\n",
      "recall: 0.9990531405465397\n",
      "F1: 0.9990686483759557\n"
     ]
    },
    {
     "name": "stderr",
     "output_type": "stream",
     "text": [
      "100%|████████████████████████████████████████████████████████████████████████████████████████████████████████████████████████████████████████████████| 432/432 [00:21<00:00, 19.68it/s]\n"
     ]
    },
    {
     "name": "stdout",
     "output_type": "stream",
     "text": [
      "count_correct_p 3096\n",
      "count_active_tokens_p 3178\n",
      "precision: 0.9741976085588421\n",
      "count_active_tokens_r 3146\n",
      "count_correct_r 3096\n",
      "recall: 0.9841068022886205\n",
      "F1: 0.9791271347248577\n",
      "count_correct_p 504\n",
      "count_active_tokens_p 586\n",
      "precision: 0.8600682593856656\n",
      "count_active_tokens_r 554\n",
      "count_correct_r 504\n",
      "recall: 0.9097472924187726\n",
      "F1: 0.8842105263157896\n",
      "POS Accuracy:0.9930225443592037\n",
      "NER Accuracy:0.986445145196969\n",
      "count_correct_p 14376\n",
      "count_active_tokens_p 15304\n",
      "precision: 0.9393622582331417\n",
      "count_active_tokens_r 15103\n",
      "count_correct_r 14376\n",
      "recall: 0.9518638681056744\n",
      "F1: 0.9455717433485711\n"
     ]
    },
    {
     "name": "stderr",
     "output_type": "stream",
     "text": [
      "100%|██████████████████████████████████████████████████████████████████████████████████████████████████████████████████████████████████████████████| 3638/3638 [14:53<00:00,  4.07it/s]\n"
     ]
    },
    {
     "name": "stdout",
     "output_type": "stream",
     "text": [
      "count_correct_p 33609\n",
      "count_active_tokens_p 33631\n",
      "precision: 0.9993458416342066\n",
      "count_active_tokens_r 33627\n",
      "count_correct_r 33609\n",
      "recall: 0.9994647158533322\n",
      "F1: 0.9994052752088971\n",
      "POS Accuracy:0.9998296172416866\n",
      "NER Accuracy:0.9998007832364336\n",
      "count_correct_p 128744\n",
      "count_active_tokens_p 128839\n",
      "precision: 0.9992626456274886\n",
      "count_active_tokens_r 128847\n",
      "count_correct_r 128744\n",
      "recall: 0.9992006022647015\n",
      "F1: 0.9992316229830104\n"
     ]
    },
    {
     "name": "stderr",
     "output_type": "stream",
     "text": [
      "100%|████████████████████████████████████████████████████████████████████████████████████████████████████████████████████████████████████████████████| 432/432 [00:22<00:00, 19.54it/s]\n"
     ]
    },
    {
     "name": "stdout",
     "output_type": "stream",
     "text": [
      "count_correct_p 3100\n",
      "count_active_tokens_p 3179\n",
      "precision: 0.9751494180559924\n",
      "count_active_tokens_r 3146\n",
      "count_correct_r 3100\n",
      "recall: 0.9853782581055308\n",
      "F1: 0.9802371541501976\n",
      "count_correct_p 508\n",
      "count_active_tokens_p 587\n",
      "precision: 0.8654173764906303\n",
      "count_active_tokens_r 554\n",
      "count_correct_r 508\n",
      "recall: 0.9169675090252708\n",
      "F1: 0.8904469763365469\n",
      "POS Accuracy:0.9932225725984845\n",
      "NER Accuracy:0.9867981362074646\n",
      "count_correct_p 14363\n",
      "count_active_tokens_p 15250\n",
      "precision: 0.9418360655737705\n",
      "count_active_tokens_r 15103\n",
      "count_correct_r 14363\n",
      "recall: 0.9510031119645104\n",
      "F1: 0.9463973907027312\n"
     ]
    },
    {
     "name": "stderr",
     "output_type": "stream",
     "text": [
      "100%|██████████████████████████████████████████████████████████████████████████████████████████████████████████████████████████████████████████████| 3638/3638 [14:51<00:00,  4.08it/s]\n"
     ]
    },
    {
     "name": "stdout",
     "output_type": "stream",
     "text": [
      "count_correct_p 33613\n",
      "count_active_tokens_p 33627\n",
      "precision: 0.999583667885925\n",
      "count_active_tokens_r 33627\n",
      "count_correct_r 33613\n",
      "recall: 0.999583667885925\n",
      "F1: 0.999583667885925\n",
      "POS Accuracy:0.9998676257031566\n",
      "NER Accuracy:0.9997929194168191\n",
      "count_correct_p 128736\n",
      "count_active_tokens_p 128858\n",
      "precision: 0.9990532213754676\n",
      "count_active_tokens_r 128847\n",
      "count_correct_r 128736\n",
      "recall: 0.9991385131202123\n",
      "F1: 0.9990958654275237\n"
     ]
    },
    {
     "name": "stderr",
     "output_type": "stream",
     "text": [
      "100%|████████████████████████████████████████████████████████████████████████████████████████████████████████████████████████████████████████████████| 432/432 [00:22<00:00, 19.19it/s]\n"
     ]
    },
    {
     "name": "stdout",
     "output_type": "stream",
     "text": [
      "count_correct_p 3093\n",
      "count_active_tokens_p 3176\n",
      "precision: 0.9738664987405542\n",
      "count_active_tokens_r 3146\n",
      "count_correct_r 3093\n",
      "recall: 0.9831532104259377\n",
      "F1: 0.9784878203100285\n",
      "count_correct_p 502\n",
      "count_active_tokens_p 585\n",
      "precision: 0.8581196581196581\n",
      "count_active_tokens_r 554\n",
      "count_correct_r 502\n",
      "recall: 0.9061371841155235\n",
      "F1: 0.8814749780509218\n",
      "POS Accuracy:0.9929872452581541\n",
      "NER Accuracy:0.9868099025744811\n",
      "count_correct_p 14326\n",
      "count_active_tokens_p 15159\n",
      "precision: 0.9450491457220134\n",
      "count_active_tokens_r 15103\n",
      "count_correct_r 14326\n",
      "recall: 0.9485532675627358\n",
      "F1: 0.9467979644438571\n"
     ]
    }
   ],
   "source": [
    "for idx in range(10):\n",
    "    train_loop_fn(train_loader, model, optimizer, s_r=1, p_r=1, n_r=1)\n",
    "    dev_loop_fn(test_loader, model, optimizer)"
   ]
  },
  {
   "cell_type": "code",
   "execution_count": null,
   "metadata": {},
   "outputs": [],
   "source": []
  },
  {
   "cell_type": "code",
   "execution_count": null,
   "metadata": {},
   "outputs": [],
   "source": []
  },
  {
   "cell_type": "code",
   "execution_count": null,
   "metadata": {},
   "outputs": [],
   "source": [
    "def save_checkpoint(state, filename=\"my_checkpoint.pth.tar\"):\n",
    "    print(\"=> Saving checkpoint\")\n",
    "    torch.save(state, filename)"
   ]
  },
  {
   "cell_type": "code",
   "execution_count": null,
   "metadata": {},
   "outputs": [],
   "source": [
    "checkpoint = {\n",
    "    \"state_dict\": model.state_dict(),\n",
    "    \"optimizer\": optimizer.state_dict(),\n",
    "    \"train_dataset\": train_dataset\n",
    "}\n",
    "save_checkpoint(checkpoint)"
   ]
  },
  {
   "cell_type": "code",
   "execution_count": null,
   "metadata": {},
   "outputs": [],
   "source": []
  }
 ],
 "metadata": {
  "kernelspec": {
   "display_name": "Python 3 (ipykernel)",
   "language": "python",
   "name": "python3"
  },
  "language_info": {
   "codemirror_mode": {
    "name": "ipython",
    "version": 3
   },
   "file_extension": ".py",
   "mimetype": "text/x-python",
   "name": "python",
   "nbconvert_exporter": "python",
   "pygments_lexer": "ipython3",
   "version": "3.7.0"
  }
 },
 "nbformat": 4,
 "nbformat_minor": 4
}
