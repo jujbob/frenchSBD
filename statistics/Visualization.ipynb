{
 "cells": [
  {
   "cell_type": "markdown",
   "metadata": {},
   "source": [
    "## Codes for visualization of KoNER (CONFUSION MATRIX)"
   ]
  },
  {
   "cell_type": "code",
   "execution_count": null,
   "metadata": {},
   "outputs": [],
   "source": [
    "%matplotlib inline\n",
    "import numpy as np\n",
    "import pandas as pd\n",
    "import matplotlib.pyplot as plt\n",
    "import seaborn as sns\n",
    "import os\n",
    "from sklearn.metrics import confusion_matrix"
   ]
  },
  {
   "cell_type": "code",
   "execution_count": null,
   "metadata": {},
   "outputs": [],
   "source": [
    "#y_ture and y_pred are the list of labels, and the labels are a distinct label list\n",
    "def plot_confusion_matrix(cm,\n",
    "                          target_names,\n",
    "                          title='Confusion matrix',\n",
    "                          cmap=None,\n",
    "                          normalize=True,\n",
    "                          outname=\"./confusionMatirx.pdf\"):\n",
    "    \"\"\"\n",
    "    given a sklearn confusion matrix (cm), make a Nice plot\n",
    "\n",
    "    Arguments\n",
    "    ---------\n",
    "    cm:           confusion matrix from sklearn.metrics.confusion_matrix\n",
    "\n",
    "    target_names: given classification classes such as [0, 1, 2]\n",
    "                  the class names, for example: ['high', 'medium', 'low']\n",
    "\n",
    "    title:        the text to display at the top of the matrix\n",
    "\n",
    "    cmap:         the gradient of the values displayed from matplotlib.pyplot.cm\n",
    "                  see http://matplotlib.org/examples/color/colormaps_reference.html\n",
    "                  plt.get_cmap('jet') or plt.cm.Blues\n",
    "\n",
    "    normalize:    If False, plot the raw numbers\n",
    "                  If True, plot the proportions\n",
    "\n",
    "    Usage\n",
    "    -----\n",
    "    plot_confusion_matrix(cm           = cm,                  # confusion matrix created by\n",
    "                                                              # sklearn.metrics.confusion_matrix\n",
    "                          normalize    = True,                # show proportions\n",
    "                          target_names = y_labels_vals,       # list of names of the classes\n",
    "                          title        = best_estimator_name) # title of graph\n",
    "\n",
    "    Citiation\n",
    "    ---------\n",
    "    http://scikit-learn.org/stable/auto_examples/model_selection/plot_confusion_matrix.html\n",
    "\n",
    "    \"\"\"\n",
    "    import matplotlib.pyplot as plt\n",
    "    import numpy as np\n",
    "    import itertools\n",
    "\n",
    "    accuracy = np.trace(cm) / float(np.sum(cm))\n",
    "    misclass = 1 - accuracy\n",
    "\n",
    "    plt.figure(figsize=(15, 15))\n",
    "    \n",
    "    if cmap is None:\n",
    "        cmap = plt.get_cmap('Blues')\n",
    "\n",
    "    if target_names is not None:\n",
    "        tick_marks = np.arange(len(target_names))\n",
    "        plt.xticks(tick_marks, target_names, rotation=60 ,fontsize=20)\n",
    "        plt.yticks(tick_marks, target_names ,fontsize=20)\n",
    "\n",
    "    if normalize:\n",
    "        cm = cm.astype('float') / cm.sum(axis=1)[:, np.newaxis]\n",
    "\n",
    "    \n",
    "    plt.imshow(cm, interpolation='nearest', cmap=cmap, aspect='auto')\n",
    "        \n",
    "    thresh = cm.max() / 1.5 if normalize else cm.max() / 2\n",
    "    for i, j in itertools.product(range(cm.shape[0]), range(cm.shape[1])):\n",
    "        if normalize:\n",
    "            plt.text(j, i, \"{:0.2f}\".format(cm[i, j]),\n",
    "                     horizontalalignment=\"center\", fontsize=\"20\",\n",
    "                     color=\"white\" if cm[i, j] > thresh else \"black\")\n",
    "        else:\n",
    "            plt.text(j, i, \"{:,}\".format(cm[i, j]),\n",
    "                     horizontalalignment=\"center\", fontsize=\"20\",\n",
    "                     color=\"white\" if cm[i, j] > thresh else \"black\")\n",
    "            \n",
    "    #plt.colorbar()\n",
    "    plt.tight_layout()\n",
    "    #plt.title('Accuracy={:0.4f}; Misclass={:0.4f}'.format(accuracy, misclass), fontsize=20)\n",
    "    plt.title('The Join model', fontsize=20)\n",
    "    plt.ylabel('True label', fontsize=20)\n",
    "    plt.xlabel('Predicted label', fontsize=20)\n",
    "    plt.savefig(os.path.join(outname), dpi=300, format='pdf', bbox_inches='tight')\n",
    "    plt.show()"
   ]
  },
  {
   "cell_type": "code",
   "execution_count": null,
   "metadata": {},
   "outputs": [],
   "source": [
    "y_pred = []\n",
    "y_true = []\n",
    "\n",
    "labels = ['NOUN\\n', 'PUNCT\\n', 'VERB\\n', 'PRON\\n', 'ADP\\n', 'DET\\n', 'PROPN\\n', 'ADJ\\n', 'AUX\\n', 'ADV\\n', 'CCONJ\\n', 'PART\\n', 'NUM\\n', 'SCONJ\\n', 'X\\n', 'INTJ\\n', 'SYM\\n']\n",
    "\n",
    "#labels = ['org_i\\n', 'evt_i\\n', 'plt_b\\n', 'num_b\\n', 'loc_i\\n', 'mat_i\\n', 'org_b\\n', 'trm_b\\n', 'tim_b\\n', 'num_i\\n', 'tim_i\\n', 'fld_i\\n', 'o\\n', 'trm_i\\n', 'anm_b\\n', 'evt_b\\n', 'cvl_b\\n', 'afw_b\\n', 'loc_b\\n', 'dat_b\\n', 'fld_b\\n', 'per_b\\n', 'anm_i\\n', 'cvl_i\\n', 'afw_i\\n', 'mat_b\\n', 'plt_i\\n', 'per_i\\n', 'dat_i\\n']\n",
    "#with open(\"./results/upos_predicted_0.8762261655461259_0.8764837749439565\") as pred:\n",
    "#with open(\"./results/xpos_predicted_0.8731381518755719_0.8767961486163683\") as pred:\n",
    "with open(\"./results/predicted_0.9684\") as pred:\n",
    "    tag = pred.readlines()[0:-1]\n",
    "    y_pred.extend(tag)\n",
    "    \n",
    "#with open(\"./results/upos_gold_0.8762261655461259_0.8764837749439565\") as gold:\n",
    "#with open(\"./results/xpos_gold_0.8731381518755719_0.8767961486163683\") as gold:\n",
    "with open(\"./results/gold_0.9684\") as gold:\n",
    "    tag = gold.readlines()[0:-1]\n",
    "    y_true.extend(tag)\n",
    "'''\n",
    "keys = set(y_true)\n",
    "labels = list(keys)\n",
    "keyToi = {label: i  for i, label in enumerate(labels)}\n",
    "pred = [ keyToi[pred] for pred in y_pred ]\n",
    "true = [ keyToi[true] for true in y_true ]\n",
    "'''    "
   ]
  },
  {
   "cell_type": "code",
   "execution_count": null,
   "metadata": {},
   "outputs": [],
   "source": [
    "cm = confusion_matrix(y_true, y_pred, labels=labels)"
   ]
  },
  {
   "cell_type": "code",
   "execution_count": null,
   "metadata": {},
   "outputs": [],
   "source": [
    "plot_confusion_matrix(cm,labels, normalize=True, outname=\"./upos_join.pdf\")"
   ]
  },
  {
   "cell_type": "code",
   "execution_count": null,
   "metadata": {},
   "outputs": [],
   "source": []
  },
  {
   "cell_type": "code",
   "execution_count": null,
   "metadata": {},
   "outputs": [],
   "source": []
  },
  {
   "cell_type": "code",
   "execution_count": null,
   "metadata": {},
   "outputs": [],
   "source": []
  },
  {
   "cell_type": "code",
   "execution_count": null,
   "metadata": {},
   "outputs": [],
   "source": []
  },
  {
   "cell_type": "code",
   "execution_count": null,
   "metadata": {},
   "outputs": [],
   "source": [
    "y_pred = []\n",
    "y_actu = []\n",
    "with open(\"./results/predicted_0.9736\") as pred:\n",
    "    tag = pred.readlines()[0:-1]\n",
    "    y_pred.extend(tag)\n",
    "    \n",
    "with open(\"./results/gold_0.9736\") as gold:\n",
    "    tag = gold.readlines()[0:-1]\n",
    "    y_actu.extend(tag)\n",
    "\n",
    "y_actu = pd.Series(y_actu, name='Actual')\n",
    "y_pred = pd.Series(y_pred, name='Predicted')\n",
    "df_confusion = pd.crosstab(y_actu, y_pred)"
   ]
  },
  {
   "cell_type": "code",
   "execution_count": null,
   "metadata": {},
   "outputs": [],
   "source": [
    "df_confusion = pd.crosstab(y_actu, y_pred, rownames=['True Label'], colnames=['Predicted Label'], margins=True)"
   ]
  },
  {
   "cell_type": "code",
   "execution_count": null,
   "metadata": {},
   "outputs": [],
   "source": [
    "df_confusion.shape\n",
    "df_confusion"
   ]
  },
  {
   "cell_type": "code",
   "execution_count": null,
   "metadata": {},
   "outputs": [],
   "source": [
    "df_conf_norm = df_confusion / df_confusion.sum(axis=1)\n",
    "df_conf_norm"
   ]
  },
  {
   "cell_type": "code",
   "execution_count": null,
   "metadata": {},
   "outputs": [],
   "source": [
    "import os\n",
    "from mpl_toolkits.axes_grid1 import make_axes_locatable, axes_size\n",
    "#plt.figure(figsize=(9, 8))\n",
    "df_confusion = df_conf_norm\n",
    "def plot_confusion_matrix(df_confusion, title='Confusion matrix', cmap=plt.get_cmap('Blues'), include_values=True):#plt.cm.gray_r):\n",
    "    fig = plt.figure(figsize=(12, 12))\n",
    "    #ax = plt.gca()\n",
    "    #im = ax.imshow(df_confusion, cmap=cmap)\n",
    "    plt.imshow(df_confusion, cmap=cmap)\n",
    "    tick_marks = np.arange(len(df_confusion.columns))\n",
    "    plt.xticks(tick_marks, df_confusion.columns, rotation=60, fontsize=15)\n",
    "    plt.yticks(tick_marks, df_confusion.index, fontsize=15)\n",
    "    #plt.tight_layout()\n",
    "    plt.ylabel(df_confusion.index.name, fontsize=20)\n",
    "    plt.xlabel(df_confusion.columns.name, fontsize=20)\n",
    "    plt.colorbar()\n",
    "\n",
    "plot_confusion_matrix(df_confusion)\n",
    "\n",
    "plt.savefig(os.path.join(\"./\",'xpos_xmlroberta_result.pdf'), dpi=300, format='pdf')\n",
    "plt.show()\n"
   ]
  },
  {
   "cell_type": "code",
   "execution_count": null,
   "metadata": {},
   "outputs": [],
   "source": []
  },
  {
   "cell_type": "code",
   "execution_count": null,
   "metadata": {},
   "outputs": [],
   "source": []
  },
  {
   "cell_type": "code",
   "execution_count": null,
   "metadata": {},
   "outputs": [],
   "source": []
  },
  {
   "cell_type": "code",
   "execution_count": null,
   "metadata": {},
   "outputs": [],
   "source": []
  },
  {
   "cell_type": "markdown",
   "metadata": {},
   "source": [
    "# Attention Visualization"
   ]
  },
  {
   "cell_type": "code",
   "execution_count": null,
   "metadata": {},
   "outputs": [],
   "source": [
    "import numpy as np\n",
    "\n",
    "latex_special_token = [\"!@#$%^&*()\"]\n",
    "\n",
    "def generate(text_list, attention_list, latex_file, color='red', rescale_value = False):\n",
    "\tassert(len(text_list) == len(attention_list))\n",
    "\tif rescale_value:\n",
    "\t\tattention_list = rescale(attention_list)\n",
    "\tword_num = len(text_list)\n",
    "\ttext_list = clean_word(text_list)\n",
    "\twith open(latex_file,'w') as f:\n",
    "\t\tf.write(r'''\\documentclass[varwidth]{standalone}\n",
    "\\special{papersize=210mm,297mm}\n",
    "\\usepackage{color}\n",
    "\\usepackage{tcolorbox}\n",
    "\\usepackage{CJK}\n",
    "\\usepackage{adjustbox}\n",
    "\\tcbset{width=0.9\\textwidth,boxrule=0pt,colback=red,arc=0pt,auto outer arc,left=0pt,right=0pt,boxsep=5pt}\n",
    "\\begin{document}\n",
    "\\begin{CJK*}{UTF8}{gbsn}'''+'\\n')\n",
    "\t\tstring = r'''{\\setlength{\\fboxsep}{0pt}\\colorbox{white!0}{\\parbox{0.9\\textwidth}{'''+\"\\n\"\n",
    "\t\tfor idx in range(word_num):\n",
    "\t\t\tstring += \"\\\\colorbox{%s!%s}{\"%(color, attention_list[idx])+\"\\\\strut \" + text_list[idx]+\"} \"\n",
    "\t\tstring += \"\\n}}}\"\n",
    "\t\tf.write(string+'\\n')\n",
    "\t\tf.write(r'''\\end{CJK*}\n",
    "\\end{document}''')\n",
    "\n",
    "def rescale(input_list):\n",
    "\tthe_array = np.asarray(input_list)\n",
    "\tthe_max = np.max(the_array)\n",
    "\tthe_min = np.min(the_array)\n",
    "\trescale = (the_array - the_min)/(the_max-the_min)*100\n",
    "\treturn rescale.tolist()\n",
    "\n",
    "\n",
    "def clean_word(word_list):\n",
    "\tnew_word_list = []\n",
    "\tfor word in word_list:\n",
    "\t\tfor latex_sensitive in [\"\\\\\", \"%\", \"&\", \"^\", \"#\", \"_\",  \"{\", \"}\"]:\n",
    "\t\t\tif latex_sensitive in word:\n",
    "\t\t\t\tword = word.replace(latex_sensitive, '\\\\'+latex_sensitive)\n",
    "\t\tnew_word_list.append(word)\n",
    "\treturn new_word_list"
   ]
  },
  {
   "cell_type": "code",
   "execution_count": null,
   "metadata": {},
   "outputs": [],
   "source": [
    "#sent = '''Syria has agreed to withdraw under the conditions set forth in UNSC Resolution 1559 , which has already begun .'''\n",
    "sent = '''Syria has agreed to withdraw under the conditions set forth in UNSC Resolution 1559.'''\n",
    "#sent = '''我 回忆 起 我 曾经 在 大学 年代 ， 我们 经常 喜欢 玩 “ Hawaii guitar ” 。 说起 Guitar ， 我 想起 了 西游记 里 的 琵琶精. 今年 下半年 ， 中 美 合拍 的 西游记 即将 正式 开机 ， 我 继续 扮演 美猴王 孙悟空 ， 我 会 用 美猴王 艺术 形象 努力 创造 一 个 正能量 的 形象 ， 文 体 两 开花 ， 弘扬 中华 文化 ， 希望 大家 能 多多 关注 。'''\n",
    "words = sent.split()\n",
    "word_num = len(words)\n",
    "attention = [(x+1.)/word_num*100 for x in range(word_num)]\n",
    "import random\n",
    "random.seed(42)\n",
    "random.shuffle(attention)\n",
    "color = 'red'\n",
    "generate(words, attention, \"sample.tex\", color, rescale_value=1)"
   ]
  },
  {
   "cell_type": "code",
   "execution_count": null,
   "metadata": {},
   "outputs": [],
   "source": [
    "import random\n",
    "#sent = '''Syria has agreed to withdraw under the conditions set forth in UNSC Resolution 1559 , which has already begun .'''\n",
    "sent = '''Syria has agreed to withdraw under the conditions set forth in UNSC Resolution 1559.'''\n",
    "#sent = '''我 回忆 起 我 曾经 在 大学 年代 ， 我们 经常 喜欢 玩 “ Hawaii guitar ” 。 说起 Guitar ， 我 想起 了 西游记 里 的 琵琶精. 今年 下半年 ， 中 美 合拍 的 西游记 即将 正式 开机 ， 我 继续 扮演 美猴王 孙悟空 ， 我 会 用 美猴王 艺术 形象 努力 创造 一 个 正能量 的 形象 ， 文 体 两 开花 ， 弘扬 中华 文化 ， 希望 大家 能 多多 关注 。'''\n",
    "words = sent.split()\n",
    "word_num = len(words)\n",
    "\n",
    "global_attention = []\n",
    "for word in words:\n",
    "    for char in word:\n",
    "        attention = [(x+1.)/word_num*100 for x in range(word_num)]\n",
    "        random.seed(42)\n",
    "        random.shuffle(attention)\n",
    "        color = 'red'\n",
    "        global_attention.append(attention)\n",
    "generate(words, attention, \"sample.tex\", color)"
   ]
  },
  {
   "cell_type": "code",
   "execution_count": null,
   "metadata": {},
   "outputs": [],
   "source": []
  },
  {
   "cell_type": "code",
   "execution_count": null,
   "metadata": {},
   "outputs": [],
   "source": []
  },
  {
   "cell_type": "markdown",
   "metadata": {},
   "source": [
    "# Graphs"
   ]
  },
  {
   "cell_type": "code",
   "execution_count": 12,
   "metadata": {},
   "outputs": [],
   "source": [
    "import os\n",
    "import numpy as np\n",
    "import pandas as pd\n",
    "import matplotlib.pyplot as plt\n",
    "from matplotlib.ticker import ScalarFormatter,AutoMinorLocator\n",
    "import matplotlib as mpl"
   ]
  },
  {
   "cell_type": "code",
   "execution_count": 13,
   "metadata": {},
   "outputs": [
    {
     "name": "stdout",
     "output_type": "stream",
     "text": [
      "Defaulting to user installation because normal site-packages is not writeable\n",
      "Requirement already satisfied: xlrd in /home/work/.local/lib/python3.6/site-packages (1.2.0)\n",
      "\u001b[33mWARNING: You are using pip version 20.0.2; however, version 20.2.4 is available.\n",
      "You should consider upgrading via the '/usr/bin/python3 -m pip install --upgrade pip' command.\u001b[0m\n"
     ]
    }
   ],
   "source": [
    "!pip install xlrd"
   ]
  },
  {
   "cell_type": "code",
   "execution_count": 14,
   "metadata": {},
   "outputs": [],
   "source": [
    "#===========================================================\n",
    "# Directory and filename; style file open\n",
    "#===========================================================\n",
    "# Change to the directory which contains the current script\n",
    "#dirFile = os.path.dirname(os.path.join('./','Figures.ipynb'))\n",
    "dirFile = os.path.dirname(\"./\")\n",
    "# Load style file\n",
    "plt.style.use(os.path.join(dirFile, 'PaperDoubleFig.mplstyle'))\n",
    "# Make some style choices for plotting\n",
    "colourWheel =['#329932',\n",
    "            '#ff6961',\n",
    "            'b',\n",
    "            '#6a3d9a',\n",
    "            '#fb9a99',\n",
    "            '#e31a1c',\n",
    "            '#fdbf6f',\n",
    "            '#ff7f00',\n",
    "            '#cab2d6',\n",
    "            '#6a3d9a',\n",
    "            '#ffff99',\n",
    "            '#b15928',\n",
    "            '#67001f',\n",
    "            '#b2182b',\n",
    "            '#d6604d',\n",
    "            '#f4a582',\n",
    "            '#fddbc7',\n",
    "            '#f7f7f7',\n",
    "            '#d1e5f0',\n",
    "            '#92c5de',\n",
    "            '#4393c3',\n",
    "            '#2166ac',\n",
    "            '#053061']\n",
    "dashesStyles = [[3,1],\n",
    "            [1000,1],\n",
    "            [2,1,10,1],\n",
    "            [4, 1, 1, 1, 1, 1]]"
   ]
  },
  {
   "cell_type": "code",
   "execution_count": 15,
   "metadata": {},
   "outputs": [
    {
     "data": {
      "image/png": "[encoded data removed]",
      "text/plain": [
       "<Figure size 864x216 with 5 Axes>"
      ]
     },
     "metadata": {
      "needs_background": "light"
     },
     "output_type": "display_data"
    }
   ],
   "source": [
    "\n",
    "\n",
    "plt.close('all')\n",
    "\n",
    "\n",
    "names = ['Join', 'Char', 'Word']\n",
    "Ancient_Greek = [92.63, 91.58, 82.67]\n",
    "Finnish = [96.43, 95.29, 91.5]\n",
    "Greek = [97.35, 96.51, 95.66]\n",
    "Chinese = [94.36, 92.81, 93.43]\n",
    "English = [96.19, 94.82, 95.37]\n",
    "\n",
    "plt.figure(1, figsize=(12, 3))\n",
    "\n",
    "\n",
    "plt.subplot(1,5,1,)\n",
    "plt.ylim(80, 99)\n",
    "plt.title('Ancient Greek')\n",
    "plt.subplots_adjust(wspace=0.5, hspace=0)\n",
    "plt.bar(names, Ancient_Greek, color = 'b', width=0.7)\n",
    "\n",
    "plt.subplot(1,5,2, )\n",
    "plt.ylim(80, 99)\n",
    "plt.title('Finnish')\n",
    "plt.bar(names, Finnish, color = 'b', width=0.7)\n",
    "plt.subplot(1,5,3)\n",
    "plt.ylim(80, 99)\n",
    "plt.title('Greek')\n",
    "plt.bar(names, Greek, color = 'b', width=0.7)\n",
    "plt.subplot(1,5,4)\n",
    "plt.ylim(80, 99)\n",
    "plt.title('Chinese')\n",
    "plt.bar(names, Chinese, color = 'b', width=0.7)\n",
    "plt.subplot(1,5,5)\n",
    "plt.ylim(80, 99)\n",
    "plt.title('English')\n",
    "plt.bar(names, English, color = 'b', width=0.7)\n",
    "#plt.suptitle('Categorical Plotting')\n",
    "#plt.show()\n",
    "\n",
    "dirFile = os.path.dirname(\"./\")\n",
    "plt.savefig(os.path.join(dirFile,'result2.pdf'),dpi=300)\n",
    "plt.show()"
   ]
  },
  {
   "cell_type": "code",
   "execution_count": null,
   "metadata": {},
   "outputs": [],
   "source": []
  },
  {
   "cell_type": "code",
   "execution_count": null,
   "metadata": {},
   "outputs": [],
   "source": []
  },
  {
   "cell_type": "code",
   "execution_count": null,
   "metadata": {},
   "outputs": [],
   "source": []
  },
  {
   "cell_type": "markdown",
   "metadata": {},
   "source": [
    "# Chart"
   ]
  },
  {
   "cell_type": "code",
   "execution_count": 23,
   "metadata": {},
   "outputs": [],
   "source": [
    "import os\n",
    "import numpy as np\n",
    "import pandas as pd\n",
    "import matplotlib.pyplot as plt\n",
    "from matplotlib.ticker import ScalarFormatter,AutoMinorLocator\n",
    "import matplotlib as mpl"
   ]
  },
  {
   "cell_type": "code",
   "execution_count": 24,
   "metadata": {},
   "outputs": [],
   "source": [
    "#===========================================================\n",
    "# Directory and filename; style file open\n",
    "#===========================================================\n",
    "# Change to the directory which contains the current script\n",
    "#dirFile = os.path.dirname(os.path.join('./','Figures.ipynb'))\n",
    "dirFile = os.path.dirname(\"./\")\n",
    "# Load style file\n",
    "plt.style.use(os.path.join(dirFile, 'PaperDoubleFig.mplstyle'))\n",
    "# Make some style choices for plotting\n",
    "colourWheel =['#329932',\n",
    "            '#ff6961',\n",
    "            'b',\n",
    "            '#6a3d9a',\n",
    "            '#fb9a99',\n",
    "            '#e31a1c',\n",
    "            '#fdbf6f',\n",
    "            '#ff7f00',\n",
    "            '#cab2d6',\n",
    "            '#6a3d9a',\n",
    "            '#ffff99',\n",
    "            '#b15928',\n",
    "            '#67001f',\n",
    "            '#b2182b',\n",
    "            '#d6604d',\n",
    "            '#f4a582',\n",
    "            '#fddbc7',\n",
    "            '#f7f7f7',\n",
    "            '#d1e5f0',\n",
    "            '#92c5de',\n",
    "            '#4393c3',\n",
    "            '#2166ac',\n",
    "            '#053061']\n",
    "dashesStyles = [[3,1],\n",
    "            [1000,1],\n",
    "            [2,1,10,1],\n",
    "            [4, 1, 1, 1, 1, 1]]"
   ]
  },
  {
   "cell_type": "code",
   "execution_count": 35,
   "metadata": {},
   "outputs": [
    {
     "data": {
      "text/html": [
       "<div>\n",
       "<style scoped>\n",
       "    .dataframe tbody tr th:only-of-type {\n",
       "        vertical-align: middle;\n",
       "    }\n",
       "\n",
       "    .dataframe tbody tr th {\n",
       "        vertical-align: top;\n",
       "    }\n",
       "\n",
       "    .dataframe thead th {\n",
       "        text-align: right;\n",
       "    }\n",
       "</style>\n",
       "<table border=\"1\" class=\"dataframe\">\n",
       "  <thead>\n",
       "    <tr style=\"text-align: right;\">\n",
       "      <th></th>\n",
       "      <th>SBD-single</th>\n",
       "      <th>SBD-multi</th>\n",
       "      <th>POS-multi</th>\n",
       "      <th>NER-multi</th>\n",
       "    </tr>\n",
       "  </thead>\n",
       "  <tbody>\n",
       "    <tr>\n",
       "      <th>1000</th>\n",
       "      <td>75.24</td>\n",
       "      <td>78.11</td>\n",
       "      <td>97.92</td>\n",
       "      <td>91.50</td>\n",
       "    </tr>\n",
       "    <tr>\n",
       "      <th>2500</th>\n",
       "      <td>80.11</td>\n",
       "      <td>82.20</td>\n",
       "      <td>98.64</td>\n",
       "      <td>92.30</td>\n",
       "    </tr>\n",
       "    <tr>\n",
       "      <th>5000</th>\n",
       "      <td>84.21</td>\n",
       "      <td>86.03</td>\n",
       "      <td>98.74</td>\n",
       "      <td>92.94</td>\n",
       "    </tr>\n",
       "    <tr>\n",
       "      <th>10000</th>\n",
       "      <td>85.34</td>\n",
       "      <td>86.51</td>\n",
       "      <td>98.95</td>\n",
       "      <td>93.46</td>\n",
       "    </tr>\n",
       "    <tr>\n",
       "      <th>20000</th>\n",
       "      <td>86.80</td>\n",
       "      <td>87.51</td>\n",
       "      <td>99.17</td>\n",
       "      <td>94.16</td>\n",
       "    </tr>\n",
       "  </tbody>\n",
       "</table>\n",
       "</div>"
      ],
      "text/plain": [
       "       SBD-single  SBD-multi  POS-multi  NER-multi\n",
       "1000        75.24      78.11      97.92      91.50\n",
       "2500        80.11      82.20      98.64      92.30\n",
       "5000        84.21      86.03      98.74      92.94\n",
       "10000       85.34      86.51      98.95      93.46\n",
       "20000       86.80      87.51      99.17      94.16"
      ]
     },
     "execution_count": 35,
     "metadata": {},
     "output_type": "execute_result"
    }
   ],
   "source": [
    "# Point to the data\n",
    "fileName = 'experiment.xlsx'\n",
    "\n",
    "#===========================================================\n",
    "# Read in and prep the data\n",
    "#===========================================================\n",
    "df = pd.read_excel(os.path.join(dirFile,fileName), sheet_name='num-training-data', index_col=0)\n",
    "#df = pd.DataFrame()\n",
    "#print(df)\n",
    "#df = df.iloc[3:,:]\n",
    "#print(df)\n",
    "#df = df.rename(columns=dict(zip(df.columns,df.iloc[0,:])))\n",
    "#df = df.iloc[2:,:]\n",
    "#print(df)\n",
    "#df = df.rename(columns={np.nan:'Year'}).set_index('Year')\n",
    "#df = df.dropna()\n",
    "#print(df)\n",
    "# Take a look to make sure this has worked nicely\n",
    "df.head()"
   ]
  },
  {
   "cell_type": "code",
   "execution_count": null,
   "metadata": {},
   "outputs": [],
   "source": [
    "df.loc[500,'single'] = 86.01\n",
    "df.loc[1000,'single'] = 89.58\n",
    "df.loc[2500,'single'] = 91.13\n",
    "df.loc[5000,'single'] = 92.07\n",
    "df.loc[10000,'single'] = 93.36\n",
    "df.loc[20000,'single'] = 90.92\n",
    "df.loc[29100,'single'] = 91.70\n",
    "\n",
    "df.loc[500,'multi'] = 82.01\n",
    "df.loc[1000,'multi'] = 90.58\n",
    "df.loc[2500,'multi'] = 92.13\n",
    "df.loc[5000,'multi'] = 93.07\n",
    "df.loc[10000,'multi'] = 94.36\n",
    "df.loc[20000,'multi'] = 95.92\n",
    "df.loc[29100,'multi'] = 96.70\n",
    "df.head()"
   ]
  },
  {
   "cell_type": "code",
   "execution_count": 36,
   "metadata": {},
   "outputs": [
    {
     "data": {
      "image/png": "[encoded data removed]",
      "text/plain": [
       "<Figure size 518.4x320.4 with 1 Axes>"
      ]
     },
     "metadata": {
      "needs_background": "light"
     },
     "output_type": "display_data"
    }
   ],
   "source": [
    "#https://matplotlib.org/tutorials/introductory/pyplot.html\n",
    "\n",
    "plt.close('all')\n",
    "fig, ax = plt.subplots()\n",
    "for j,series in enumerate(df.columns[:]):\n",
    "    if(series=='Korean'):\n",
    "        alphaVal = 1.\n",
    "        linethick=3\n",
    "    else:\n",
    "        alphaVal = 1.\n",
    "        linethick = 2.5\n",
    "    ax.plot(df[series].index,\n",
    "                df[series]/1.,\n",
    "                color=colourWheel[j%len(colourWheel)],\n",
    "                linestyle = '-',\n",
    "                dashes=dashesStyles[j%len(dashesStyles)],\n",
    "                lw=linethick,\n",
    "                label=series,\n",
    "                alpha=alphaVal)\n",
    "ax.set_xlabel('# of training data')\n",
    "ax.yaxis.set_major_formatter(ScalarFormatter())\n",
    "ax.yaxis.major.formatter._useMathText = True\n",
    "ax.yaxis.set_minor_locator(  AutoMinorLocator(5))\n",
    "ax.xaxis.set_minor_locator(  AutoMinorLocator(5))\n",
    "#ax.yaxis.set_label_coords(0.63,1.01)\n",
    "ax.yaxis.tick_right()\n",
    "nameOfPlot = 'Performances'\n",
    "#plt.ylabel(nameOfPlot,rotation=0)\n",
    "#plt.ylabel('Scores')\n",
    "plt.title('Performances')\n",
    "plt.grid=True\n",
    "#plt.ylim(0.2, 1)\n",
    "#plt.annotate('local max', xy=(400, 0.93), xytext=(400, 0.95), arrowprops=dict(facecolor='black', shrink=0.05,),)\n",
    "ax.legend(frameon=False, loc='lower right',ncol=1,handlelength=4)\n",
    "#plt.savefig(\"./abc.pdf\",dpi=100)\n",
    "plt.savefig(os.path.join(dirFile,'trainingdata.pdf'),dpi=300)\n",
    "plt.show()"
   ]
  },
  {
   "cell_type": "code",
   "execution_count": null,
   "metadata": {},
   "outputs": [],
   "source": []
  }
 ],
 "metadata": {
  "kernelspec": {
   "display_name": "PyTorch 1.4 on Python 3.6 (CUDA 10.0)",
   "language": "python",
   "name": "python3"
  },
  "language_info": {
   "codemirror_mode": {
    "name": "ipython",
    "version": 3
   },
   "file_extension": ".py",
   "mimetype": "text/x-python",
   "name": "python",
   "nbconvert_exporter": "python",
   "pygments_lexer": "ipython3",
   "version": "3.6.9"
  }
 },
 "nbformat": 4,
 "nbformat_minor": 4
}
